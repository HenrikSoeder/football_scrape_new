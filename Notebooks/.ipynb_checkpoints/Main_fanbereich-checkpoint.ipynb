{
 "cells": [
  {
   "cell_type": "code",
   "execution_count": 1,
   "id": "df7f13a9",
   "metadata": {},
   "outputs": [],
   "source": [
    "import pandas as pd\n",
    "from bs4 import BeautifulSoup\n",
    "import numpy as np\n",
    "import requests\n",
    "import html5lib\n",
    "import datetime"
   ]
  },
  {
   "cell_type": "code",
   "execution_count": 2,
   "id": "9517bbc7",
   "metadata": {},
   "outputs": [],
   "source": [
    "pd.set_option('display.max_colwidth', None)"
   ]
  },
  {
   "cell_type": "code",
   "execution_count": 3,
   "id": "cd197156",
   "metadata": {},
   "outputs": [],
   "source": [
    "new_dict = {}"
   ]
  },
  {
   "cell_type": "code",
   "execution_count": 4,
   "id": "5e33c14d",
   "metadata": {},
   "outputs": [],
   "source": [
    "df_old = pd.read_excel(\"/Users/henriksoeder/Documents/Arbeit/Python/Football_Scrape/Tabellen/fanbereich_übersicht.xlsx\")"
   ]
  },
  {
   "cell_type": "markdown",
   "id": "c62850ab",
   "metadata": {},
   "source": [
    "# Functions"
   ]
  },
  {
   "cell_type": "code",
   "execution_count": 5,
   "id": "48f15c40",
   "metadata": {},
   "outputs": [],
   "source": [
    "def get_title(url):\n",
    "    response = requests.get(url)\n",
    "    soup = BeautifulSoup(response.content)\n",
    "    title = soup.find(\"title\").get_text().strip()\n",
    "    \n",
    "    return title\n",
    "\n",
    "def appending():\n",
    "    new_dict[index] = {\"Verein\" : verein,\n",
    "                      \"Name\" : title,\n",
    "                      \"Fanseite\" : website,\n",
    "                      \"Vereinsseite\" : vereinsseite,\n",
    "                      \"Bild Titel\" : bilder_titel,\n",
    "                      \"Neuste Bilder\" : pictures,\n",
    "                      \"Text Titel\" : text_titel,\n",
    "                      \"Neuster Text\" : text,\n",
    "                      \"Liga\" : liga,\n",
    "                      \"Logo\" : icon,\n",
    "                      \"Hintergrundbild\" : hintergrundbild,\n",
    "                       \"Mitgliederzahl\" : mitgliederanzahl,\n",
    "                       \"Gründungsjahr\" : gründungsjahr,\n",
    "                       \"Ticketing\" : ticketing,\n",
    "                      }\n",
    "    \n",
    "# tabellen erstellen\n",
    "\n",
    "def tabelle_1():\n",
    "    my_dict = {}\n",
    "    url = \"https://www.kicker.de/1-bundesliga/tabelle\"\n",
    "    response = requests.get(url)\n",
    "    soup = BeautifulSoup(response.content)\n",
    "    \n",
    "    table = soup.find_all(\"table\", attrs = {\"class\":\"kick__table kick__table--ranking kick__table--alternate kick__table--resptabelle\"})\n",
    "    table = table[0].find_all(\"tbody\")\n",
    "    \n",
    "    index = 1\n",
    "    platzierung = 1\n",
    "    \n",
    "    \n",
    "    while index <37:\n",
    "        team = table[0].find_all(\"span\", attrs = {\"class\" : \"kick__table--show-desktop\"})[index].get_text()\n",
    "        team = team.split(\" (\")[0]\n",
    "        \n",
    "        my_dict[team] = platzierung\n",
    "        platzierung += 1\n",
    "        index +=2\n",
    "        \n",
    "    return my_dict\n",
    "\n",
    "\n",
    "def tabelle_2():\n",
    "    my_dict = {}\n",
    "    url = \"https://www.kicker.de/2-bundesliga/tabelle\"\n",
    "    response = requests.get(url)\n",
    "    soup = BeautifulSoup(response.content)\n",
    "    \n",
    "    table = soup.find_all(\"table\", attrs = {\"class\":\"kick__table kick__table--ranking kick__table--alternate kick__table--resptabelle\"})\n",
    "    table = table[0].find_all(\"tbody\")\n",
    "    \n",
    "    index = 1\n",
    "    platzierung = 1\n",
    "    \n",
    "    \n",
    "    while index <37:\n",
    "        team = table[0].find_all(\"span\", attrs = {\"class\" : \"kick__table--show-desktop\"})[index].get_text()\n",
    "        team = team.split(\" (\")[0]\n",
    "        \n",
    "        my_dict[team] = platzierung\n",
    "        platzierung += 1\n",
    "        index +=2\n",
    "        \n",
    "    return my_dict\n",
    "\n",
    "def tabelle_3():\n",
    "    my_dict = {}\n",
    "    url = \"https://www.kicker.de/3-liga/tabelle\"\n",
    "    response = requests.get(url)\n",
    "    soup = BeautifulSoup(response.content)\n",
    "    \n",
    "    table = soup.find_all(\"table\", attrs = {\"class\":\"kick__table kick__table--ranking kick__table--alternate kick__table--resptabelle\"})\n",
    "    table = table[0].find_all(\"tbody\")\n",
    "    \n",
    "    index = 1\n",
    "    platzierung = 1\n",
    "    \n",
    "    \n",
    "    while index <41:\n",
    "        team = table[0].find_all(\"span\", attrs = {\"class\" : \"kick__table--show-desktop\"})[index].get_text()\n",
    "        team = team.split(\" (\")[0]\n",
    "        \n",
    "        my_dict[team] = platzierung\n",
    "        platzierung += 1\n",
    "        index +=2\n",
    "        \n",
    "    return my_dict"
   ]
  },
  {
   "cell_type": "markdown",
   "id": "928cd755",
   "metadata": {},
   "source": [
    "# Adding the Football Teams"
   ]
  },
  {
   "cell_type": "markdown",
   "id": "377eee93",
   "metadata": {},
   "source": [
    "# Nordtribüne (HSV)"
   ]
  },
  {
   "cell_type": "code",
   "execution_count": 6,
   "id": "d7f1c0ee",
   "metadata": {},
   "outputs": [],
   "source": [
    "index = 0\n",
    "verein = \"Hamburger SV\"\n",
    "liga = \"2. Bundesliga\"\n",
    "vereinsseite = \"https://www.hsv.de/uebersicht\"\n",
    "icon = \"https://upload.wikimedia.org/wikipedia/commons/thumb/f/f7/Hamburger_SV_logo.svg/2560px-Hamburger_SV_logo.svg.png\"\n",
    "hintergrundbild = \"https://nordtribuene-hamburg.de/wp-content/uploads/2022/11/background-scaled.jpg\"\n",
    "mitgliederanzahl = \"100.000\"\n",
    "gründungsjahr = \"1887\"\n",
    "ticketing = \"https://www.ticket-onlineshop.com/ols/hsv/de\""
   ]
  },
  {
   "cell_type": "markdown",
   "id": "5eb3b974",
   "metadata": {},
   "source": [
    "### Name"
   ]
  },
  {
   "cell_type": "code",
   "execution_count": 7,
   "id": "e521f499",
   "metadata": {},
   "outputs": [],
   "source": [
    "# hauptseite\n",
    "url = \"https://nordtribuene-hamburg.de/\" \n",
    "website = url\n",
    "response = requests.get(url)\n",
    "soup = BeautifulSoup(response.content)\n",
    "title = soup.find(\"title\").get_text().strip()"
   ]
  },
  {
   "cell_type": "markdown",
   "id": "6e036079",
   "metadata": {},
   "source": [
    "### Bilder"
   ]
  },
  {
   "cell_type": "code",
   "execution_count": 8,
   "id": "6e3e83fb",
   "metadata": {},
   "outputs": [],
   "source": [
    "# all pictures of 2023/2024\n",
    "url = \"https://nordtribuene-hamburg.de/category/fotos/saison-2023-2024/\" \n",
    "\n",
    "response = requests.get(url)\n",
    "soup = BeautifulSoup(response.content)"
   ]
  },
  {
   "cell_type": "code",
   "execution_count": 9,
   "id": "3f0b5476",
   "metadata": {},
   "outputs": [],
   "source": [
    "# alle bilder\n",
    "pictures = soup.find_all(\"div\", attrs = {\"class\":\"et_pb_ajax_pagination_container\"})\n",
    "pictures = pictures[0].find(\"a\")[\"href\"]"
   ]
  },
  {
   "cell_type": "code",
   "execution_count": 10,
   "id": "1207257f",
   "metadata": {},
   "outputs": [],
   "source": [
    "# Bild name \n",
    "url = pictures\n",
    "response = requests.get(url)\n",
    "soup = BeautifulSoup(response.content)\n",
    "\n",
    "\n",
    "bilder_titel = soup.find(\"title\").get_text().strip()"
   ]
  },
  {
   "cell_type": "markdown",
   "id": "29a70670",
   "metadata": {},
   "source": [
    "### Neuster Beitrag"
   ]
  },
  {
   "cell_type": "code",
   "execution_count": 11,
   "id": "d31ed032",
   "metadata": {},
   "outputs": [],
   "source": [
    "url = \"https://nordtribuene-hamburg.de/\"\n",
    "\n",
    "response = requests.get(url)\n",
    "soup = BeautifulSoup(response.content)"
   ]
  },
  {
   "cell_type": "code",
   "execution_count": 12,
   "id": "a664b81c",
   "metadata": {},
   "outputs": [],
   "source": [
    "# alle beiträge\n",
    "texte = soup.find_all(\"div\", attrs = {\"class\" : \"et_pb_ajax_pagination_container\"})"
   ]
  },
  {
   "cell_type": "code",
   "execution_count": 13,
   "id": "bb9d148e",
   "metadata": {},
   "outputs": [],
   "source": [
    "text = texte[0].find(\"a\")[\"href\"]"
   ]
  },
  {
   "cell_type": "code",
   "execution_count": 14,
   "id": "7e579406",
   "metadata": {},
   "outputs": [],
   "source": [
    "# Text name \n",
    "url = text\n",
    "response = requests.get(url)\n",
    "soup = BeautifulSoup(response.content)\n",
    "\n",
    "\n",
    "text_titel = soup.find(\"title\").get_text().strip()"
   ]
  },
  {
   "cell_type": "markdown",
   "id": "04d7afec",
   "metadata": {},
   "source": [
    "## Appending"
   ]
  },
  {
   "cell_type": "code",
   "execution_count": 15,
   "id": "243a65b7",
   "metadata": {},
   "outputs": [],
   "source": [
    "appending()"
   ]
  },
  {
   "cell_type": "markdown",
   "id": "4ee95fbb",
   "metadata": {},
   "source": [
    "# Frenetic youth/Generation Luzifer (K.Lautern)"
   ]
  },
  {
   "cell_type": "code",
   "execution_count": 16,
   "id": "e2a20116",
   "metadata": {},
   "outputs": [],
   "source": [
    "index = 1\n",
    "verein = \"1. FC Kaiserslautern\"\n",
    "liga = \"2. Bundesliga\"\n",
    "vereinsseite = \"https://fck.de/de/\"\n",
    "icon = \"https://upload.wikimedia.org/wikipedia/commons/thumb/d/d3/Logo_1_FC_Kaiserslautern.svg/1024px-Logo_1_FC_Kaiserslautern.svg.png\"\n",
    "hintergrundbild = \"https://www.generation-luzifer.de/wp-content/uploads/2016/08/bg.jpg\"\n",
    "mitgliederanzahl = \"25.000\"\n",
    "gründungsjahr = \"1900\"\n",
    "ticketing = \"https://shop.fck.de/\""
   ]
  },
  {
   "cell_type": "markdown",
   "id": "0e102f1d",
   "metadata": {},
   "source": [
    "### Name"
   ]
  },
  {
   "cell_type": "code",
   "execution_count": 17,
   "id": "90fdcc15",
   "metadata": {},
   "outputs": [],
   "source": [
    "# hauptseite\n",
    "url = \"https://fykl.de/\" \n",
    "website = url\n",
    "response = requests.get(url)"
   ]
  },
  {
   "cell_type": "code",
   "execution_count": 18,
   "id": "197e3d76",
   "metadata": {},
   "outputs": [],
   "source": [
    "soup = BeautifulSoup(response.content)"
   ]
  },
  {
   "cell_type": "code",
   "execution_count": 19,
   "id": "a03e7662",
   "metadata": {},
   "outputs": [],
   "source": [
    "title = soup.find(\"title\").get_text().strip()"
   ]
  },
  {
   "cell_type": "markdown",
   "id": "5f05e055",
   "metadata": {},
   "source": [
    "### Bilder"
   ]
  },
  {
   "cell_type": "code",
   "execution_count": 20,
   "id": "c971b9c2",
   "metadata": {},
   "outputs": [],
   "source": [
    "url = \"https://www.generation-luzifer.de/\" \n",
    "\n",
    "response = requests.get(url)\n",
    "soup = BeautifulSoup(response.content)\n",
    "pictures = soup.find_all(\"div\", attrs = {\"id\":\"text-4\"})"
   ]
  },
  {
   "cell_type": "code",
   "execution_count": 21,
   "id": "45a1f615",
   "metadata": {},
   "outputs": [],
   "source": [
    "pictures = pictures[0].find(\"a\")[\"href\"]\n",
    "\n",
    "# Bild name \n",
    "url = pictures\n",
    "response = requests.get(url)\n",
    "soup = BeautifulSoup(response.content)\n",
    "\n",
    "\n",
    "bilder_titel = soup.find(\"title\").get_text().strip()"
   ]
  },
  {
   "cell_type": "markdown",
   "id": "39964ac4",
   "metadata": {},
   "source": [
    "### Neuster Beitrag"
   ]
  },
  {
   "cell_type": "code",
   "execution_count": 22,
   "id": "6adb4219",
   "metadata": {},
   "outputs": [],
   "source": [
    "url = \"https://fykl.de/category/aktuelles/\"\n",
    "\n",
    "response = requests.get(url)"
   ]
  },
  {
   "cell_type": "code",
   "execution_count": 23,
   "id": "840c0dc2",
   "metadata": {},
   "outputs": [],
   "source": [
    "soup = BeautifulSoup(response.content)"
   ]
  },
  {
   "cell_type": "code",
   "execution_count": 24,
   "id": "bdc2e22a",
   "metadata": {},
   "outputs": [],
   "source": [
    "# alle beiträge\n",
    "texte = soup.find_all(\"div\", attrs = {\"id\" : \"content\"})"
   ]
  },
  {
   "cell_type": "code",
   "execution_count": 25,
   "id": "35ca1aa1",
   "metadata": {
    "scrolled": true
   },
   "outputs": [],
   "source": [
    "text = texte[0].find(\"a\")[\"href\"]\n",
    "\n",
    "# Text name \n",
    "url = text\n",
    "response = requests.get(url)\n",
    "soup = BeautifulSoup(response.content)\n",
    "\n",
    "\n",
    "text_titel = soup.find(\"title\").get_text().strip()"
   ]
  },
  {
   "cell_type": "markdown",
   "id": "68b2839a",
   "metadata": {},
   "source": [
    "### Appending"
   ]
  },
  {
   "cell_type": "code",
   "execution_count": 26,
   "id": "7469cfc3",
   "metadata": {},
   "outputs": [],
   "source": [
    "appending()"
   ]
  },
  {
   "cell_type": "markdown",
   "id": "1785a306",
   "metadata": {},
   "source": [
    "# UGE (Schalke)"
   ]
  },
  {
   "cell_type": "code",
   "execution_count": 27,
   "id": "d0d8b78b",
   "metadata": {},
   "outputs": [],
   "source": [
    "index = 2\n",
    "verein = \"FC Schalke 04\"\n",
    "liga = \"2. Bundesliga\"\n",
    "vereinsseite = \"https://schalke04.de/\"\n",
    "icon = \"https://upload.wikimedia.org/wikipedia/commons/thumb/6/6d/FC_Schalke_04_Logo.svg/2048px-FC_Schalke_04_Logo.svg.png\"\n",
    "hintergrundbild = \"https://img.freepik.com/fotos-kostenlos/abstrakter-strukturierter-hintergrund_1258-30506.jpg\"\n",
    "mitgliederanzahl = \"174.000\"\n",
    "gründungsjahr = \"1904\"\n",
    "ticketing = \"https://tickets.schalke04.de/de\""
   ]
  },
  {
   "cell_type": "markdown",
   "id": "6d66df20",
   "metadata": {},
   "source": [
    "### Name"
   ]
  },
  {
   "cell_type": "code",
   "execution_count": 28,
   "id": "42041a84",
   "metadata": {},
   "outputs": [],
   "source": [
    "# hauptseite\n",
    "url = \"https://ultras-ge.de/\" \n",
    "website = url\n",
    "response = requests.get(url)"
   ]
  },
  {
   "cell_type": "code",
   "execution_count": 29,
   "id": "f2d518ee",
   "metadata": {},
   "outputs": [],
   "source": [
    "soup = BeautifulSoup(response.content)"
   ]
  },
  {
   "cell_type": "code",
   "execution_count": 30,
   "id": "8cfdd905",
   "metadata": {},
   "outputs": [],
   "source": [
    "title = soup.find(\"title\").get_text().strip()\n",
    "title = title.split(\"|\")[0]"
   ]
  },
  {
   "cell_type": "markdown",
   "id": "cf0b7015",
   "metadata": {},
   "source": [
    "### Bilder"
   ]
  },
  {
   "cell_type": "code",
   "execution_count": 31,
   "id": "78de985f",
   "metadata": {},
   "outputs": [],
   "source": [
    "# all pictures of 2023/2024\n",
    "url = \"https://ultras-ge.de/category/fotos/\" \n",
    "\n",
    "response = requests.get(url)"
   ]
  },
  {
   "cell_type": "code",
   "execution_count": 32,
   "id": "ce7c1445",
   "metadata": {},
   "outputs": [],
   "source": [
    "soup = BeautifulSoup(response.content)"
   ]
  },
  {
   "cell_type": "code",
   "execution_count": 33,
   "id": "6697c74f",
   "metadata": {},
   "outputs": [],
   "source": [
    "# alle bilder\n",
    "pictures = soup.find_all(\"div\", attrs = {\"id\":\"content\"})"
   ]
  },
  {
   "cell_type": "code",
   "execution_count": 34,
   "id": "774f41f5",
   "metadata": {},
   "outputs": [],
   "source": [
    "pictures = pictures[0].find(\"a\")[\"href\"]"
   ]
  },
  {
   "cell_type": "code",
   "execution_count": 35,
   "id": "98f437cc",
   "metadata": {},
   "outputs": [],
   "source": [
    "# Bild name \n",
    "url = pictures\n",
    "response = requests.get(url)\n",
    "soup = BeautifulSoup(response.content)\n",
    "\n",
    "\n",
    "bilder_titel = soup.find(\"title\").get_text().strip()"
   ]
  },
  {
   "cell_type": "markdown",
   "id": "e3ff69b8",
   "metadata": {},
   "source": [
    "### Neuster Beitrag\n"
   ]
  },
  {
   "cell_type": "code",
   "execution_count": 36,
   "id": "c7b6639e",
   "metadata": {},
   "outputs": [],
   "source": [
    "url = \"https://ultras-ge.de/\"\n",
    "\n",
    "response = requests.get(url)"
   ]
  },
  {
   "cell_type": "code",
   "execution_count": 37,
   "id": "fe34eb7c",
   "metadata": {},
   "outputs": [],
   "source": [
    "soup = BeautifulSoup(response.content)"
   ]
  },
  {
   "cell_type": "code",
   "execution_count": 38,
   "id": "6e93d7ac",
   "metadata": {},
   "outputs": [],
   "source": [
    "# alle beiträge\n",
    "texte = soup.find_all(\"div\", attrs = {\"id\" : \"content\"})"
   ]
  },
  {
   "cell_type": "code",
   "execution_count": 39,
   "id": "49b2b58d",
   "metadata": {},
   "outputs": [],
   "source": [
    "text = texte[0].find(\"a\")[\"href\"]\n",
    "\n",
    "# Text name \n",
    "url = text\n",
    "response = requests.get(url)\n",
    "soup = BeautifulSoup(response.content)\n",
    "\n",
    "\n",
    "text_titel = soup.find(\"title\").get_text().strip()"
   ]
  },
  {
   "cell_type": "markdown",
   "id": "0d7d3713",
   "metadata": {},
   "source": [
    "### Appending"
   ]
  },
  {
   "cell_type": "code",
   "execution_count": 40,
   "id": "37e9ca98",
   "metadata": {},
   "outputs": [],
   "source": [
    "appending()"
   ]
  },
  {
   "cell_type": "markdown",
   "id": "df2d9421",
   "metadata": {},
   "source": [
    "# Legio Augusta"
   ]
  },
  {
   "cell_type": "code",
   "execution_count": 41,
   "id": "2da79d2f",
   "metadata": {},
   "outputs": [],
   "source": [
    "index = 3\n",
    "verein = \"FC Augsburg\"\n",
    "liga = \"1. Bundesliga\"\n",
    "vereinsseite = \"https://www.fcaugsburg.de/\"\n",
    "icon = \"https://upload.wikimedia.org/wikipedia/de/thumb/b/b5/Logo_FC_Augsburg.svg/788px-Logo_FC_Augsburg.svg.png\"\n",
    "hintergrundbild = \"https://www.generation-luzifer.de/wp-content/uploads/2016/08/bg.jpg\"\n",
    "mitgliederanzahl = \"22.000\"\n",
    "gründungsjahr = \"1907\"\n",
    "ticketing = \"https://shop.fcaugsburg.de/fcaugsburg/SynwayWarengruppen/data/shop/e7f2b7d7-7721-4a1e-9283-2a1fb56c7a91\""
   ]
  },
  {
   "cell_type": "markdown",
   "id": "2a6a2ff3",
   "metadata": {},
   "source": [
    "### Name"
   ]
  },
  {
   "cell_type": "code",
   "execution_count": 42,
   "id": "ec9a1a02",
   "metadata": {},
   "outputs": [],
   "source": [
    "url = \"https://augsburg.original1907.de/\"\n",
    "website = url"
   ]
  },
  {
   "cell_type": "code",
   "execution_count": 43,
   "id": "855134e3",
   "metadata": {
    "scrolled": true
   },
   "outputs": [],
   "source": [
    "title = get_title(url)"
   ]
  },
  {
   "cell_type": "markdown",
   "id": "ff2fbbee",
   "metadata": {},
   "source": [
    "### Bilder"
   ]
  },
  {
   "cell_type": "code",
   "execution_count": 44,
   "id": "9ecb3f0f",
   "metadata": {
    "scrolled": true
   },
   "outputs": [],
   "source": [
    "# all pictures of 2023/2024\n",
    "url = \"https://augsburg.original1907.de/p/bilder.html?i=2\" \n",
    "\n",
    "response = requests.get(url)\n",
    "soup = BeautifulSoup(response.content)"
   ]
  },
  {
   "cell_type": "code",
   "execution_count": 45,
   "id": "b9f12426",
   "metadata": {},
   "outputs": [],
   "source": [
    "# alle bilder\n",
    "pictures = soup.find_all(\"div\", attrs = {\"class\":\"section\"})"
   ]
  },
  {
   "cell_type": "code",
   "execution_count": 46,
   "id": "9912f11d",
   "metadata": {
    "scrolled": true
   },
   "outputs": [],
   "source": [
    "pictures = pictures[0].find(\"a\")[\"href\"]"
   ]
  },
  {
   "cell_type": "code",
   "execution_count": 47,
   "id": "37a0cb32",
   "metadata": {},
   "outputs": [],
   "source": [
    "# Bild name \n",
    "url = pictures\n",
    "response = requests.get(url)\n",
    "soup = BeautifulSoup(response.content)\n",
    "\n",
    "\n",
    "bilder_titel = soup.find(\"title\").get_text().strip()"
   ]
  },
  {
   "cell_type": "markdown",
   "id": "5d7b28e1",
   "metadata": {},
   "source": [
    "### Neuster Beitrag"
   ]
  },
  {
   "cell_type": "code",
   "execution_count": 48,
   "id": "477b1e54",
   "metadata": {},
   "outputs": [],
   "source": [
    "url = \"https://augsburg.original1907.de/?i=NaN\"\n",
    "\n",
    "response = requests.get(url)\n",
    "soup = BeautifulSoup(response.content)"
   ]
  },
  {
   "cell_type": "code",
   "execution_count": 49,
   "id": "38be5253",
   "metadata": {},
   "outputs": [],
   "source": [
    "# alle beiträge\n",
    "texte = soup.find_all(\"div\", attrs = {\"class\" : \"widget Blog\"})"
   ]
  },
  {
   "cell_type": "code",
   "execution_count": 50,
   "id": "c4125a32",
   "metadata": {},
   "outputs": [],
   "source": [
    "text = \"https://augsburg.original1907.de/?i=NaN\"\n",
    "\n",
    "# Text name \n",
    "url = text\n",
    "response = requests.get(url)\n",
    "soup = BeautifulSoup(response.content)\n",
    "\n",
    "\n",
    "text_titel = soup.find(\"title\").get_text().strip()"
   ]
  },
  {
   "cell_type": "markdown",
   "id": "db5a1799",
   "metadata": {},
   "source": [
    "### Appending"
   ]
  },
  {
   "cell_type": "code",
   "execution_count": 51,
   "id": "b1df98d2",
   "metadata": {},
   "outputs": [],
   "source": [
    "appending()"
   ]
  },
  {
   "cell_type": "markdown",
   "id": "ca61fbbe",
   "metadata": {},
   "source": [
    "# UN (Nürnberg)"
   ]
  },
  {
   "cell_type": "code",
   "execution_count": 52,
   "id": "b39dd75a",
   "metadata": {},
   "outputs": [],
   "source": [
    "index = 4\n",
    "verein = \"1. FC Nürnberg\"\n",
    "liga = \"2. Bundesliga\"\n",
    "vereinsseite = \"https://www.fcn.de/home/\"\n",
    "icon = \"https://seeklogo.com/images/N/N__rnberg_1__fcm-logo-F0F0B9995F-seeklogo.com.png\"\n",
    "hintergrundbild = \"https://www.generation-luzifer.de/wp-content/uploads/2016/08/bg.jpg\"\n",
    "mitgliederanzahl = \"30.000\"\n",
    "gründungsjahr = \"1900\"\n",
    "ticketing = \"https://www.fcn.de/tickets/\"\n"
   ]
  },
  {
   "cell_type": "markdown",
   "id": "3eeeb756",
   "metadata": {},
   "source": [
    "### Name"
   ]
  },
  {
   "cell_type": "code",
   "execution_count": 53,
   "id": "f48873a6",
   "metadata": {},
   "outputs": [],
   "source": [
    "url = \"https://www.faszination-nordkurve.de/\"\n",
    "website = url"
   ]
  },
  {
   "cell_type": "code",
   "execution_count": 54,
   "id": "1ab712b1",
   "metadata": {
    "scrolled": true
   },
   "outputs": [],
   "source": [
    "title = get_title(url)"
   ]
  },
  {
   "cell_type": "markdown",
   "id": "224a826c",
   "metadata": {},
   "source": [
    "### Bilder"
   ]
  },
  {
   "cell_type": "code",
   "execution_count": 55,
   "id": "2d4597ea",
   "metadata": {},
   "outputs": [],
   "source": [
    "# all pictures of 2023/2024\n",
    "url = \"https://www.faszination-nordkurve.de/start/gallery/spieltage/saison-2023-2024/2-bundesliga-2023-2024\" \n",
    "\n",
    "response = requests.get(url)\n",
    "soup = BeautifulSoup(response.content)"
   ]
  },
  {
   "cell_type": "code",
   "execution_count": 56,
   "id": "b7e89b09",
   "metadata": {},
   "outputs": [],
   "source": [
    "# alle bilder\n",
    "pictures = soup.find_all(\"div\", attrs = {\"class\":\"jg_subcatelem_txt\"})"
   ]
  },
  {
   "cell_type": "code",
   "execution_count": 57,
   "id": "97fbc033",
   "metadata": {},
   "outputs": [],
   "source": [
    "pictures = pictures[0].find(\"a\")[\"href\"]\n",
    "pictures = \"https://www.faszination-nordkurve.de\"+pictures"
   ]
  },
  {
   "cell_type": "code",
   "execution_count": 58,
   "id": "9cadc326",
   "metadata": {},
   "outputs": [],
   "source": [
    "# Bild name \n",
    "url = pictures\n",
    "response = requests.get(url)\n",
    "soup = BeautifulSoup(response.content)\n",
    "\n",
    "\n",
    "bilder_titel = soup.find(\"title\").get_text().strip()"
   ]
  },
  {
   "cell_type": "markdown",
   "id": "45a20216",
   "metadata": {},
   "source": [
    "### Neuster Beitrag"
   ]
  },
  {
   "cell_type": "code",
   "execution_count": 59,
   "id": "4f88b874",
   "metadata": {},
   "outputs": [],
   "source": [
    "url = \"https://www.faszination-nordkurve.de/\"\n",
    "\n",
    "response = requests.get(url)\n",
    "soup = BeautifulSoup(response.content)"
   ]
  },
  {
   "cell_type": "code",
   "execution_count": 60,
   "id": "0e3dc0fa",
   "metadata": {},
   "outputs": [],
   "source": [
    "# alle beiträge\n",
    "texte = soup.find_all(\"div\", attrs = {\"class\" : \"leading-0 clearfix\"})"
   ]
  },
  {
   "cell_type": "code",
   "execution_count": 61,
   "id": "ee501970",
   "metadata": {},
   "outputs": [],
   "source": [
    "text = texte[0].find(\"a\")[\"href\"]\n",
    "text = \"https://www.faszination-nordkurve.de\"+text\n",
    "\n",
    "# Text name \n",
    "url = text\n",
    "response = requests.get(url)\n",
    "soup = BeautifulSoup(response.content)\n",
    "\n",
    "\n",
    "text_titel = soup.find(\"title\").get_text().strip()"
   ]
  },
  {
   "cell_type": "markdown",
   "id": "693726ff",
   "metadata": {},
   "source": [
    "### Appending"
   ]
  },
  {
   "cell_type": "code",
   "execution_count": 62,
   "id": "2900cb68",
   "metadata": {},
   "outputs": [],
   "source": [
    "appending()"
   ]
  },
  {
   "cell_type": "markdown",
   "id": "22f1e045",
   "metadata": {},
   "source": [
    "# Südtribüne Dortmund"
   ]
  },
  {
   "cell_type": "code",
   "execution_count": 63,
   "id": "3a41bef8",
   "metadata": {},
   "outputs": [],
   "source": [
    "index = 5\n",
    "verein = \"Borussia Dortmund\"\n",
    "liga = \"1. Bundesliga\"\n",
    "vereinsseite = \"https://www.bvb.de/\"\n",
    "icon = \"https://upload.wikimedia.org/wikipedia/commons/thumb/6/67/Borussia_Dortmund_logo.svg/2048px-Borussia_Dortmund_logo.svg.png\"\n",
    "hintergrundbild = \"data:image/jpeg;base64,/9j/4AAQSkZJRgABAQAAAQABAAD/2wCEAAkGBxISEhUSEhIVFRUVFRcVFRUVFRUVFRUVFRUXFxUVFRUYHSggGBolHRcVITEhJSkrLi4uFx8zODMtNygtLisBCgoKDg0NFQ8PFy0dFR0tLS0tLS0tLS0tLS0tLS0tLS0tLS0rLS0tLS0tLS0tLS0tLS0tLS0tLS0tLTctLTctLf/AABEIALcBFAMBIgACEQEDEQH/xAAZAAEBAQEBAQAAAAAAAAAAAAAAAQIDBAb/xAAbEAEBAQEBAAMAAAAAAAAAAAAAEQESAmFxgf/EABkBAQEBAQEBAAAAAAAAAAAAAAABAwIHBf/EABURAQEAAAAAAAAAAAAAAAAAAAAR/9oADAMBAAIRAxEAPwD74phXk7760qKAJV0BWcxQVBUAoYIoYgKUEFQzQRYJgC6gCrUFERcEBQwgIAKKICpgYC4IAwgOnQqUoKUAKFUQwQgKJFBc0QzURoSmaBVSlBRKlBo1KAoioBiYoGAgKVN0UUEQUMRRQEHIB27VNAFwNQRoZVBRAFVlRFzTdQBrNSggUqLFFEEClAFEUQoAFAADQClAAKABgDlVqZo7aFWoCLSoILoGAtRUEXVxlcBYYmKgURRFEAUQzQXEwxQFiCAIoLglAKtTQF3UwABFBcDARw3FZq40arDfpKogsTNRBrBAFVKURRDEFWICLAogVaVAKtEoFCmaC5ggClAAADBFACgAAKIIjg0iY1aNaVEiDSbpQFq4yA1SoURYrOatQUxM0zQaEERaIoAi4AYaAqBQUQBdMRRAQBpKmKgLWVAom6LFjkYmmtHa/isKgtWsKsRdXNRMQaEWgYqFQUqVRFpUzVBcKlMBd0qCCmJCgpmpQFVKCFM1FwVUzSgLupQQWlQoi0TFB51ZGrRujNTEhG6lRRCrjKgu6VKYC5q5rJQaKlKI0JRBrdGYEGqJSkF3SoqAIuALWVoKVDBFShmiqJpmgVWcAazRBEcKiDVo0ZrNXAWrWQg1V3WAGqrCiLvpazQg2VmlQjdKzTNEjVGVQWqyoRalCgtMQBVrIkGkqVaC0TUoNURNBauayUg30MaJCPOu6zStnbVMZq0Ghim6DVWsr5QXNWs5pgNUrIDVWsUpEbKzQGqtYKkG6tY3SkG6tc6bpEjpSsUqQjdGKUhG6ViqQjVGaUhGis5pQjVKlTdQjQnQsHm0rG+jprHToVioQdKVz6Xog3SsU6SDdXGOjN+SDdVz6Ug2lZp0QbzRmlQaq1goN0Z3Qg0uM4A0M0ojVKmaZqC4tZoK1RkBc0qZpQazSs0pBqjNAePo6BvEWrUECrQBekz0CC0zQAq9ABVoIGejoCC9L0AJno6UQWlUBKoIpTNAAoAtQAKuaAFAQKAD/9k=\"\n",
    "mitgliederanzahl = \"175.000\"\n",
    "gründungsjahr = \"1909\"\n",
    "ticketing = \"https://www.ticket-onlineshop.com/ols/bvb/de/home/channel/shop/index/?utm_source=bvbde&utm_medium=submenue&utm_campaign=tickets\""
   ]
  },
  {
   "cell_type": "markdown",
   "id": "d8299286",
   "metadata": {},
   "source": [
    "### Name"
   ]
  },
  {
   "cell_type": "code",
   "execution_count": 64,
   "id": "3d6c0ab1",
   "metadata": {},
   "outputs": [],
   "source": [
    "url = \"https://suedtribuene-dortmund.de/\"\n",
    "website = url\n",
    "title = get_title(url)"
   ]
  },
  {
   "cell_type": "markdown",
   "id": "e5d0e4b4",
   "metadata": {},
   "source": [
    "### Bilder"
   ]
  },
  {
   "cell_type": "code",
   "execution_count": 65,
   "id": "9036482c",
   "metadata": {},
   "outputs": [],
   "source": [
    "url = \"https://suedtribuene-dortmund.de/\"\n",
    "\n",
    "response = requests.get(url)\n",
    "soup = BeautifulSoup(response.content)\n",
    "\n",
    "# alle bilder\n",
    "pictures = soup.find_all(\"div\", attrs = {\"class\":\"gallery-info\"})"
   ]
  },
  {
   "cell_type": "code",
   "execution_count": 66,
   "id": "d473b25a",
   "metadata": {},
   "outputs": [],
   "source": [
    "pictures = pictures[0].find(\"a\")[\"href\"]\n",
    "\n",
    "# Bild name \n",
    "url = pictures\n",
    "response = requests.get(url)\n",
    "soup = BeautifulSoup(response.content)\n",
    "\n",
    "\n",
    "bilder_titel = soup.find(\"title\").get_text().strip()"
   ]
  },
  {
   "cell_type": "markdown",
   "id": "f1661c27",
   "metadata": {},
   "source": [
    "### Neuster Beitrag"
   ]
  },
  {
   "cell_type": "code",
   "execution_count": 67,
   "id": "f30a0c64",
   "metadata": {},
   "outputs": [],
   "source": [
    "url = \"https://suedtribuene-dortmund.de/\"\n",
    "\n",
    "response = requests.get(url)\n",
    "soup = BeautifulSoup(response.content)\n",
    "\n",
    "# alle beiträge\n",
    "texte = soup.find_all(\"div\", attrs = {\"id\" : \"primary\"})"
   ]
  },
  {
   "cell_type": "code",
   "execution_count": 68,
   "id": "6dfa0386",
   "metadata": {},
   "outputs": [],
   "source": [
    "text = texte[0].find(\"a\")[\"href\"]\n",
    "\n",
    "# Text name \n",
    "url = text\n",
    "response = requests.get(url)\n",
    "soup = BeautifulSoup(response.content)\n",
    "\n",
    "\n",
    "text_titel = soup.find(\"title\").get_text().strip()"
   ]
  },
  {
   "cell_type": "markdown",
   "id": "3fd9ec4e",
   "metadata": {},
   "source": [
    "### Appending"
   ]
  },
  {
   "cell_type": "code",
   "execution_count": 69,
   "id": "0d887175",
   "metadata": {},
   "outputs": [],
   "source": [
    "appending()"
   ]
  },
  {
   "cell_type": "markdown",
   "id": "d4fbfd61",
   "metadata": {},
   "source": [
    "# Harlekins (Hertha BSC)"
   ]
  },
  {
   "cell_type": "code",
   "execution_count": 70,
   "id": "073a80a3",
   "metadata": {},
   "outputs": [],
   "source": [
    "url = \"https://hb98.de/\"\n",
    "title = get_title(url)\n",
    "title = title.split(\" -\")[0]"
   ]
  },
  {
   "cell_type": "code",
   "execution_count": 71,
   "id": "c52cce9f",
   "metadata": {},
   "outputs": [],
   "source": [
    "index = 6\n",
    "verein = \"Hertha BSC\"\n",
    "liga = \"2. Bundesliga\"\n",
    "website = url\n",
    "vereinsseite = \"https://www.herthabsc.com/de\"\n",
    "icon = \"https://upload.wikimedia.org/wikipedia/de/thumb/3/38/Hertha_BSC_Logo.svg/1200px-Hertha_BSC_Logo.svg.png\"\n",
    "hintergrundbild = \"https://img.freepik.com/fotos-kostenlos/abstrakter-strukturierter-hintergrund_1258-30506.jpg\"\n",
    "mitgliederanzahl = \"50.000\"\n",
    "gründungsjahr = \"1892\"\n",
    "ticketing = \"https://www.ticket-onlineshop.com/ols/hbsctk/?utm_source=homepage&utm_medium=webseite&utm_campaign=ticket-shop\""
   ]
  },
  {
   "cell_type": "markdown",
   "id": "1ed76a46",
   "metadata": {},
   "source": [
    "### Bilder"
   ]
  },
  {
   "cell_type": "code",
   "execution_count": 72,
   "id": "e2e1f509",
   "metadata": {},
   "outputs": [],
   "source": [
    "url = \"https://hb98.de/\"\n",
    "\n",
    "response = requests.get(url)\n",
    "soup = BeautifulSoup(response.content)\n",
    "\n",
    "# alle bilder\n",
    "pictures = soup.find_all(\"li\", attrs = {\"id\":\"text-6\"})"
   ]
  },
  {
   "cell_type": "code",
   "execution_count": 73,
   "id": "8b700d1f",
   "metadata": {},
   "outputs": [],
   "source": [
    "pictures = pictures[0].find(\"a\")[\"href\"]\n",
    "\n",
    "# Bild name \n",
    "url = pictures\n",
    "response = requests.get(url)\n",
    "soup = BeautifulSoup(response.content)\n",
    "\n",
    "\n",
    "bilder_titel = soup.find(\"title\").get_text().strip()"
   ]
  },
  {
   "cell_type": "markdown",
   "id": "174d3e98",
   "metadata": {},
   "source": [
    "### Neuster Beitrag"
   ]
  },
  {
   "cell_type": "code",
   "execution_count": 74,
   "id": "f6278af6",
   "metadata": {},
   "outputs": [],
   "source": [
    "url = \"https://hb98.de/\"\n",
    "\n",
    "response = requests.get(url)\n",
    "soup = BeautifulSoup(response.content)\n",
    "\n",
    "# alle beiträge\n",
    "texte = soup.find_all(\"div\", attrs = {\"id\" : \"content\"})"
   ]
  },
  {
   "cell_type": "code",
   "execution_count": 75,
   "id": "980beac1",
   "metadata": {},
   "outputs": [],
   "source": [
    "text = texte[0].find(\"a\")[\"href\"]\n",
    "\n",
    "# Text name \n",
    "url = text\n",
    "response = requests.get(url)\n",
    "soup = BeautifulSoup(response.content)\n",
    "\n",
    "text_titel = soup.find(\"title\").get_text().strip()"
   ]
  },
  {
   "cell_type": "markdown",
   "id": "91b91be9",
   "metadata": {},
   "source": [
    "### Appending"
   ]
  },
  {
   "cell_type": "code",
   "execution_count": 76,
   "id": "6af51995",
   "metadata": {},
   "outputs": [],
   "source": [
    "appending()"
   ]
  },
  {
   "cell_type": "markdown",
   "id": "f4a7f548",
   "metadata": {},
   "source": [
    "# Coloniacs (Köln)"
   ]
  },
  {
   "cell_type": "code",
   "execution_count": 77,
   "id": "08e139a9",
   "metadata": {},
   "outputs": [],
   "source": [
    "index = 7\n",
    "verein = \"1. FC Köln\"\n",
    "liga = \"1. Bundesliga\"\n",
    "vereinsseite = \"https://fc.de/\"\n",
    "icon = \"https://fc-newsletter.de/Allgemein/Logo/FC%20Logo_4c_Outline%20(1).png\"\n",
    "hintergrundbild = \"https://www.generation-luzifer.de/wp-content/uploads/2016/08/bg.jpg\"\n",
    "mitgliederanzahl = \"127.000\"\n",
    "gründungsjahr = \"1948\"\n",
    "ticketing = \"https://www.ticket-onlineshop.com/ols/fckoeln/?_gl=1*13w3r4z*_ga*NTg3ODUwMzA4LjE3MDEyNTQxNDk.*_ga_G870HQ6DLP*MTcwMTI1NDE0OC4xLjAuMTcwMTI1NDE0OC4wLjAuMA..\""
   ]
  },
  {
   "cell_type": "markdown",
   "id": "7f22f1ef",
   "metadata": {},
   "source": [
    "### Name"
   ]
  },
  {
   "cell_type": "code",
   "execution_count": 78,
   "id": "0e3f48cf",
   "metadata": {},
   "outputs": [],
   "source": [
    "url = \"https://coloniacs-ultra.com/\"\n",
    "website = url\n",
    "title = get_title(url)"
   ]
  },
  {
   "cell_type": "markdown",
   "id": "acbd401c",
   "metadata": {},
   "source": [
    "### Bilder"
   ]
  },
  {
   "cell_type": "code",
   "execution_count": 79,
   "id": "7a41f81f",
   "metadata": {},
   "outputs": [],
   "source": [
    "url = \"https://coloniacs-ultra.com/bilder/saison-2023-24/\"\n",
    "\n",
    "response = requests.get(url)\n",
    "soup = BeautifulSoup(response.content)\n",
    "\n",
    "# alle bilder\n",
    "pictures = soup.find_all(\"div\", attrs = {\"class\":\"elementor-widget-wrap elementor-element-populated\"})"
   ]
  },
  {
   "cell_type": "code",
   "execution_count": 80,
   "id": "59ba7842",
   "metadata": {},
   "outputs": [],
   "source": [
    "pictures = pictures[0].find(\"a\")[\"href\"]\n",
    "\n",
    "# Bild name \n",
    "url = pictures\n",
    "response = requests.get(url)\n",
    "soup = BeautifulSoup(response.content)\n",
    "\n",
    "\n",
    "bilder_titel = soup.find(\"title\").get_text().strip()"
   ]
  },
  {
   "cell_type": "markdown",
   "id": "fc5a9f85",
   "metadata": {},
   "source": [
    "### Neuster Beitrag"
   ]
  },
  {
   "cell_type": "code",
   "execution_count": 81,
   "id": "c66b452c",
   "metadata": {},
   "outputs": [],
   "source": [
    "url = \"https://coloniacs-ultra.com/\"\n",
    "\n",
    "response = requests.get(url)\n",
    "soup = BeautifulSoup(response.content)\n",
    "\n",
    "# alle beiträge\n",
    "texte = soup.find_all(\"main\", attrs = {\"id\" : \"main\"})"
   ]
  },
  {
   "cell_type": "code",
   "execution_count": 82,
   "id": "a4d59f64",
   "metadata": {},
   "outputs": [],
   "source": [
    "text = texte[0].find(\"a\")[\"href\"]\n",
    "\n",
    "# Text name \n",
    "url = text\n",
    "response = requests.get(url)\n",
    "soup = BeautifulSoup(response.content)\n",
    "\n",
    "text_titel = soup.find(\"title\").get_text().strip()"
   ]
  },
  {
   "cell_type": "markdown",
   "id": "b96f6530",
   "metadata": {},
   "source": [
    "### Appending"
   ]
  },
  {
   "cell_type": "code",
   "execution_count": 83,
   "id": "d06d1f43",
   "metadata": {},
   "outputs": [],
   "source": [
    "appending()"
   ]
  },
  {
   "cell_type": "markdown",
   "id": "b142b5ca",
   "metadata": {},
   "source": [
    "# K-Block (Dresden)"
   ]
  },
  {
   "cell_type": "code",
   "execution_count": 84,
   "id": "70ff75e7",
   "metadata": {},
   "outputs": [],
   "source": [
    "index = 8\n",
    "verein = \"Dynamo Dresden\"\n",
    "liga = \"3. Bundesliga\"\n",
    "vereinsseite = \"https://www.dynamo-dresden.de/\"\n",
    "icon = \"https://upload.wikimedia.org/wikipedia/commons/thumb/e/e1/Logo_SG_Dynamo_Dresden_neu.svg/2421px-Logo_SG_Dynamo_Dresden_neu.svg.png\"\n",
    "hintergrundbild = \"data:image/jpeg;base64,/9j/4AAQSkZJRgABAQAAAQABAAD/2wCEAAkGBxISEhUSEhIVFRUVFRcVFRUVFRUVFRUVFRUXFxUVFRUYHSggGBolHRcVITEhJSkrLi4uFx8zODMtNygtLisBCgoKDg0NFQ8PFy0dFR0tLS0tLS0tLS0tLS0tLS0tLS0tLS0rLS0tLS0tLS0tLS0tLS0tLS0tLS0tLTctLTctLf/AABEIALcBFAMBIgACEQEDEQH/xAAZAAEBAQEBAQAAAAAAAAAAAAAAAQIDBAb/xAAbEAEBAQEBAAMAAAAAAAAAAAAAEQESAmFxgf/EABkBAQEBAQEBAAAAAAAAAAAAAAABAwIHBf/EABURAQEAAAAAAAAAAAAAAAAAAAAR/9oADAMBAAIRAxEAPwD74phXk7760qKAJV0BWcxQVBUAoYIoYgKUEFQzQRYJgC6gCrUFERcEBQwgIAKKICpgYC4IAwgOnQqUoKUAKFUQwQgKJFBc0QzURoSmaBVSlBRKlBo1KAoioBiYoGAgKVN0UUEQUMRRQEHIB27VNAFwNQRoZVBRAFVlRFzTdQBrNSggUqLFFEEClAFEUQoAFAADQClAAKABgDlVqZo7aFWoCLSoILoGAtRUEXVxlcBYYmKgURRFEAUQzQXEwxQFiCAIoLglAKtTQF3UwABFBcDARw3FZq40arDfpKogsTNRBrBAFVKURRDEFWICLAogVaVAKtEoFCmaC5ggClAAADBFACgAAKIIjg0iY1aNaVEiDSbpQFq4yA1SoURYrOatQUxM0zQaEERaIoAi4AYaAqBQUQBdMRRAQBpKmKgLWVAom6LFjkYmmtHa/isKgtWsKsRdXNRMQaEWgYqFQUqVRFpUzVBcKlMBd0qCCmJCgpmpQFVKCFM1FwVUzSgLupQQWlQoi0TFB51ZGrRujNTEhG6lRRCrjKgu6VKYC5q5rJQaKlKI0JRBrdGYEGqJSkF3SoqAIuALWVoKVDBFShmiqJpmgVWcAazRBEcKiDVo0ZrNXAWrWQg1V3WAGqrCiLvpazQg2VmlQjdKzTNEjVGVQWqyoRalCgtMQBVrIkGkqVaC0TUoNURNBauayUg30MaJCPOu6zStnbVMZq0Ghim6DVWsr5QXNWs5pgNUrIDVWsUpEbKzQGqtYKkG6tY3SkG6tc6bpEjpSsUqQjdGKUhG6ViqQjVGaUhGis5pQjVKlTdQjQnQsHm0rG+jprHToVioQdKVz6Xog3SsU6SDdXGOjN+SDdVz6Ug2lZp0QbzRmlQaq1goN0Z3Qg0uM4A0M0ojVKmaZqC4tZoK1RkBc0qZpQazSs0pBqjNAePo6BvEWrUECrQBekz0CC0zQAq9ABVoIGejoCC9L0AJno6UQWlUBKoIpTNAAoAtQAKuaAFAQKAD/9k=\"\n",
    "mitgliederanzahl = \"26.700\"\n",
    "gründungsjahr = \"1953\"\n",
    "ticketing = \"https://karten.dynamo-dresden.de/shop/103\""
   ]
  },
  {
   "cell_type": "markdown",
   "id": "605ceeb9",
   "metadata": {},
   "source": [
    "### Fans"
   ]
  },
  {
   "cell_type": "code",
   "execution_count": 85,
   "id": "1916b221",
   "metadata": {},
   "outputs": [],
   "source": [
    "url = \"https://ultras-dynamo.de/k-block/\"\n",
    "website = url\n",
    "title = get_title(url)"
   ]
  },
  {
   "cell_type": "markdown",
   "id": "ca97bc8c",
   "metadata": {},
   "source": [
    "### Bilder"
   ]
  },
  {
   "cell_type": "code",
   "execution_count": 86,
   "id": "a2da7407",
   "metadata": {},
   "outputs": [],
   "source": [
    "url = \"https://ultras-dynamo.de/medien/saison-23-24/\"\n",
    "\n",
    "response = requests.get(url)\n",
    "soup = BeautifulSoup(response.content)\n",
    "\n",
    "# alle bilder\n",
    "pictures = soup.find_all(\"div\", attrs = {\"class\":\"et_pb_portfolio_grid_items\"})"
   ]
  },
  {
   "cell_type": "code",
   "execution_count": 87,
   "id": "7eeb6cd1",
   "metadata": {},
   "outputs": [],
   "source": [
    "pictures = pictures[0].find(\"a\")[\"href\"]\n",
    "\n",
    "# Bild name \n",
    "url = pictures\n",
    "response = requests.get(url)\n",
    "soup = BeautifulSoup(response.content)\n",
    "\n",
    "\n",
    "bilder_titel = soup.find(\"title\").get_text().strip()"
   ]
  },
  {
   "cell_type": "markdown",
   "id": "614f2e41",
   "metadata": {},
   "source": [
    "### Neuster Beitrag"
   ]
  },
  {
   "cell_type": "code",
   "execution_count": 88,
   "id": "ac8ec4a5",
   "metadata": {
    "scrolled": true
   },
   "outputs": [],
   "source": [
    "url = \"https://ultras-dynamo.de/\"\n",
    "\n",
    "response = requests.get(url)\n",
    "soup = BeautifulSoup(response.content)\n",
    "\n",
    "# alle beiträge\n",
    "texte = soup.find_all(\"div\", attrs = {\"id\" : \"news\"})\n",
    "text = texte[0].find_all(\"div\", attrs = {\"class\" : \"post-media\"})"
   ]
  },
  {
   "cell_type": "code",
   "execution_count": 89,
   "id": "eff1b20b",
   "metadata": {},
   "outputs": [],
   "source": [
    "text = text[0].find(\"a\")[\"href\"]\n",
    "\n",
    "# Text name \n",
    "url = text\n",
    "response = requests.get(url)\n",
    "soup = BeautifulSoup(response.content)\n",
    "\n",
    "text_titel = soup.find(\"title\").get_text().strip()"
   ]
  },
  {
   "cell_type": "markdown",
   "id": "0e01afb4",
   "metadata": {},
   "source": [
    "### Appending"
   ]
  },
  {
   "cell_type": "code",
   "execution_count": 90,
   "id": "ef4c3186",
   "metadata": {},
   "outputs": [],
   "source": [
    "appending()"
   ]
  },
  {
   "cell_type": "markdown",
   "id": "b9c4a247",
   "metadata": {},
   "source": [
    "# Lokal Crew (Bielefeld)"
   ]
  },
  {
   "cell_type": "code",
   "execution_count": 91,
   "id": "33e31823",
   "metadata": {},
   "outputs": [],
   "source": [
    "index = 9\n",
    "verein = \"Arminia Bielefeld\"\n",
    "liga = \"3. Bundesliga\"\n",
    "vereinsseite = \"https://www.arminia.de/\"\n",
    "icon = \"https://upload.wikimedia.org/wikipedia/commons/thumb/2/26/Arminia-wappen-2021.svg/1200px-Arminia-wappen-2021.svg.png\"\n",
    "hintergrundbild = \"https://img.freepik.com/fotos-kostenlos/abstrakter-strukturierter-hintergrund_1258-30506.jpg\"\n",
    "mitgliederanzahl = \"15.000\"\n",
    "gründungsjahr = \"1905\"\n",
    "ticketing = \"https://shop.arminia.de/arminia-bielefeld/eintrittskarten.htm?utm_source=homepage&utm_medium=aktionsflaeche&utm_campaign=homepage-eintrittskarten&_gl=1*dj1o99*_ga*MTc0NTY1ODI3LjE2OTc3MTc2NDY.*_ga_JYQVQHRRYZ*MTcwMTI3MTc1My4yLjEuMTcwMTI3MTc2MS4wLjAuMA..\""
   ]
  },
  {
   "cell_type": "markdown",
   "id": "927aa3f2",
   "metadata": {},
   "source": [
    "### Fans"
   ]
  },
  {
   "cell_type": "code",
   "execution_count": 92,
   "id": "cd98d3b4",
   "metadata": {},
   "outputs": [],
   "source": [
    "url = \"https://lokalcrew.de/\"\n",
    "website = url\n",
    "title = get_title(url)"
   ]
  },
  {
   "cell_type": "markdown",
   "id": "7c6f2000",
   "metadata": {},
   "source": [
    "### Bilder"
   ]
  },
  {
   "cell_type": "code",
   "execution_count": 93,
   "id": "6adceb42",
   "metadata": {},
   "outputs": [],
   "source": [
    "url = \"https://lokalcrew.de/\"\n",
    "\n",
    "response = requests.get(url)\n",
    "soup = BeautifulSoup(response.content)\n",
    "\n",
    "# alle bilder\n",
    "pictures = soup.find_all(\"ul\", attrs = {\"id\":\"menu-neuste-fotos\"})"
   ]
  },
  {
   "cell_type": "code",
   "execution_count": 94,
   "id": "91310a45",
   "metadata": {},
   "outputs": [],
   "source": [
    "pictures = pictures[0].find_all(\"figure\", attrs = {\"class\" : \"wp-block-image\"})"
   ]
  },
  {
   "cell_type": "code",
   "execution_count": 95,
   "id": "520b9652",
   "metadata": {},
   "outputs": [],
   "source": [
    "pictures = pictures[0].find(\"a\")[\"href\"]\n",
    "\n",
    "# Bild name \n",
    "url = pictures\n",
    "response = requests.get(url)\n",
    "soup = BeautifulSoup(response.content)\n",
    "\n",
    "\n",
    "bilder_titel = soup.find(\"title\").get_text().strip()"
   ]
  },
  {
   "cell_type": "markdown",
   "id": "cf724713",
   "metadata": {},
   "source": [
    "### Neuster Beitrag"
   ]
  },
  {
   "cell_type": "code",
   "execution_count": 96,
   "id": "457053e1",
   "metadata": {},
   "outputs": [],
   "source": [
    "url = \"https://lokalcrew.de/\"\n",
    "\n",
    "response = requests.get(url)\n",
    "soup = BeautifulSoup(response.content)\n",
    "\n",
    "# alle beiträge\n",
    "texte = soup.find_all(\"div\", attrs = {\"id\" : \"content\"})"
   ]
  },
  {
   "cell_type": "code",
   "execution_count": 97,
   "id": "89cdf3c8",
   "metadata": {},
   "outputs": [],
   "source": [
    "text = texte[0].find(\"a\")[\"href\"]\n",
    "\n",
    "# Text name \n",
    "url = text\n",
    "response = requests.get(url)\n",
    "soup = BeautifulSoup(response.content)\n",
    "\n",
    "text_titel = soup.find(\"title\").get_text().strip()"
   ]
  },
  {
   "cell_type": "code",
   "execution_count": 98,
   "id": "e4491623",
   "metadata": {},
   "outputs": [],
   "source": [
    "appending()"
   ]
  },
  {
   "cell_type": "markdown",
   "id": "38bdb90c",
   "metadata": {},
   "source": [
    "# Münchener Löwen"
   ]
  },
  {
   "cell_type": "code",
   "execution_count": 99,
   "id": "1def384e",
   "metadata": {},
   "outputs": [],
   "source": [
    "index = 10\n",
    "verein = \"TSV 1860 München\"\n",
    "liga = \"3. Bundesliga\"\n",
    "vereinsseite = \"https://www.tsv1860.de/\"\n",
    "icon = \"https://upload.wikimedia.org/wikipedia/commons/thumb/4/48/TSV_1860_M%C3%BCnchen.svg/1643px-TSV_1860_M%C3%BCnchen.svg.png\"\n",
    "hintergrundbild = \"https://www.marketer-magazin.de/wp-content/uploads/2013/07/Lowen_blau1024x768.jpg\"\n",
    "mitgliederanzahl = \"25.000\"\n",
    "gründungsjahr = \"1860\"\n",
    "ticketing = \"https://www.tsv1860-ticketing.de/tsv1860/\""
   ]
  },
  {
   "cell_type": "markdown",
   "id": "36ddd3bd",
   "metadata": {},
   "source": [
    "### Fans"
   ]
  },
  {
   "cell_type": "code",
   "execution_count": 100,
   "id": "e667deec",
   "metadata": {},
   "outputs": [],
   "source": [
    "url = \"https://muenchnerloewen.de/aktuelles.html\"\n",
    "website = url\n",
    "title = get_title(url)"
   ]
  },
  {
   "cell_type": "markdown",
   "id": "bd25f735",
   "metadata": {},
   "source": [
    "### Bilder"
   ]
  },
  {
   "cell_type": "code",
   "execution_count": 101,
   "id": "028b62eb",
   "metadata": {},
   "outputs": [],
   "source": [
    "url = \"https://muenchnerloewen.de/aktuelles.html\"\n",
    "\n",
    "response = requests.get(url)\n",
    "soup = BeautifulSoup(response.content)\n",
    "\n",
    "# alle bilder\n",
    "pictures = soup.find_all(\"div\", attrs = {\"class\":\"mod_newslist block\"})"
   ]
  },
  {
   "cell_type": "code",
   "execution_count": 102,
   "id": "9951cf06",
   "metadata": {},
   "outputs": [],
   "source": [
    "pictures = pictures[1].find(\"a\")[\"href\"]\n",
    "pictures = (\"https://muenchnerloewen.de/\")+pictures\n",
    "# Bild name \n",
    "url = pictures\n",
    "response = requests.get(url)\n",
    "soup = BeautifulSoup(response.content)\n",
    "\n",
    "\n",
    "bilder_titel = soup.find(\"title\").get_text().strip()"
   ]
  },
  {
   "cell_type": "markdown",
   "id": "df0b57de",
   "metadata": {},
   "source": [
    "### Neuster Beitrag"
   ]
  },
  {
   "cell_type": "code",
   "execution_count": 103,
   "id": "b0d48a64",
   "metadata": {},
   "outputs": [],
   "source": [
    "url = \"https://muenchnerloewen.de/aktuelles.html\"\n",
    "\n",
    "response = requests.get(url)\n",
    "soup = BeautifulSoup(response.content)\n"
   ]
  },
  {
   "cell_type": "code",
   "execution_count": 104,
   "id": "86bd19a5",
   "metadata": {},
   "outputs": [],
   "source": [
    "text = \"https://muenchnerloewen.de/aktuelles.html\"\n",
    "\n",
    "# Text name \n",
    "url = text\n",
    "response = requests.get(url)\n",
    "soup = BeautifulSoup(response.content)"
   ]
  },
  {
   "cell_type": "code",
   "execution_count": 105,
   "id": "b9363ff1",
   "metadata": {},
   "outputs": [],
   "source": [
    "text_titel = soup.find_all(\"div\", attrs = {\"class\":\"layout_full block first even\"})\n",
    "text_titel = text_titel[0].find(\"h1\").get_text()"
   ]
  },
  {
   "cell_type": "code",
   "execution_count": 106,
   "id": "98023224",
   "metadata": {},
   "outputs": [],
   "source": [
    "appending()"
   ]
  },
  {
   "cell_type": "markdown",
   "id": "9012693f",
   "metadata": {},
   "source": [
    "# Schickeria (Bayern München)"
   ]
  },
  {
   "cell_type": "code",
   "execution_count": 107,
   "id": "2e45fae7",
   "metadata": {},
   "outputs": [],
   "source": [
    "index = 11\n",
    "verein = \"FC Bayern München\"\n",
    "liga = \"1. Bundesliga\"\n",
    "vereinsseite = \"https://fcbayern.com/de\"\n",
    "icon = \"https://static-00.iconduck.com/assets.00/bayern-munchen-icon-2048x2048-2uqdnlu0.png\"\n",
    "hintergrundbild = \"https://www.generation-luzifer.de/wp-content/uploads/2016/08/bg.jpg\"\n",
    "mitgliederanzahl = \"316.000\"\n",
    "gründungsjahr = \"1900\"\n",
    "ticketing = \"https://tickets.fcbayern.com/internetverkauf/EventList.aspx\""
   ]
  },
  {
   "cell_type": "markdown",
   "id": "4ab89924",
   "metadata": {},
   "source": [
    "### Fans"
   ]
  },
  {
   "cell_type": "code",
   "execution_count": 108,
   "id": "c5e3722a",
   "metadata": {},
   "outputs": [],
   "source": [
    "url = \"https://suedkurve-muenchen.org/\"\n",
    "website = url\n",
    "title = get_title(url)"
   ]
  },
  {
   "cell_type": "markdown",
   "id": "bab0260a",
   "metadata": {},
   "source": [
    "### Bilder"
   ]
  },
  {
   "cell_type": "code",
   "execution_count": 109,
   "id": "badee634",
   "metadata": {},
   "outputs": [],
   "source": [
    "url = \"https://suedkurve-muenchen.org/\"\n",
    "\n",
    "response = requests.get(url)\n",
    "soup = BeautifulSoup(response.content)\n",
    "\n",
    "# alle bilder\n",
    "pictures = soup.find_all(\"div\", attrs = {\"class\":\"textwidget\"})"
   ]
  },
  {
   "cell_type": "code",
   "execution_count": 110,
   "id": "3c8c36ca",
   "metadata": {},
   "outputs": [],
   "source": [
    "pictures = pictures[0].find(\"a\")[\"href\"]\n",
    "# Bild name \n",
    "url = pictures\n",
    "response = requests.get(url)\n",
    "soup = BeautifulSoup(response.content)\n",
    "\n",
    "\n",
    "bilder_titel = soup.find(\"title\").get_text().strip()"
   ]
  },
  {
   "cell_type": "markdown",
   "id": "a1401acc",
   "metadata": {},
   "source": [
    "### Neuster Beitrag"
   ]
  },
  {
   "cell_type": "code",
   "execution_count": 111,
   "id": "e8c403e6",
   "metadata": {},
   "outputs": [],
   "source": [
    "url = \"https://suedkurve-muenchen.org/\"\n",
    "\n",
    "response = requests.get(url)\n",
    "soup = BeautifulSoup(response.content)\n",
    "\n",
    "# alle beiträge\n",
    "texte = soup.find_all(\"div\", attrs = {\"id\" : \"content\"})"
   ]
  },
  {
   "cell_type": "code",
   "execution_count": 112,
   "id": "d43dd6a8",
   "metadata": {},
   "outputs": [],
   "source": [
    "texte = texte[0].find_all(\"header\", attrs = {\"class\" : \"entry-header\"})\n",
    "text = texte[0].find(\"a\")[\"href\"]\n",
    "\n",
    "# Text name \n",
    "url = text\n",
    "response = requests.get(url)\n",
    "soup = BeautifulSoup(response.content)\n",
    "\n",
    "text_titel = soup.find(\"title\").get_text().strip()"
   ]
  },
  {
   "cell_type": "code",
   "execution_count": 113,
   "id": "cdd4022d",
   "metadata": {},
   "outputs": [],
   "source": [
    "appending()"
   ]
  },
  {
   "cell_type": "markdown",
   "id": "14b9a440",
   "metadata": {},
   "source": [
    "# Pappelkurve (VFB Lübeck)"
   ]
  },
  {
   "cell_type": "code",
   "execution_count": 114,
   "id": "94abe381",
   "metadata": {},
   "outputs": [],
   "source": [
    "index = 12\n",
    "verein = \"VfB Lübeck\"\n",
    "liga = \"3. Bundesliga\"\n",
    "vereinsseite = \"https://vfb-luebeck.de/\"\n",
    "icon = \"https://upload.wikimedia.org/wikipedia/de/archive/8/86/20200426230959%21VfB_L%C3%BCbeck.svg\"\n",
    "hintergrundbild = \"https://media.istockphoto.com/id/1350046657/de/foto/dunkelgr%C3%BCn-unscharfe-bewegung-abstrakter-hintergrund.jpg?s=612x612&w=0&k=20&c=rUI7YNnwLMuWOZxqJGnT1IzWEwyPOfAi-Iwx8BdkEak=\"\n",
    "mitgliederanzahl = \"1.300\"\n",
    "gründungsjahr = \"1919\"\n",
    "ticketing = \"https://vfbluebeck.reservix.de/events\""
   ]
  },
  {
   "cell_type": "markdown",
   "id": "94bea735",
   "metadata": {},
   "source": [
    "### Fans"
   ]
  },
  {
   "cell_type": "code",
   "execution_count": 115,
   "id": "ed87aefc",
   "metadata": {},
   "outputs": [],
   "source": [
    "url = \"https://www.pappelkurve.de/\"\n",
    "website = url\n",
    "title = get_title(url)"
   ]
  },
  {
   "cell_type": "markdown",
   "id": "044643e4",
   "metadata": {},
   "source": [
    "### Bilder"
   ]
  },
  {
   "cell_type": "code",
   "execution_count": 116,
   "id": "5a5c7529",
   "metadata": {},
   "outputs": [],
   "source": [
    "url = \"https://www.pappelkurve.de/bilder/\"\n",
    "\n",
    "response = requests.get(url)\n",
    "soup = BeautifulSoup(response.content)\n",
    "\n",
    "# alle bilder\n",
    "pictures = soup.find_all(\"div\", attrs = {\"class\":\"ngg-albumoverview default-view\"})"
   ]
  },
  {
   "cell_type": "code",
   "execution_count": 117,
   "id": "49c30e58",
   "metadata": {},
   "outputs": [],
   "source": [
    "pictures = pictures[0].find(\"a\")[\"href\"]\n",
    "# Bild name \n",
    "url = pictures\n",
    "response = requests.get(url)\n",
    "soup = BeautifulSoup(response.content)\n",
    "\n",
    "\n",
    "bilder_titel = soup.find(\"title\").get_text().strip()"
   ]
  },
  {
   "cell_type": "markdown",
   "id": "e567c2e0",
   "metadata": {},
   "source": [
    "### Neuste Beiträge"
   ]
  },
  {
   "cell_type": "code",
   "execution_count": 118,
   "id": "bf90e751",
   "metadata": {},
   "outputs": [],
   "source": [
    "url = \"https://www.pappelkurve.de/\"\n",
    "\n",
    "response = requests.get(url)\n",
    "soup = BeautifulSoup(response.content)\n",
    "\n",
    "# alle beiträge\n",
    "texte = soup.find_all(\"div\", attrs = {\"class\" : \"et_pb_ajax_pagination_container\"})"
   ]
  },
  {
   "cell_type": "code",
   "execution_count": 119,
   "id": "09fb9d61",
   "metadata": {},
   "outputs": [],
   "source": [
    "text = texte[0].find(\"a\")[\"href\"]\n",
    "\n",
    "# Text name \n",
    "url = text\n",
    "response = requests.get(url)\n",
    "soup = BeautifulSoup(response.content)\n",
    "\n",
    "text_titel = soup.find(\"title\").get_text().strip()"
   ]
  },
  {
   "cell_type": "code",
   "execution_count": 120,
   "id": "5b853cf8",
   "metadata": {},
   "outputs": [],
   "source": [
    "appending()"
   ]
  },
  {
   "cell_type": "markdown",
   "id": "075afb3b",
   "metadata": {},
   "source": [
    "# Commando Cannstadt (VFB Stuttgart)"
   ]
  },
  {
   "cell_type": "code",
   "execution_count": 121,
   "id": "c84c7719",
   "metadata": {},
   "outputs": [],
   "source": [
    "index = 13\n",
    "verein = \"VfB Stuttgart\"\n",
    "liga = \"1. Bundesliga\"\n",
    "vereinsseite = \"https://www.vfb.de/\"\n",
    "icon = \"https://www.vfb.de/?proxy=img/logo.png\"\n",
    "hintergrundbild = \"https://www.generation-luzifer.de/wp-content/uploads/2016/08/bg.jpg\"\n",
    "mitgliederanzahl = \"85.000\"\n",
    "gründungsjahr = \"1893\"\n",
    "ticketing = \"https://shop.vfb.de/tickets/heimspiele/\""
   ]
  },
  {
   "cell_type": "markdown",
   "id": "f7caed68",
   "metadata": {},
   "source": [
    "### Fans"
   ]
  },
  {
   "cell_type": "code",
   "execution_count": 122,
   "id": "b2f936d9",
   "metadata": {},
   "outputs": [],
   "source": [
    "url = \"https://www.cc97.de/\"\n",
    "website = url\n",
    "title = get_title(url)"
   ]
  },
  {
   "cell_type": "markdown",
   "id": "be2e0fba",
   "metadata": {},
   "source": [
    "### Bilder"
   ]
  },
  {
   "cell_type": "code",
   "execution_count": 123,
   "id": "70c7f48d",
   "metadata": {},
   "outputs": [],
   "source": [
    "url = \"https://www.cannstatter-kurve.de/\"\n",
    "\n",
    "response = requests.get(url)\n",
    "soup = BeautifulSoup(response.content)\n",
    "\n",
    "# alle bilder\n",
    "pictures = soup.find_all(\"div\", attrs = {\"id\":\"content\"})"
   ]
  },
  {
   "cell_type": "code",
   "execution_count": 124,
   "id": "8e072fde",
   "metadata": {},
   "outputs": [],
   "source": [
    "pictures = pictures[0].find(\"a\")[\"href\"]\n",
    "# Bild name \n",
    "url = pictures\n",
    "response = requests.get(url)\n",
    "soup = BeautifulSoup(response.content)\n",
    "\n",
    "\n",
    "bilder_titel = soup.find(\"title\").get_text().strip()"
   ]
  },
  {
   "cell_type": "markdown",
   "id": "d3fa2e1b",
   "metadata": {},
   "source": [
    "### Neuste Beiträge"
   ]
  },
  {
   "cell_type": "code",
   "execution_count": 125,
   "id": "eeeea638",
   "metadata": {},
   "outputs": [],
   "source": [
    "url = \"https://www.cc97.de/\"\n",
    "\n",
    "response = requests.get(url)\n",
    "soup = BeautifulSoup(response.content)\n",
    "\n",
    "# alle beiträge\n",
    "texte = soup.find_all(\"div\", attrs = {\"class\" : \"posts-wrapper\"})"
   ]
  },
  {
   "cell_type": "code",
   "execution_count": 126,
   "id": "ad8be4da",
   "metadata": {},
   "outputs": [],
   "source": [
    "text = texte[0].find(\"a\")[\"href\"]\n",
    "\n",
    "# Text name \n",
    "url = text\n",
    "response = requests.get(url)\n",
    "soup = BeautifulSoup(response.content)\n",
    "\n",
    "text_titel = soup.find(\"title\").get_text().strip()"
   ]
  },
  {
   "cell_type": "code",
   "execution_count": 127,
   "id": "52ae632e",
   "metadata": {},
   "outputs": [],
   "source": [
    "appending()"
   ]
  },
  {
   "cell_type": "markdown",
   "id": "8c021afd",
   "metadata": {},
   "source": [
    "# Ultras Frankfurt (Eintrach Frankfurt)"
   ]
  },
  {
   "cell_type": "code",
   "execution_count": 128,
   "id": "a94a2a37",
   "metadata": {},
   "outputs": [],
   "source": [
    "index = 14\n",
    "verein = \"Eintracht Frankfurt\"\n",
    "liga = \"1. Bundesliga\"\n",
    "vereinsseite = \"https://www.eintracht.de/\"\n",
    "icon = \"https://upload.wikimedia.org/wikipedia/commons/thumb/0/04/Eintracht_Frankfurt_Logo.svg/1024px-Eintracht_Frankfurt_Logo.svg.png\"\n",
    "#hintergrundbild = \"https://besthqwallpapers.com/Uploads/2-2-2019/79231/eintracht-frankfurt-german-football-club-red-metal-texture-metal-logo-emblem.jpg\"\n",
    "hintergrundbild = \"https://www.generation-luzifer.de/wp-content/uploads/2016/08/bg.jpg\"\n",
    "mitgliederanzahl = \"130.000\"\n",
    "gründungsjahr = \"1899\"\n",
    "ticketing = \"https://stores.eintracht.de/tickets/\""
   ]
  },
  {
   "cell_type": "markdown",
   "id": "a8171057",
   "metadata": {},
   "source": [
    "### Fans"
   ]
  },
  {
   "cell_type": "code",
   "execution_count": 129,
   "id": "fb379bf1",
   "metadata": {},
   "outputs": [],
   "source": [
    "url = \"https://www.ultras-frankfurt.de/#/aktuell\"\n",
    "website = url\n",
    "title = get_title(url)"
   ]
  },
  {
   "cell_type": "markdown",
   "id": "cd719b16",
   "metadata": {},
   "source": [
    "### Bilder"
   ]
  },
  {
   "cell_type": "code",
   "execution_count": 130,
   "id": "70628ef8",
   "metadata": {},
   "outputs": [],
   "source": [
    "url = \"https://www.ultras-frankfurt.de/#/bilder/2324\"\n",
    "\n",
    "#response = requests.get(url)\n",
    "#soup = BeautifulSoup(response.content)\n",
    "\n",
    "        # alle bilder\n",
    "#pictures = soup.find_all(\"div\", attrs = {\"id\":\"content\"})"
   ]
  },
  {
   "cell_type": "code",
   "execution_count": 131,
   "id": "a3248b41",
   "metadata": {},
   "outputs": [],
   "source": [
    "#pictures = pictures[0].find(\"a\")[\"href\"]\n",
    "        # Bild name \n",
    "#url = pictures\n",
    "#response = requests.get(url)\n",
    "#soup = BeautifulSoup(response.content)\n",
    "\n",
    "\n",
    "#bilder_titel = soup.find(\"title\").get_text().strip()"
   ]
  },
  {
   "cell_type": "code",
   "execution_count": 132,
   "id": "95d58a2c",
   "metadata": {},
   "outputs": [],
   "source": [
    "pictures = \"https://www.ultras-frankfurt.de/#/bilder/2324\"\n",
    "bilder_titel = \"Saison 2023/2024\""
   ]
  },
  {
   "cell_type": "markdown",
   "id": "8521f732",
   "metadata": {},
   "source": [
    "### Neuste Beiträge"
   ]
  },
  {
   "cell_type": "code",
   "execution_count": 133,
   "id": "5b5bc62a",
   "metadata": {},
   "outputs": [],
   "source": [
    "url = \"https://www.ultras-frankfurt.de/#/aktuell\"\n",
    "text = url"
   ]
  },
  {
   "cell_type": "code",
   "execution_count": 134,
   "id": "a4178a74",
   "metadata": {},
   "outputs": [],
   "source": [
    "# Text name \n",
    "url = text\n",
    "response = requests.get(url)\n",
    "soup = BeautifulSoup(response.content)\n",
    "\n",
    "#text_titel = soup.find_all(\"div _ngcontent-hdr-5 \", attrs = {\"class\" : \"row neuigkeit\"})\n",
    "text_titel = \"Aktuelles\""
   ]
  },
  {
   "cell_type": "code",
   "execution_count": 135,
   "id": "bd99707d",
   "metadata": {},
   "outputs": [],
   "source": [
    "appending()"
   ]
  },
  {
   "cell_type": "markdown",
   "id": "a5b2208a",
   "metadata": {},
   "source": [
    "# Ultras Leverkusen (Bayer Leverkusen)"
   ]
  },
  {
   "cell_type": "code",
   "execution_count": 136,
   "id": "da116923",
   "metadata": {},
   "outputs": [],
   "source": [
    "index = 15\n",
    "verein = \"Bayer 04 Leverkusen\"\n",
    "liga = \"1. Bundesliga\"\n",
    "vereinsseite = \"https://www.bayer04.de/de-de\"\n",
    "icon = \"https://cdn-icons-png.flaticon.com/512/824/824744.png\"\n",
    "hintergrundbild = \"https://www.generation-luzifer.de/wp-content/uploads/2016/08/bg.jpg\"\n",
    "mitgliederanzahl = \"30.000\"\n",
    "gründungsjahr = \"1904\"\n",
    "ticketing = \"https://www.bayer04.de/de-de/shop/tickets?wt_mc=webseite.header_menue...ad\""
   ]
  },
  {
   "cell_type": "markdown",
   "id": "b3471c52",
   "metadata": {},
   "source": [
    "### Fans"
   ]
  },
  {
   "cell_type": "code",
   "execution_count": 137,
   "id": "54f18a90",
   "metadata": {},
   "outputs": [],
   "source": [
    "url = \"https://ultras-leverkusen.de/\"\n",
    "website = url\n",
    "title = get_title(url)"
   ]
  },
  {
   "cell_type": "markdown",
   "id": "3a62fe8f",
   "metadata": {},
   "source": [
    "### Bilder"
   ]
  },
  {
   "cell_type": "code",
   "execution_count": 138,
   "id": "449c7e93",
   "metadata": {},
   "outputs": [],
   "source": [
    "url = \"https://ultras-leverkusen.de/\"\n",
    "\n",
    "response = requests.get(url)\n",
    "soup = BeautifulSoup(response.content)\n",
    "\n",
    "# alle bilder\n",
    "pictures = soup.find_all(\"aside\", attrs = {\"id\":\"sidebar\"})"
   ]
  },
  {
   "cell_type": "code",
   "execution_count": 139,
   "id": "a2cf2572",
   "metadata": {},
   "outputs": [],
   "source": [
    "pictures = pictures[0].find(\"a\")[\"href\"]\n",
    "# Bild name \n",
    "url = pictures\n",
    "response = requests.get(url)\n",
    "soup = BeautifulSoup(response.content)\n",
    "\n",
    "\n",
    "bilder_titel = soup.find(\"title\").get_text().strip()"
   ]
  },
  {
   "cell_type": "markdown",
   "id": "5abe3c3a",
   "metadata": {},
   "source": [
    "### Neuste Beiträge"
   ]
  },
  {
   "cell_type": "code",
   "execution_count": 140,
   "id": "a0719930",
   "metadata": {},
   "outputs": [],
   "source": [
    "url = \"https://ultras-leverkusen.de/\"\n",
    "text = url"
   ]
  },
  {
   "cell_type": "code",
   "execution_count": 141,
   "id": "02adfa8c",
   "metadata": {},
   "outputs": [],
   "source": [
    "# Text name \n",
    "url = text\n",
    "response = requests.get(url)\n",
    "soup = BeautifulSoup(response.content)\n",
    "\n",
    "text_titel = soup.find_all(\"div\", attrs = {\"id\" : \"post-list\"})\n",
    "text_titel = text_titel[0].find_all(\"div\", attrs = {\"class\" : \"title-bar\"})\n",
    "text_titel = text_titel[0].find(\"h2\").get_text()"
   ]
  },
  {
   "cell_type": "code",
   "execution_count": 142,
   "id": "0a8b3e7e",
   "metadata": {},
   "outputs": [],
   "source": [
    "appending()"
   ]
  },
  {
   "cell_type": "markdown",
   "id": "e6e9cb31",
   "metadata": {},
   "source": [
    "# Scotto Cultura (Gladbach)"
   ]
  },
  {
   "cell_type": "code",
   "execution_count": 143,
   "id": "a194ea4e",
   "metadata": {},
   "outputs": [],
   "source": [
    "index = 16\n",
    "verein = \"Borussia Mönchengladbach\"\n",
    "liga = \"1. Bundesliga\"\n",
    "vereinsseite = \"https://www.borussia.de/de/\"\n",
    "icon = \"https://upload.wikimedia.org/wikipedia/commons/thumb/8/81/Borussia_M%C3%B6nchengladbach_logo.svg/1200px-Borussia_M%C3%B6nchengladbach_logo.svg.png\"\n",
    "hintergrundbild = \"https://media.istockphoto.com/id/1350046657/de/foto/dunkelgr%C3%BCn-unscharfe-bewegung-abstrakter-hintergrund.jpg?s=612x612&w=0&k=20&c=rUI7YNnwLMuWOZxqJGnT1IzWEwyPOfAi-Iwx8BdkEak=\"\n",
    "mitgliederanzahl = \"98.000\"\n",
    "gründungsjahr = \"1900\"\n",
    "ticketing = \"https://www.ticket-onlineshop.com/ols/borussia-tickets/?emid=\""
   ]
  },
  {
   "cell_type": "markdown",
   "id": "59ae3491",
   "metadata": {},
   "source": [
    "### Fans"
   ]
  },
  {
   "cell_type": "code",
   "execution_count": 144,
   "id": "4b09d5d7",
   "metadata": {},
   "outputs": [],
   "source": [
    "url = \"https://sottocultura.de/\"\n",
    "website = url\n",
    "title = get_title(url)"
   ]
  },
  {
   "cell_type": "markdown",
   "id": "6d38f2e3",
   "metadata": {},
   "source": [
    "### Bilder"
   ]
  },
  {
   "cell_type": "code",
   "execution_count": 145,
   "id": "8d9b5002",
   "metadata": {},
   "outputs": [],
   "source": [
    "url = \"https://sottocultura.de/nordkurvenfotos/\"\n",
    "\n",
    "response = requests.get(url)\n",
    "soup = BeautifulSoup(response.content)\n",
    "\n",
    "# alle bilder\n",
    "pictures = soup.find_all(\"div\", attrs = {\"class\":\"rt-row rt-content-loader layout1\"})"
   ]
  },
  {
   "cell_type": "code",
   "execution_count": 146,
   "id": "a1d8ceb3",
   "metadata": {},
   "outputs": [],
   "source": [
    "pictures = pictures[0].find(\"a\")[\"href\"]\n",
    "# Bild name \n",
    "url = pictures\n",
    "response = requests.get(url)\n",
    "soup = BeautifulSoup(response.content)\n",
    "\n",
    "\n",
    "bilder_titel = soup.find(\"title\").get_text().strip()"
   ]
  },
  {
   "cell_type": "markdown",
   "id": "b42e462c",
   "metadata": {},
   "source": [
    "### Neuste Beiträge "
   ]
  },
  {
   "cell_type": "code",
   "execution_count": 147,
   "id": "f8d24d9e",
   "metadata": {},
   "outputs": [],
   "source": [
    "url = \"https://sottocultura.de/\"\n",
    "\n",
    "response = requests.get(url)\n",
    "soup = BeautifulSoup(response.content)\n",
    "\n",
    "# alle beiträge\n",
    "texte = soup.find_all(\"div\", attrs = {\"class\" : \"rt-row rt-content-loader layout2 tpg-even\"})"
   ]
  },
  {
   "cell_type": "code",
   "execution_count": 148,
   "id": "85379a85",
   "metadata": {},
   "outputs": [],
   "source": [
    "text = texte[0].find(\"a\")[\"href\"]\n",
    "\n",
    "# Text name \n",
    "url = text\n",
    "response = requests.get(url)\n",
    "soup = BeautifulSoup(response.content)\n",
    "\n",
    "text_titel = soup.find(\"title\").get_text().strip()"
   ]
  },
  {
   "cell_type": "code",
   "execution_count": 149,
   "id": "1eb698aa",
   "metadata": {},
   "outputs": [],
   "source": [
    "appending()"
   ]
  },
  {
   "cell_type": "markdown",
   "id": "acd7a657",
   "metadata": {},
   "source": [
    "# Infamous Youth (Bremen)"
   ]
  },
  {
   "cell_type": "code",
   "execution_count": 150,
   "id": "b95dccf5",
   "metadata": {},
   "outputs": [],
   "source": [
    "index = 17\n",
    "verein = \"Werder Bremen\"\n",
    "liga = \"1. Bundesliga\"\n",
    "vereinsseite = \"https://www.werder.de/\"\n",
    "icon = \"https://upload.wikimedia.org/wikipedia/commons/thumb/b/be/SV-Werder-Bremen-Logo.svg/1200px-SV-Werder-Bremen-Logo.svg.png\"\n",
    "hintergrundbild = \"https://media.istockphoto.com/id/1350046657/de/foto/dunkelgr%C3%BCn-unscharfe-bewegung-abstrakter-hintergrund.jpg?s=612x612&w=0&k=20&c=rUI7YNnwLMuWOZxqJGnT1IzWEwyPOfAi-Iwx8BdkEak=\"\n",
    "mitgliederanzahl = \"48.000\"\n",
    "gründungsjahr = \"1899\"\n",
    "ticketing = \"https://www.werder.de/tickets/heimspiele/\""
   ]
  },
  {
   "cell_type": "markdown",
   "id": "c9c7e935",
   "metadata": {},
   "source": [
    "### Fans"
   ]
  },
  {
   "cell_type": "code",
   "execution_count": 151,
   "id": "d1f320b7",
   "metadata": {},
   "outputs": [],
   "source": [
    "url = \"https://infamousyouth.org/\"\n",
    "website = url\n",
    "title = get_title(url)"
   ]
  },
  {
   "cell_type": "markdown",
   "id": "72a6e969",
   "metadata": {},
   "source": [
    "### Bilder"
   ]
  },
  {
   "cell_type": "code",
   "execution_count": 152,
   "id": "e55ab62b",
   "metadata": {},
   "outputs": [],
   "source": [
    "url = \"https://infamousyouth.org/category/fotos/\"\n",
    "\n",
    "response = requests.get(url)\n",
    "soup = BeautifulSoup(response.content)\n",
    "\n",
    "# alle bilder\n",
    "pictures = soup.find_all(\"span\", attrs = {\"class\":\"meta-date\"})"
   ]
  },
  {
   "cell_type": "code",
   "execution_count": 153,
   "id": "c3a709df",
   "metadata": {},
   "outputs": [],
   "source": [
    "pictures = pictures[0].find(\"a\")[\"href\"]\n",
    "# Bild name \n",
    "url = pictures\n",
    "response = requests.get(url)\n",
    "soup = BeautifulSoup(response.content)\n",
    "\n",
    "\n",
    "bilder_titel = soup.find(\"title\").get_text().strip()"
   ]
  },
  {
   "cell_type": "markdown",
   "id": "77b25961",
   "metadata": {},
   "source": [
    "### Neuste Beiträge"
   ]
  },
  {
   "cell_type": "code",
   "execution_count": 154,
   "id": "6203089d",
   "metadata": {},
   "outputs": [],
   "source": [
    "url = \"https://infamousyouth.org/\"\n",
    "\n",
    "response = requests.get(url)\n",
    "soup = BeautifulSoup(response.content)\n",
    "\n",
    "# alle beiträge\n",
    "texte = soup.find_all(\"div\", attrs = {\"id\" : \"post-wrapper\"})"
   ]
  },
  {
   "cell_type": "code",
   "execution_count": 155,
   "id": "819fef25",
   "metadata": {},
   "outputs": [],
   "source": [
    "text = texte[0].find(\"a\")[\"href\"]\n",
    "\n",
    "# Text name \n",
    "url = text\n",
    "response = requests.get(url)\n",
    "soup = BeautifulSoup(response.content)\n",
    "\n",
    "text_titel = soup.find(\"title\").get_text().strip()"
   ]
  },
  {
   "cell_type": "code",
   "execution_count": 156,
   "id": "fcdf54e7",
   "metadata": {},
   "outputs": [],
   "source": [
    "appending()"
   ]
  },
  {
   "cell_type": "markdown",
   "id": "c3641224",
   "metadata": {},
   "source": [
    "# Ultras Bochum (VfL Bochum)"
   ]
  },
  {
   "cell_type": "code",
   "execution_count": 157,
   "id": "85bc8c8e",
   "metadata": {},
   "outputs": [],
   "source": [
    "index = 18\n",
    "verein = \"VfL Bochum\"\n",
    "liga = \"1. Bundesliga\"\n",
    "vereinsseite = \"https://www.vfl-bochum.de/de\"\n",
    "icon = \"https://upload.wikimedia.org/wikipedia/commons/thumb/7/72/VfL_Bochum_logo.svg/1945px-VfL_Bochum_logo.svg.png\"\n",
    "hintergrundbild = \"https://img.freepik.com/fotos-kostenlos/abstrakter-strukturierter-hintergrund_1258-30506.jpg\"\n",
    "mitgliederanzahl = \"25.000\"\n",
    "gründungsjahr = \"1848\"\n",
    "ticketing = \"https://www.ticket-onlineshop.com/ols/vflbochum1848/?_gl=1*vzyg6*_ga*ODk0NzY4ODM5LjE3MDEzNjIzMDk.*_ga_J6WZ9208G8*MTcwMTM2MjMwOC4xLjEuMTcwMTM2MjMzOC4wLjAuMA..\""
   ]
  },
  {
   "cell_type": "markdown",
   "id": "e87ff596",
   "metadata": {},
   "source": [
    "### Fans "
   ]
  },
  {
   "cell_type": "code",
   "execution_count": 158,
   "id": "09749c9b",
   "metadata": {
    "scrolled": true
   },
   "outputs": [],
   "source": [
    "url = \"http://ub99.de/\"\n",
    "website = url\n",
    "title = get_title(url)"
   ]
  },
  {
   "cell_type": "markdown",
   "id": "7df6b060",
   "metadata": {},
   "source": [
    "### Bilder "
   ]
  },
  {
   "cell_type": "code",
   "execution_count": 159,
   "id": "7d144b2b",
   "metadata": {},
   "outputs": [],
   "source": [
    "url = \"http://ub99.de/\"\n",
    "\n",
    "response = requests.get(url)\n",
    "soup = BeautifulSoup(response.content)\n",
    "\n",
    "# alle bilder\n",
    "pictures = \"http://ub99.de/\"\n",
    "bilder_titel = \"Nicht Vorhanden\""
   ]
  },
  {
   "cell_type": "markdown",
   "id": "b5add1f8",
   "metadata": {},
   "source": [
    "### Neuste Beiträge"
   ]
  },
  {
   "cell_type": "code",
   "execution_count": 160,
   "id": "01e04b79",
   "metadata": {},
   "outputs": [],
   "source": [
    "url = \"http://ub99.de/\"\n",
    "\n",
    "response = requests.get(url)\n",
    "soup = BeautifulSoup(response.content)\n",
    "\n",
    "# alle beiträge\n",
    "texte = soup.find_all(\"main\", attrs = {\"id\" : \"main\"})"
   ]
  },
  {
   "cell_type": "code",
   "execution_count": 161,
   "id": "d8370660",
   "metadata": {},
   "outputs": [],
   "source": [
    "text = texte[0].find(\"a\")[\"href\"]\n",
    "\n",
    "# Text name \n",
    "url = text\n",
    "response = requests.get(url)\n",
    "soup = BeautifulSoup(response.content)\n",
    "\n",
    "text_titel = soup.find(\"title\").get_text().strip()"
   ]
  },
  {
   "cell_type": "code",
   "execution_count": 162,
   "id": "44e417ab",
   "metadata": {
    "scrolled": true
   },
   "outputs": [],
   "source": [
    "appending()"
   ]
  },
  {
   "cell_type": "markdown",
   "id": "a45dea06",
   "metadata": {},
   "source": [
    "# Südtribüne Darmstadt"
   ]
  },
  {
   "cell_type": "code",
   "execution_count": 163,
   "id": "0308b34b",
   "metadata": {},
   "outputs": [],
   "source": [
    "index = 19\n",
    "verein = \"SV Darmstadt 98\"\n",
    "liga = \"1. Bundesliga\"\n",
    "vereinsseite = \"https://www.sv98.de/fans/\"\n",
    "icon = \"https://upload.wikimedia.org/wikipedia/commons/thumb/e/e5/SV_Darmstadt_98_Logo.svg/1024px-SV_Darmstadt_98_Logo.svg.png\"\n",
    "hintergrundbild = \"https://img.freepik.com/fotos-kostenlos/abstrakter-strukturierter-hintergrund_1258-30506.jpg\"\n",
    "mitgliederanzahl = \"14.000\"\n",
    "gründungsjahr = \"1898\"\n",
    "ticketing = \"https://indiv.themisweb.de/0224/fListeManifs.aspx?idstructure=0224&_gl=1*1lf7vz6*_ga*Mjc2MTQyOTk1LjE3MDE0MjU0MjI.*_ga_FJYJ3MQ8BH*MTcwMTQyNTQyMi4xLjAuMTcwMTQyNTQyMi4wLjAuMA..\""
   ]
  },
  {
   "cell_type": "markdown",
   "id": "e642de6d",
   "metadata": {},
   "source": [
    "### Fans"
   ]
  },
  {
   "cell_type": "code",
   "execution_count": 164,
   "id": "bf8c4551",
   "metadata": {},
   "outputs": [],
   "source": [
    "url = \"http://block1898.de/\"\n",
    "website = url\n",
    "title = get_title(url)"
   ]
  },
  {
   "cell_type": "markdown",
   "id": "03a974fb",
   "metadata": {},
   "source": [
    "### Bilder"
   ]
  },
  {
   "cell_type": "code",
   "execution_count": 165,
   "id": "2bca80c0",
   "metadata": {},
   "outputs": [],
   "source": [
    "url = \"http://usualsuspects2006.de/\"\n",
    "\n",
    "response = requests.get(url)\n",
    "soup = BeautifulSoup(response.content)\n",
    "\n",
    "# alle bilder\n",
    "pictures = soup.find_all(\"div\", attrs = {\"id\":\"content\"})"
   ]
  },
  {
   "cell_type": "code",
   "execution_count": 166,
   "id": "c068499f",
   "metadata": {},
   "outputs": [],
   "source": [
    "pictures = pictures[0].find_all(\"h2\", attrs = {\"class\":\"entry-title\"})\n",
    "pictures = pictures[0].find(\"a\")[\"href\"]\n",
    "# Bild name \n",
    "url = pictures\n",
    "response = requests.get(url)\n",
    "soup = BeautifulSoup(response.content)\n",
    "\n",
    "\n",
    "bilder_titel = soup.find(\"title\").get_text().strip()"
   ]
  },
  {
   "cell_type": "markdown",
   "id": "b85e17ef",
   "metadata": {},
   "source": [
    "### Neuste Beiträge"
   ]
  },
  {
   "cell_type": "code",
   "execution_count": 167,
   "id": "add795a7",
   "metadata": {},
   "outputs": [],
   "source": [
    "url = \"http://block1898.de/\"\n",
    "\n",
    "response = requests.get(url)\n",
    "soup = BeautifulSoup(response.content)\n",
    "\n",
    "# alle beiträge\n",
    "texte = soup.find_all(\"div\", attrs = {\"class\" : \"post-listing archive-box\"})"
   ]
  },
  {
   "cell_type": "code",
   "execution_count": 168,
   "id": "a9046d65",
   "metadata": {},
   "outputs": [],
   "source": [
    "text = texte[0].find(\"a\")[\"href\"]\n",
    "\n",
    "# Text name \n",
    "url = text\n",
    "response = requests.get(url)\n",
    "soup = BeautifulSoup(response.content)\n",
    "\n",
    "text_titel = soup.find(\"title\").get_text().strip()"
   ]
  },
  {
   "cell_type": "code",
   "execution_count": 169,
   "id": "eb5a2475",
   "metadata": {},
   "outputs": [],
   "source": [
    "appending()"
   ]
  },
  {
   "cell_type": "markdown",
   "id": "0eca5b0b",
   "metadata": {},
   "source": [
    "# Q-Block (Mainz)"
   ]
  },
  {
   "cell_type": "code",
   "execution_count": 170,
   "id": "94534904",
   "metadata": {},
   "outputs": [],
   "source": [
    "index = 20\n",
    "verein = \"1. FSV Mainz 05\"\n",
    "liga = \"1. Bundesliga\"\n",
    "vereinsseite = \"https://www.mainz05.de/\"\n",
    "icon = \"https://upload.wikimedia.org/wikipedia/commons/d/d6/FSV_Mainz_05_Logo.png\"\n",
    "hintergrundbild = \"https://www.generation-luzifer.de/wp-content/uploads/2016/08/bg.jpg\"\n",
    "mitgliederanzahl = \"18.000\"\n",
    "gründungsjahr = \"1905\"\n",
    "ticketing = \"hhttps://www.ticket-onlineshop.com/ols/Mainz05/de?_ga=2.127289096.40228816.1701370982-978364411.1701370982\""
   ]
  },
  {
   "cell_type": "markdown",
   "id": "2faea5b4",
   "metadata": {},
   "source": [
    "### Fans"
   ]
  },
  {
   "cell_type": "code",
   "execution_count": 171,
   "id": "af7b440e",
   "metadata": {},
   "outputs": [],
   "source": [
    "url = \"http://q-block.de/\"\n",
    "website = url\n",
    "title = get_title(url)"
   ]
  },
  {
   "cell_type": "markdown",
   "id": "002db8ef",
   "metadata": {},
   "source": [
    "### Bilder"
   ]
  },
  {
   "cell_type": "code",
   "execution_count": 172,
   "id": "6adef765",
   "metadata": {},
   "outputs": [],
   "source": [
    "url = \"http://www.rheinhessen-on-tour.de/saison-2023-2024/\"\n",
    "\n",
    "response = requests.get(url)\n",
    "soup = BeautifulSoup(response.content)\n",
    "\n",
    "# alle bilder\n",
    "all_pictures = soup.find_all(\"div\", attrs = {\"class\":\"ngg-albumoverview\"})"
   ]
  },
  {
   "cell_type": "code",
   "execution_count": 173,
   "id": "d0ef8a85",
   "metadata": {},
   "outputs": [],
   "source": [
    "pictures = all_pictures[0].find(\"a\")[\"href\"]\n",
    "# Bild name \n",
    "url = pictures\n",
    "response = requests.get(url)\n",
    "soup = BeautifulSoup(response.content)\n",
    "\n",
    "\n",
    "bilder_titel = all_pictures[0].find_all(\"a\", attrs = {\"href\":pictures})[0].get_text()"
   ]
  },
  {
   "cell_type": "markdown",
   "id": "5910346e",
   "metadata": {},
   "source": [
    "### Neue Beiträge"
   ]
  },
  {
   "cell_type": "code",
   "execution_count": 174,
   "id": "6f46619e",
   "metadata": {
    "scrolled": true
   },
   "outputs": [],
   "source": [
    "url = \"http://q-block.de/\"\n",
    "\n",
    "response = requests.get(url)\n",
    "soup = BeautifulSoup(response.content)\n",
    "\n",
    "# alle beiträge\n",
    "texte = soup.find_all(\"div\", attrs = {\"id\" : \"content\"})\n",
    "texte = texte[0].find_all(\"h2\", attrs = {\"class\" : \"page-title\"})"
   ]
  },
  {
   "cell_type": "code",
   "execution_count": 175,
   "id": "2a63a966",
   "metadata": {},
   "outputs": [],
   "source": [
    "text = texte[0].find(\"a\")[\"href\"]\n",
    "\n",
    "# Text name \n",
    "url = text\n",
    "response = requests.get(url)\n",
    "soup = BeautifulSoup(response.content)\n",
    "\n",
    "text_titel = soup.find(\"title\").get_text().strip()"
   ]
  },
  {
   "cell_type": "code",
   "execution_count": 176,
   "id": "5efae739",
   "metadata": {},
   "outputs": [],
   "source": [
    "appending()"
   ]
  },
  {
   "cell_type": "markdown",
   "id": "a7206d11",
   "metadata": {},
   "source": [
    "# Hammer Hearts (Union Berlin)"
   ]
  },
  {
   "cell_type": "code",
   "execution_count": 177,
   "id": "716f5a74",
   "metadata": {},
   "outputs": [],
   "source": [
    "index = 21\n",
    "verein = \"1. FC Union Berlin\"\n",
    "liga = \"1. Bundesliga\"\n",
    "vereinsseite = \"https://www.fc-union-berlin.de/de/\"\n",
    "icon = \"https://upload.wikimedia.org/wikipedia/sco/thumb/f/fe/1._FC_Union_Berlin_logo.svg/2560px-1._FC_Union_Berlin_logo.svg.png\"\n",
    "hintergrundbild = \"https://www.stoff4you.at/out/pictures/master/product/1/43001250-rot.jpg\"\n",
    "mitgliederanzahl = \"63.000\"\n",
    "gründungsjahr = \"1966\"\n",
    "ticketing = \"https://www.fc-union-berlin.de/de/\""
   ]
  },
  {
   "cell_type": "markdown",
   "id": "33d45684",
   "metadata": {},
   "source": [
    "### Fans"
   ]
  },
  {
   "cell_type": "code",
   "execution_count": 178,
   "id": "28c44dae",
   "metadata": {},
   "outputs": [],
   "source": [
    "url = \"https://www.hh04.de/\"\n",
    "website = url\n",
    "title = get_title(url)"
   ]
  },
  {
   "cell_type": "markdown",
   "id": "aa64f8c3",
   "metadata": {},
   "source": [
    "### Bilder"
   ]
  },
  {
   "cell_type": "code",
   "execution_count": 179,
   "id": "7aba5323",
   "metadata": {},
   "outputs": [],
   "source": [
    "url = \"https://www.hh04.de/fotos/saison-2023-2024/\"\n",
    "\n",
    "response = requests.get(url)\n",
    "soup = BeautifulSoup(response.content)\n",
    "\n",
    "# alle bilder\n",
    "pictures = soup.find_all(\"div\", attrs = {\"class\":\"entry-content\"})"
   ]
  },
  {
   "cell_type": "code",
   "execution_count": 180,
   "id": "67224a5d",
   "metadata": {},
   "outputs": [],
   "source": [
    "pictures = pictures[0].find_all(\"a\")[-1]"
   ]
  },
  {
   "cell_type": "code",
   "execution_count": 181,
   "id": "747a8cf8",
   "metadata": {},
   "outputs": [],
   "source": [
    "bilder_titel = pictures.get_text()"
   ]
  },
  {
   "cell_type": "code",
   "execution_count": 182,
   "id": "7d2e269c",
   "metadata": {},
   "outputs": [],
   "source": [
    "pictures = \"https://www.hh04.de/fotos/saison-2023-2024/\""
   ]
  },
  {
   "cell_type": "markdown",
   "id": "76f04c54",
   "metadata": {},
   "source": [
    "### Neuste Beiträge"
   ]
  },
  {
   "cell_type": "code",
   "execution_count": 183,
   "id": "5cd461c5",
   "metadata": {},
   "outputs": [],
   "source": [
    "url = \"https://www.hh04.de/\"\n",
    "\n",
    "response = requests.get(url)\n",
    "soup = BeautifulSoup(response.content)\n",
    "\n",
    "# alle beiträge\n",
    "texte = soup.find_all(\"main\", attrs = {\"id\" : \"main\"})"
   ]
  },
  {
   "cell_type": "code",
   "execution_count": 184,
   "id": "181c4013",
   "metadata": {},
   "outputs": [],
   "source": [
    "text = texte[0].find(\"a\")[\"href\"]\n",
    "\n",
    "# Text name \n",
    "url = text\n",
    "response = requests.get(url)\n",
    "soup = BeautifulSoup(response.content)\n",
    "\n",
    "text_titel = soup.find(\"title\").get_text().strip()"
   ]
  },
  {
   "cell_type": "code",
   "execution_count": 185,
   "id": "e63f056c",
   "metadata": {},
   "outputs": [],
   "source": [
    "appending()"
   ]
  },
  {
   "cell_type": "markdown",
   "id": "f1d28063",
   "metadata": {},
   "source": [
    "# Block U (Magdeburg)"
   ]
  },
  {
   "cell_type": "code",
   "execution_count": 186,
   "id": "d735f4a2",
   "metadata": {},
   "outputs": [],
   "source": [
    "index = 22\n",
    "verein = \"1. FC Magdeburg\"\n",
    "liga = \"2. Bundesliga\"\n",
    "vereinsseite = \"https://1.fc-magdeburg.de/\"\n",
    "icon = \"https://upload.wikimedia.org/wikipedia/commons/thumb/8/84/1._FC_Magdeburg.svg/512px-1._FC_Magdeburg.svg.png\"\n",
    "hintergrundbild = \"https://img.freepik.com/fotos-kostenlos/abstrakter-strukturierter-hintergrund_1258-30506.jpg\"\n",
    "mitgliederanzahl = \"11.700\"\n",
    "gründungsjahr = \"1965\"\n",
    "ticketing = \"https://www.ticket-onlineshop.com/ols/fcm/\""
   ]
  },
  {
   "cell_type": "markdown",
   "id": "66ea38c4",
   "metadata": {},
   "source": [
    "### Fans"
   ]
  },
  {
   "cell_type": "code",
   "execution_count": 187,
   "id": "b11a46a6",
   "metadata": {},
   "outputs": [],
   "source": [
    "url = \"https://block-u.de/startseite\"\n",
    "website = url\n",
    "title = get_title(url)"
   ]
  },
  {
   "cell_type": "markdown",
   "id": "6055aa30",
   "metadata": {},
   "source": [
    "### Bilder"
   ]
  },
  {
   "cell_type": "code",
   "execution_count": 188,
   "id": "62aa5c0c",
   "metadata": {},
   "outputs": [],
   "source": [
    "url = \"https://www.hh04.de/fotos/saison-2023-2024/\"\n",
    "\n",
    "# alle bilder\n",
    "pictures = \"https://block-u.de/media\""
   ]
  },
  {
   "cell_type": "code",
   "execution_count": 189,
   "id": "ca93f33e",
   "metadata": {},
   "outputs": [],
   "source": [
    "url = \"https://block-u.de/media\"\n",
    "response = requests.get(url)\n",
    "soup = BeautifulSoup(response.content)\n",
    "\n",
    "# alle bilder\n",
    "bilder_titel = soup.find_all(\"select\", attrs = {\"id\":\"select_album\"})"
   ]
  },
  {
   "cell_type": "code",
   "execution_count": 190,
   "id": "53e9b742",
   "metadata": {
    "scrolled": true
   },
   "outputs": [],
   "source": [
    "nummer = bilder_titel[0].find(\"option\")[\"value\"]"
   ]
  },
  {
   "cell_type": "code",
   "execution_count": 191,
   "id": "bd9445bb",
   "metadata": {},
   "outputs": [],
   "source": [
    "bilder_titel = bilder_titel[0].find(\"option\", attrs = {\"value\":nummer}).get_text()"
   ]
  },
  {
   "cell_type": "markdown",
   "id": "d97212a9",
   "metadata": {},
   "source": [
    "### Neuste Beiträge"
   ]
  },
  {
   "cell_type": "code",
   "execution_count": 192,
   "id": "db0ba7c0",
   "metadata": {},
   "outputs": [],
   "source": [
    "url = \"https://block-u.de/startseite\"\n",
    "text= url\n",
    "\n",
    "\n",
    "response = requests.get(url)\n",
    "soup = BeautifulSoup(response.content)\n",
    "\n",
    "# alle beiträge\n",
    "text_titel = soup.find_all(\"div\", attrs = {\"class\" : \"row dashed-bottom\"})"
   ]
  },
  {
   "cell_type": "code",
   "execution_count": 193,
   "id": "60eb651f",
   "metadata": {
    "scrolled": true
   },
   "outputs": [],
   "source": [
    "text_titel = text_titel[0].find_all(\"h3\", attrs = {\"class\" : \"text-light\"})"
   ]
  },
  {
   "cell_type": "code",
   "execution_count": 194,
   "id": "8ffef5a9",
   "metadata": {},
   "outputs": [],
   "source": [
    "text_titel = str(text_titel)[24:-6]"
   ]
  },
  {
   "cell_type": "code",
   "execution_count": 195,
   "id": "16e7d635",
   "metadata": {},
   "outputs": [],
   "source": [
    "appending()"
   ]
  },
  {
   "cell_type": "markdown",
   "id": "53aaa361",
   "metadata": {},
   "source": [
    "# Compagno Ultras (Kiel)"
   ]
  },
  {
   "cell_type": "code",
   "execution_count": 196,
   "id": "8d9fea47",
   "metadata": {},
   "outputs": [],
   "source": [
    "index = 23\n",
    "verein = \"Holstein Kiel\"\n",
    "liga = \"2. Bundesliga\"\n",
    "vereinsseite = \"https://www.holstein-kiel.de/\"\n",
    "icon = \"https://upload.wikimedia.org/wikipedia/commons/thumb/3/30/Holstein_Kiel_Logo.svg/2048px-Holstein_Kiel_Logo.svg.png\"\n",
    "hintergrundbild = \"https://img.freepik.com/fotos-kostenlos/abstrakter-strukturierter-hintergrund_1258-30506.jpg\"\n",
    "mitgliederanzahl = \"4.200\"\n",
    "gründungsjahr = \"1900\"\n",
    "ticketing = \"https://www.ticket-onlineshop.com/ols/holstein-kiel/\""
   ]
  },
  {
   "cell_type": "markdown",
   "id": "9a3f67c4",
   "metadata": {},
   "source": [
    "### Fans"
   ]
  },
  {
   "cell_type": "code",
   "execution_count": 197,
   "id": "2f4ac9d0",
   "metadata": {},
   "outputs": [],
   "source": [
    "url = \"https://compagnokiel.com/\"\n",
    "website = url\n",
    "title = get_title(url)"
   ]
  },
  {
   "cell_type": "markdown",
   "id": "88810b8d",
   "metadata": {},
   "source": [
    "### Bilder/Texte"
   ]
  },
  {
   "cell_type": "code",
   "execution_count": 198,
   "id": "8de7eb84",
   "metadata": {},
   "outputs": [],
   "source": [
    "url = \"https://compagnokiel.com/author/compagnokiel/\"\n",
    "\n",
    "# alle bilder\n",
    "response = requests.get(url)\n",
    "soup = BeautifulSoup(response.content)\n",
    "\n",
    "# alle bilder\n",
    "inhalt = soup.find_all(\"div\", attrs = {\"class\":\"posts\"})"
   ]
  },
  {
   "cell_type": "code",
   "execution_count": 199,
   "id": "8bb6fc3c",
   "metadata": {},
   "outputs": [],
   "source": [
    "link = inhalt[0].find(\"a\")[\"href\"]\n",
    "\n",
    "url = link\n",
    "response = requests.get(url)\n",
    "soup = BeautifulSoup(response.content)\n",
    "\n",
    "inhalt_titel = soup.find(\"title\").get_text().strip()"
   ]
  },
  {
   "cell_type": "code",
   "execution_count": 200,
   "id": "5113b684",
   "metadata": {},
   "outputs": [],
   "source": [
    "if \"(\" in inhalt_titel and \")\" in inhalt_titel:\n",
    "    pictures = link\n",
    "    bilder_titel = inhalt_titel\n",
    "    \n",
    "    text = df_old[\"Neuster Text\"][df_old[\"Verein\"] == \"Holstein Kiel\"].values[0]\n",
    "    text_titel = df_old[\"Text Titel\"][df_old[\"Verein\"] == \"Holstein Kiel\"].values[0]\n",
    "    \n",
    "else:\n",
    "    text = link\n",
    "    text_titel = inhalt_titel\n",
    "    \n",
    "    pictures = df_old[\"Neuste Bilder\"][df_old[\"Verein\"] == \"Holstein Kiel\"].values[0]\n",
    "    bilder_titel = df_old[\"Bild Titel\"][df_old[\"Verein\"] == \"Holstein Kiel\"].values[0]"
   ]
  },
  {
   "cell_type": "code",
   "execution_count": 201,
   "id": "fed9c470",
   "metadata": {},
   "outputs": [],
   "source": [
    "appending()"
   ]
  },
  {
   "cell_type": "markdown",
   "id": "7e1ccedb",
   "metadata": {},
   "source": [
    "# Horidos (Fürth)"
   ]
  },
  {
   "cell_type": "code",
   "execution_count": 202,
   "id": "ac8fb49e",
   "metadata": {},
   "outputs": [],
   "source": [
    "index = 24\n",
    "verein = \"SpVgg Fürth\"\n",
    "liga = \"2. Bundesliga\"\n",
    "vereinsseite = \"https://www.sgf1903.de/\"\n",
    "icon = \"https://upload.wikimedia.org/wikipedia/de/thumb/6/6d/SpVgg_Greuther_F%C3%BCrth_logo.svg/1200px-SpVgg_Greuther_F%C3%BCrth_logo.svg.png\"\n",
    "hintergrundbild = \"https://www.schemecolor.com/wallpaper?i=19368&mobile\"\n",
    "mitgliederanzahl = \"2.800\"\n",
    "gründungsjahr = \"1903\"\n",
    "ticketing = \"https://shop.sgf1903.de/sgf1903/SynwayWarengruppen/data/shop/cf9dd53c-5f1c-4f63-915b-992c5d4c2e32\""
   ]
  },
  {
   "cell_type": "markdown",
   "id": "4a73629e",
   "metadata": {},
   "source": [
    "### Fans"
   ]
  },
  {
   "cell_type": "code",
   "execution_count": 203,
   "id": "e481d4d8",
   "metadata": {},
   "outputs": [],
   "source": [
    "url = \"https://horidos.de/\"\n",
    "website = url\n",
    "title = get_title(url)"
   ]
  },
  {
   "cell_type": "markdown",
   "id": "9bb17165",
   "metadata": {},
   "source": [
    "### Bilder"
   ]
  },
  {
   "cell_type": "code",
   "execution_count": 204,
   "id": "00f833fe",
   "metadata": {},
   "outputs": [],
   "source": [
    "url = \"https://spvgg-fuerth.com/\"\n",
    "\n",
    "response = requests.get(url)\n",
    "soup = BeautifulSoup(response.content)\n",
    "\n",
    "# alle bilder\n",
    "all_pictures = soup.find_all(\"div\", attrs = {\"class\":\"intro\"})"
   ]
  },
  {
   "cell_type": "code",
   "execution_count": 205,
   "id": "c05d7afd",
   "metadata": {},
   "outputs": [],
   "source": [
    "pictures = all_pictures[0].find(\"a\")[\"href\"]\n",
    "# Bild name \n",
    "url = pictures\n",
    "response = requests.get(url)\n",
    "soup = BeautifulSoup(response.content)\n",
    "\n",
    "\n",
    "bilder_titel = soup.find(\"title\").get_text().strip()"
   ]
  },
  {
   "cell_type": "markdown",
   "id": "6f112eeb",
   "metadata": {},
   "source": [
    "### Neuste Beiträge"
   ]
  },
  {
   "cell_type": "code",
   "execution_count": 206,
   "id": "34f65d54",
   "metadata": {},
   "outputs": [],
   "source": [
    "url = \"https://horidos.de/\"\n",
    "\n",
    "response = requests.get(url)\n",
    "soup = BeautifulSoup(response.content)\n",
    "\n",
    "# alle beiträge\n",
    "texte = soup.find_all(\"div\", attrs = {\"class\" : \"yuki-page-builder-elements-wrapper\"})"
   ]
  },
  {
   "cell_type": "code",
   "execution_count": 207,
   "id": "ece80a8e",
   "metadata": {},
   "outputs": [],
   "source": [
    "text = texte[0].find(\"a\")[\"href\"]\n",
    "\n",
    "# Text name \n",
    "url = text\n",
    "response = requests.get(url)\n",
    "soup = BeautifulSoup(response.content)\n",
    "\n",
    "text_titel = soup.find(\"title\").get_text().strip()"
   ]
  },
  {
   "cell_type": "code",
   "execution_count": 208,
   "id": "f4832450",
   "metadata": {},
   "outputs": [],
   "source": [
    "appending()"
   ]
  },
  {
   "cell_type": "markdown",
   "id": "f4462f33",
   "metadata": {},
   "source": [
    "# Ultras Düsseldorf "
   ]
  },
  {
   "cell_type": "code",
   "execution_count": 209,
   "id": "298ccd5e",
   "metadata": {},
   "outputs": [],
   "source": [
    "index = 25\n",
    "verein = \"Fortuna Düsseldorf\"\n",
    "liga = \"2. Bundesliga\"\n",
    "vereinsseite = \"https://www.f95.de/\"\n",
    "icon = \"https://upload.wikimedia.org/wikipedia/commons/thumb/9/94/Fortuna_D%C3%BCsseldorf.svg/2048px-Fortuna_D%C3%BCsseldorf.svg.png\"\n",
    "hintergrundbild = \"https://besthqwallpapers.com/Uploads/2-3-2019/82216/fortuna-dusseldorf-creative-3d-logo-red-background-3d-emblem-german-football-club.jpg\"\n",
    "mitgliederanzahl = \"28.800\"\n",
    "gründungsjahr = \"1895\"\n",
    "ticketing = \"https://tickets.f95.de/f95/\""
   ]
  },
  {
   "cell_type": "markdown",
   "id": "2ea1abf1",
   "metadata": {},
   "source": [
    "### Fans"
   ]
  },
  {
   "cell_type": "code",
   "execution_count": 210,
   "id": "784bc647",
   "metadata": {},
   "outputs": [],
   "source": [
    "url = \"https://ultras-fortuna.de/\"\n",
    "website = url\n",
    "title = get_title(url)[0:-55]"
   ]
  },
  {
   "cell_type": "markdown",
   "id": "cf9e4fc9",
   "metadata": {},
   "source": [
    "### Bilder"
   ]
  },
  {
   "cell_type": "code",
   "execution_count": 211,
   "id": "b3235287",
   "metadata": {},
   "outputs": [],
   "source": [
    "url = \"https://ultras-fortuna.de/\"\n",
    "\n",
    "response = requests.get(url)\n",
    "soup = BeautifulSoup(response.content)\n",
    "\n",
    "# alle bilder\n",
    "all_pictures = soup.find_all(\"div\", attrs = {\"id\":\"secondary\"})"
   ]
  },
  {
   "cell_type": "code",
   "execution_count": 212,
   "id": "417f5573",
   "metadata": {},
   "outputs": [],
   "source": [
    "pictures = all_pictures[0].find(\"a\")[\"href\"]\n",
    "# Bild name \n",
    "url = pictures\n",
    "response = requests.get(url)\n",
    "soup = BeautifulSoup(response.content)\n",
    "\n",
    "\n",
    "bilder_titel = soup.find(\"title\").get_text().strip()"
   ]
  },
  {
   "cell_type": "markdown",
   "id": "aa8eae1a",
   "metadata": {},
   "source": [
    "### Neuste Beiträge"
   ]
  },
  {
   "cell_type": "code",
   "execution_count": 213,
   "id": "f8fbe31d",
   "metadata": {},
   "outputs": [],
   "source": [
    "url = \"https://ultras-fortuna.de/\"\n",
    "\n",
    "response = requests.get(url)\n",
    "soup = BeautifulSoup(response.content)\n",
    "\n",
    "# alle beiträge\n",
    "texte = soup.find_all(\"div\", attrs = {\"id\" : \"content\"})"
   ]
  },
  {
   "cell_type": "code",
   "execution_count": 214,
   "id": "718798cf",
   "metadata": {},
   "outputs": [],
   "source": [
    "text = texte[0].find(\"a\")[\"href\"]\n",
    "\n",
    "# Text name \n",
    "url = text\n",
    "response = requests.get(url)\n",
    "soup = BeautifulSoup(response.content)\n",
    "\n",
    "text_titel = soup.find(\"title\").get_text().strip()"
   ]
  },
  {
   "cell_type": "code",
   "execution_count": 215,
   "id": "c62ffec7",
   "metadata": {},
   "outputs": [],
   "source": [
    "appending()"
   ]
  },
  {
   "cell_type": "markdown",
   "id": "62e84631",
   "metadata": {},
   "source": [
    "# Hannover 96"
   ]
  },
  {
   "cell_type": "code",
   "execution_count": 216,
   "id": "cdea8c06",
   "metadata": {},
   "outputs": [],
   "source": [
    "index = 26\n",
    "verein = \"Hannover 96\"\n",
    "liga = \"2. Bundesliga\"\n",
    "vereinsseite = \"https://www.hannover96.de/startseite\"\n",
    "icon = \"https://upload.wikimedia.org/wikipedia/commons/thumb/c/cd/Hannover_96_Logo.svg/2323px-Hannover_96_Logo.svg.png\"\n",
    "hintergrundbild = \"https://media.istockphoto.com/id/1350046657/de/foto/dunkelgr%C3%BCn-unscharfe-bewegung-abstrakter-hintergrund.jpg?s=612x612&w=0&k=20&c=rUI7YNnwLMuWOZxqJGnT1IzWEwyPOfAi-Iwx8BdkEak=\"\n",
    "mitgliederanzahl = \"22.800\"\n",
    "gründungsjahr = \"1896\"\n",
    "ticketing = \"https://www.ticket-onlineshop.com/ols/h96/\""
   ]
  },
  {
   "cell_type": "markdown",
   "id": "e82fa44a",
   "metadata": {},
   "source": [
    "### Fans"
   ]
  },
  {
   "cell_type": "code",
   "execution_count": 217,
   "id": "47cf975c",
   "metadata": {},
   "outputs": [],
   "source": [
    "url = \"https://hannovereint.de/\"\n",
    "website = url\n",
    "title = get_title(url)"
   ]
  },
  {
   "cell_type": "markdown",
   "id": "3807666b",
   "metadata": {},
   "source": [
    "### Bilder"
   ]
  },
  {
   "cell_type": "code",
   "execution_count": 218,
   "id": "f37d2bb9",
   "metadata": {},
   "outputs": [],
   "source": [
    "url = \"https://www.swg-fotos.de/\"\n",
    "\n",
    "response = requests.get(url)\n",
    "soup = BeautifulSoup(response.content)\n",
    "\n",
    "# alle bilder\n",
    "all_pictures = soup.find_all(\"div\", attrs = {\"class\":\"flex flex-col items-center\"})"
   ]
  },
  {
   "cell_type": "code",
   "execution_count": 219,
   "id": "31bd97de",
   "metadata": {},
   "outputs": [],
   "source": [
    "pictures = \"https://www.swg-fotos.de/\"+all_pictures[0].find(\"a\")[\"href\"]\n",
    "# Bild name \n",
    "url = pictures\n",
    "response = requests.get(url)\n",
    "soup = BeautifulSoup(response.content)\n",
    "\n",
    "\n",
    "bilder_titel = soup.find(\"title\").get_text().strip()"
   ]
  },
  {
   "cell_type": "markdown",
   "id": "705e793f",
   "metadata": {},
   "source": [
    "### Neuste Beiträge"
   ]
  },
  {
   "cell_type": "code",
   "execution_count": 220,
   "id": "0011d06f",
   "metadata": {},
   "outputs": [],
   "source": [
    "url = \"https://hannovereint.de/\"\n",
    "\n",
    "response = requests.get(url)\n",
    "soup = BeautifulSoup(response.content)\n",
    "\n",
    "# alle beiträge\n",
    "texte = soup.find_all(\"div\", attrs = {\"id\" : \"content\"})"
   ]
  },
  {
   "cell_type": "code",
   "execution_count": 221,
   "id": "b374e6b2",
   "metadata": {},
   "outputs": [],
   "source": [
    "texte = texte[0].find_all(\"h2\", attrs = {\"class\" : \"entry-title\"})"
   ]
  },
  {
   "cell_type": "code",
   "execution_count": 222,
   "id": "6ccdfda2",
   "metadata": {},
   "outputs": [],
   "source": [
    "text = texte[0].find(\"a\")[\"href\"]\n",
    "\n",
    "# Text name \n",
    "url = text\n",
    "response = requests.get(url)\n",
    "soup = BeautifulSoup(response.content)\n",
    "\n",
    "text_titel = soup.find(\"title\").get_text().strip()"
   ]
  },
  {
   "cell_type": "code",
   "execution_count": 223,
   "id": "a0f57569",
   "metadata": {},
   "outputs": [],
   "source": [
    "appending()"
   ]
  },
  {
   "cell_type": "markdown",
   "id": "183189a9",
   "metadata": {},
   "source": [
    "# Suptras (Hansa Rostock)"
   ]
  },
  {
   "cell_type": "code",
   "execution_count": 224,
   "id": "a09b6197",
   "metadata": {},
   "outputs": [],
   "source": [
    "index = 27\n",
    "verein = \"FC Hansa Rostock\"\n",
    "liga = \"2. Bundesliga\"\n",
    "vereinsseite = \"https://www.fc-hansa.de/\"\n",
    "icon = \"https://upload.wikimedia.org/wikipedia/de/thumb/a/a6/FC_Hansa_Rostock_Logo.svg/2048px-FC_Hansa_Rostock_Logo.svg.png\"\n",
    "hintergrundbild = \"https://img.freepik.com/fotos-kostenlos/abstrakter-strukturierter-hintergrund_1258-30506.jpg\"\n",
    "mitgliederanzahl = \"25.400\"\n",
    "gründungsjahr = \"1965\"\n",
    "ticketing = \"https://tickets.fc-hansa.de/shop/103\""
   ]
  },
  {
   "cell_type": "markdown",
   "id": "2b565541",
   "metadata": {},
   "source": [
    "### Fans"
   ]
  },
  {
   "cell_type": "code",
   "execution_count": 225,
   "id": "dcfb55a3",
   "metadata": {},
   "outputs": [],
   "source": [
    "url = \"https://www.suptras.de/\"\n",
    "website = url\n",
    "title = get_title(url)"
   ]
  },
  {
   "cell_type": "markdown",
   "id": "74bb8e62",
   "metadata": {},
   "source": [
    "### Bilder"
   ]
  },
  {
   "cell_type": "code",
   "execution_count": 226,
   "id": "66eb3718",
   "metadata": {},
   "outputs": [],
   "source": [
    "url = \"https://www.suptras.de/bilder.html\"\n",
    "\n",
    "response = requests.get(url)\n",
    "soup = BeautifulSoup(response.content)\n",
    "\n",
    "# alle bilder\n",
    "all_pictures = soup.find_all(\"div\", attrs = {\"class\":\"mod_article first last block\"})"
   ]
  },
  {
   "cell_type": "code",
   "execution_count": 227,
   "id": "5d9135fb",
   "metadata": {},
   "outputs": [],
   "source": [
    "pictures = \"https://www.suptras.de\"+all_pictures[0].find(\"a\")[\"href\"]\n",
    "# Bild name \n",
    "url = pictures\n",
    "response = requests.get(url)\n",
    "soup = BeautifulSoup(response.content)\n",
    "\n",
    "\n",
    "bilder_titel = soup.find(\"title\").get_text().strip()"
   ]
  },
  {
   "cell_type": "markdown",
   "id": "f819398c",
   "metadata": {},
   "source": [
    "### Neuste Beiträge"
   ]
  },
  {
   "cell_type": "code",
   "execution_count": 228,
   "id": "1faa20ea",
   "metadata": {},
   "outputs": [],
   "source": [
    "url = \"https://www.suptras.de/\"\n",
    "\n",
    "response = requests.get(url)\n",
    "soup = BeautifulSoup(response.content)\n",
    "\n",
    "# alle beiträge\n",
    "texte = soup.find_all(\"div\", attrs = {\"class\" : \"content\"})"
   ]
  },
  {
   "cell_type": "code",
   "execution_count": 229,
   "id": "013f1baa",
   "metadata": {},
   "outputs": [],
   "source": [
    "text = \"https://www.suptras.de/\"+texte[0].find(\"a\")[\"href\"]\n",
    "\n",
    "# Text name \n",
    "url = text\n",
    "response = requests.get(url)\n",
    "soup = BeautifulSoup(response.content)\n",
    "\n",
    "text_titel = soup.find(\"title\").get_text().strip()"
   ]
  },
  {
   "cell_type": "code",
   "execution_count": 230,
   "id": "cd72999f",
   "metadata": {},
   "outputs": [],
   "source": [
    "appending()"
   ]
  },
  {
   "cell_type": "markdown",
   "id": "04d7d023",
   "metadata": {},
   "source": [
    "# Ultra Sankt Pauli "
   ]
  },
  {
   "cell_type": "code",
   "execution_count": 231,
   "id": "e3be35f2",
   "metadata": {},
   "outputs": [],
   "source": [
    "index = 28\n",
    "verein = \"FC St. Pauli\"\n",
    "liga = \"2. Bundesliga\"\n",
    "vereinsseite = \"https://www.fcstpauli.com/\"\n",
    "icon = \"https://upload.wikimedia.org/wikipedia/en/thumb/8/8f/FC_St._Pauli_logo_%282018%29.svg/1200px-FC_St._Pauli_logo_%282018%29.svg.png\"\n",
    "hintergrundbild = \"https://www.generation-luzifer.de/wp-content/uploads/2016/08/bg.jpg\"\n",
    "mitgliederanzahl = \"35.000\"\n",
    "gründungsjahr = \"1910\"\n",
    "ticketing = \"https://www.ticket-onlineshop.com/ols/fcstpauli/de\""
   ]
  },
  {
   "cell_type": "markdown",
   "id": "8e6157fb",
   "metadata": {},
   "source": [
    "### Fans"
   ]
  },
  {
   "cell_type": "code",
   "execution_count": 232,
   "id": "2ceee825",
   "metadata": {},
   "outputs": [],
   "source": [
    "url = \"https://usp.stpaulifans.de/\"\n",
    "website = url\n",
    "title = get_title(url)"
   ]
  },
  {
   "cell_type": "markdown",
   "id": "529a1263",
   "metadata": {},
   "source": [
    "### Bilder"
   ]
  },
  {
   "cell_type": "code",
   "execution_count": 233,
   "id": "b64fa4b0",
   "metadata": {},
   "outputs": [],
   "source": [
    "url = \"https://usp.stpaulifans.de/copper/index.php?cat=38\"\n",
    "\n",
    "response = requests.get(url)\n",
    "soup = BeautifulSoup(response.content)\n",
    "\n",
    "# alle bilder\n",
    "all_pictures = soup.find_all(\"td\", attrs = {\"valign\":\"top\"})"
   ]
  },
  {
   "cell_type": "code",
   "execution_count": 234,
   "id": "7a0d4871",
   "metadata": {},
   "outputs": [],
   "source": [
    "pictures = \"https://usp.stpaulifans.de/copper/\"+all_pictures[18].find(\"a\")[\"href\"]\n",
    "# Bild name \n",
    "url = pictures\n",
    "response = requests.get(url)\n",
    "soup = BeautifulSoup(response.content)\n",
    "\n",
    "\n",
    "bilder_titel = soup.find(\"title\").get_text().strip()"
   ]
  },
  {
   "cell_type": "markdown",
   "id": "be8b35ac",
   "metadata": {},
   "source": [
    "### Neuste Beiträge"
   ]
  },
  {
   "cell_type": "code",
   "execution_count": 235,
   "id": "128f21e5",
   "metadata": {},
   "outputs": [],
   "source": [
    "url = \"https://usp.stpaulifans.de/\"\n",
    "\n",
    "response = requests.get(url)\n",
    "soup = BeautifulSoup(response.content)\n",
    "\n",
    "# alle beiträge\n",
    "texte = soup.find_all(\"div\", attrs = {\"class\" : \"post\"})"
   ]
  },
  {
   "cell_type": "code",
   "execution_count": 236,
   "id": "35fc6546",
   "metadata": {},
   "outputs": [],
   "source": [
    "text = texte[0].find(\"a\")[\"href\"]\n",
    "\n",
    "# Text name \n",
    "url = text\n",
    "response = requests.get(url)\n",
    "soup = BeautifulSoup(response.content)\n",
    "\n",
    "text_titel = soup.find(\"title\").get_text().strip()"
   ]
  },
  {
   "cell_type": "code",
   "execution_count": 237,
   "id": "62ac9706",
   "metadata": {},
   "outputs": [],
   "source": [
    "appending()"
   ]
  },
  {
   "cell_type": "markdown",
   "id": "a1a55efe",
   "metadata": {},
   "source": [
    "# Eintracht Braunschweig"
   ]
  },
  {
   "cell_type": "code",
   "execution_count": 238,
   "id": "dc8a3e5d",
   "metadata": {},
   "outputs": [],
   "source": [
    "index = 29\n",
    "verein = \"Eintracht Braunschweig\"\n",
    "liga = \"2. Bundesliga\"\n",
    "vereinsseite = \"https://www.eintracht.com/wir-sind-eintracht/\"\n",
    "icon = \"https://upload.wikimedia.org/wikipedia/de/thumb/4/45/Logo_Eintracht_Braunschweig.svg/1200px-Logo_Eintracht_Braunschweig.svg.png\"\n",
    "hintergrundbild = \"https://us.123rf.com/450wm/vvoennyy/vvoennyy1512/vvoennyy151200132/50405614-vertikaler-hintergrund-von-dunkel-gelb-gef%C3%A4rbtem-blatt-papier.jpg\"\n",
    "mitgliederanzahl = \"6.500\"\n",
    "gründungsjahr = \"1895\"\n",
    "ticketing = \"https://www.ticket-onlineshop.com/ols/eintracht-braunschweig/\""
   ]
  },
  {
   "cell_type": "markdown",
   "id": "10b44641",
   "metadata": {},
   "source": [
    "### Fans"
   ]
  },
  {
   "cell_type": "code",
   "execution_count": 239,
   "id": "f59c84cb",
   "metadata": {},
   "outputs": [],
   "source": [
    "url = \"https://www.cattiva-brunsviga.de/\"\n",
    "website = url\n",
    "title = get_title(url)[4:-6]"
   ]
  },
  {
   "cell_type": "markdown",
   "id": "9d9444ab",
   "metadata": {},
   "source": [
    "### Bilder"
   ]
  },
  {
   "cell_type": "code",
   "execution_count": 240,
   "id": "d7920af2",
   "metadata": {},
   "outputs": [],
   "source": [
    "url = \"https://www.bs1895.de/\"\n",
    "\n",
    "response = requests.get(url)\n",
    "soup = BeautifulSoup(response.content)\n",
    "\n",
    "# alle bilder\n",
    "all_pictures = soup.find_all(\"div\", attrs = {\"class\":\"main-area\"})"
   ]
  },
  {
   "cell_type": "code",
   "execution_count": 241,
   "id": "e5af618a",
   "metadata": {},
   "outputs": [],
   "source": [
    "pictures = all_pictures[0].find(\"a\")[\"href\"]\n",
    "# Bild name \n",
    "url = pictures\n",
    "response = requests.get(url)\n",
    "soup = BeautifulSoup(response.content)\n",
    "\n",
    "\n",
    "bilder_titel = soup.find(\"title\").get_text().strip()"
   ]
  },
  {
   "cell_type": "markdown",
   "id": "5d207233",
   "metadata": {},
   "source": [
    "### Neuste Beiträge"
   ]
  },
  {
   "cell_type": "code",
   "execution_count": 242,
   "id": "f03c5cab",
   "metadata": {},
   "outputs": [],
   "source": [
    "url = \"https://www.cattiva-brunsviga.de/\"\n",
    "\n",
    "response = requests.get(url)\n",
    "soup = BeautifulSoup(response.content)\n",
    "\n",
    "# alle beiträge\n",
    "inhalt = soup.find_all(\"div\", attrs = {\"id\" : \"content\"})"
   ]
  },
  {
   "cell_type": "code",
   "execution_count": 243,
   "id": "69e517d8",
   "metadata": {},
   "outputs": [],
   "source": [
    "link = inhalt[0].find(\"a\")[\"href\"]\n",
    "\n",
    "# Text name \n",
    "url = link\n",
    "response = requests.get(url)\n",
    "soup = BeautifulSoup(response.content)\n",
    "\n",
    "inhalt_titel = soup.find(\"title\").get_text().strip()"
   ]
  },
  {
   "cell_type": "code",
   "execution_count": 244,
   "id": "c5966502",
   "metadata": {},
   "outputs": [],
   "source": [
    "if \"(Fotos)\" not in inhalt_titel:\n",
    "    text = link\n",
    "    text_titel = inhalt_titel\n",
    "else:\n",
    "    text = df_old[\"Neuster Text\"][df_old[\"Verein\"] == \"Eintracht Braunschweig\"].values[0]\n",
    "    text_titel = df_old[\"Text Titel\"][df_old[\"Verein\"] == \"Eintracht Braunschweig\"].values[0]"
   ]
  },
  {
   "cell_type": "code",
   "execution_count": 245,
   "id": "a69f5d93",
   "metadata": {},
   "outputs": [],
   "source": [
    "appending()"
   ]
  },
  {
   "cell_type": "markdown",
   "id": "15eec21b",
   "metadata": {},
   "source": [
    "# Violet Crew (VfL Osnabrück)"
   ]
  },
  {
   "cell_type": "code",
   "execution_count": 246,
   "id": "dcebd939",
   "metadata": {},
   "outputs": [],
   "source": [
    "index = 30\n",
    "verein = \"VfL Osnabrück\"\n",
    "liga = \"2. Bundesliga\"\n",
    "vereinsseite = \"https://www.vfl.de/\"\n",
    "icon = \"https://upload.wikimedia.org/wikipedia/commons/thumb/4/4e/VfL_Osnabrueck_Logo_2021%E2%80%93.svg/640px-VfL_Osnabrueck_Logo_2021%E2%80%93.svg.png\"\n",
    "hintergrundbild = \"https://shop.glaubenszentrum.de/media/image/5f/a3/fb/Purple_600x600.jpg\"\n",
    "mitgliederanzahl = \"7.600\"\n",
    "gründungsjahr = \"1899\"\n",
    "ticketing = \"https://www.ticket-onlineshop.com/ols/vflosnabrueck/\""
   ]
  },
  {
   "cell_type": "markdown",
   "id": "0a771826",
   "metadata": {},
   "source": [
    "### Fans"
   ]
  },
  {
   "cell_type": "code",
   "execution_count": 247,
   "id": "1a4cf3f5",
   "metadata": {},
   "outputs": [],
   "source": [
    "url = \"https://www.violetcrew.de/\"\n",
    "website = url\n",
    "title = get_title(url)[0:-66]"
   ]
  },
  {
   "cell_type": "markdown",
   "id": "e0bf4746",
   "metadata": {},
   "source": [
    "### Bilder"
   ]
  },
  {
   "cell_type": "code",
   "execution_count": 248,
   "id": "6e68f07d",
   "metadata": {},
   "outputs": [],
   "source": [
    "url = \"https://www.violetcrew.de/saison/2023-2024/\"\n",
    "\n",
    "response = requests.get(url)\n",
    "soup = BeautifulSoup(response.content)\n",
    "\n",
    "# alle bilder\n",
    "all_pictures = soup.find_all(\"div\", attrs = {\"id\":\"envira-gallery-14353\"})"
   ]
  },
  {
   "cell_type": "code",
   "execution_count": 249,
   "id": "4bb5a17d",
   "metadata": {},
   "outputs": [],
   "source": [
    "pictures = all_pictures[0].find(\"a\")[\"href\"]\n",
    "# Bild name \n",
    "url = pictures\n",
    "response = requests.get(url)\n",
    "soup = BeautifulSoup(response.content)\n",
    "\n",
    "\n",
    "bilder_titel = soup.find(\"title\").get_text().strip()"
   ]
  },
  {
   "cell_type": "markdown",
   "id": "7ecb1707",
   "metadata": {},
   "source": [
    "### Neuste Beiträge"
   ]
  },
  {
   "cell_type": "code",
   "execution_count": 250,
   "id": "e339b015",
   "metadata": {},
   "outputs": [],
   "source": [
    "url = \"https://www.violetcrew.de/\"\n",
    "\n",
    "response = requests.get(url)\n",
    "soup = BeautifulSoup(response.content)\n",
    "\n",
    "# alle beiträge\n",
    "texte = soup.find_all(\"div\", attrs = {\"class\" : \"column_filters\"})"
   ]
  },
  {
   "cell_type": "code",
   "execution_count": 251,
   "id": "e351a7c2",
   "metadata": {},
   "outputs": [],
   "source": [
    "text = texte[0].find(\"a\")[\"href\"]\n",
    "\n",
    "# Text name \n",
    "url = text\n",
    "response = requests.get(url)\n",
    "soup = BeautifulSoup(response.content)\n",
    "\n",
    "text_titel = soup.find(\"title\").get_text().strip()"
   ]
  },
  {
   "cell_type": "code",
   "execution_count": 252,
   "id": "5f9d14f7",
   "metadata": {},
   "outputs": [],
   "source": [
    "appending()"
   ]
  },
  {
   "cell_type": "markdown",
   "id": "8d6376df",
   "metadata": {},
   "source": [
    "# Jahn Regensburg"
   ]
  },
  {
   "cell_type": "code",
   "execution_count": 253,
   "id": "299aa0f3",
   "metadata": {},
   "outputs": [],
   "source": [
    "index = 31\n",
    "verein = \"Jahn Regensburg\"\n",
    "liga = \"3. Bundesliga\"\n",
    "vereinsseite = \"https://www.ssv-jahn.de/\"\n",
    "icon = \"https://upload.wikimedia.org/wikipedia/commons/thumb/3/3d/Jahn_Regensburg_logo2014.svg/1200px-Jahn_Regensburg_logo2014.svg.png\"\n",
    "hintergrundbild = \"https://www.generation-luzifer.de/wp-content/uploads/2016/08/bg.jpg\"\n",
    "mitgliederanzahl = \"5.000\"\n",
    "gründungsjahr = \"1907\"\n",
    "ticketing = \"https://www.ssv-jahnshop.de/ssv-jahn/\""
   ]
  },
  {
   "cell_type": "markdown",
   "id": "9fd54a78",
   "metadata": {},
   "source": [
    "### Fans"
   ]
  },
  {
   "cell_type": "code",
   "execution_count": 254,
   "id": "b5904bd8",
   "metadata": {},
   "outputs": [],
   "source": [
    "url = \"https://www.hans-jakob-tribuene.de/\"\n",
    "website = url\n",
    "title = get_title(url)"
   ]
  },
  {
   "cell_type": "markdown",
   "id": "e70bcdbd",
   "metadata": {},
   "source": [
    "### Bilder"
   ]
  },
  {
   "cell_type": "code",
   "execution_count": 255,
   "id": "577e49cf",
   "metadata": {},
   "outputs": [],
   "source": [
    "url = \"https://www.hans-jakob-tribuene.de/\"\n",
    "\n",
    "response = requests.get(url)\n",
    "soup = BeautifulSoup(response.content)\n",
    "\n",
    "# alle bilder\n",
    "all_pictures = soup.find_all(\"div\", attrs = {\"class\":\"frame-inner\"})"
   ]
  },
  {
   "cell_type": "code",
   "execution_count": 256,
   "id": "8a5da46f",
   "metadata": {
    "scrolled": true
   },
   "outputs": [],
   "source": [
    "all_pictures = all_pictures[0].find_all(\"a\", attrs = {\"class\":\"card\"})"
   ]
  },
  {
   "cell_type": "code",
   "execution_count": 257,
   "id": "47e3b747",
   "metadata": {},
   "outputs": [],
   "source": [
    "pictures = url+str(all_pictures)[23:-1333]\n",
    "# Bild name \n",
    "url = pictures\n",
    "response = requests.get(url)\n",
    "soup = BeautifulSoup(response.content)\n",
    "\n",
    "\n",
    "bilder_titel = soup.find(\"title\").get_text().strip()"
   ]
  },
  {
   "cell_type": "markdown",
   "id": "453a82b1",
   "metadata": {},
   "source": [
    "### Neuste Beiträge"
   ]
  },
  {
   "cell_type": "code",
   "execution_count": 258,
   "id": "6a8392f4",
   "metadata": {},
   "outputs": [],
   "source": [
    "url = \"https://www.hans-jakob-tribuene.de/\"\n",
    "\n",
    "response = requests.get(url)\n",
    "soup = BeautifulSoup(response.content)\n",
    "\n",
    "# alle beiträge\n",
    "texte = soup.find_all(\"div\", attrs = {\"class\" : \"news-list-view\"})"
   ]
  },
  {
   "cell_type": "code",
   "execution_count": 259,
   "id": "afd0437c",
   "metadata": {},
   "outputs": [],
   "source": [
    "text = url+texte[0].find(\"a\")[\"href\"]\n",
    "\n",
    "# Text name \n",
    "url = text\n",
    "response = requests.get(url)\n",
    "soup = BeautifulSoup(response.content)\n",
    "\n",
    "text_titel = soup.find(\"title\").get_text().strip()"
   ]
  },
  {
   "cell_type": "code",
   "execution_count": 260,
   "id": "1f61bbab",
   "metadata": {},
   "outputs": [],
   "source": [
    "appending()"
   ]
  },
  {
   "cell_type": "markdown",
   "id": "492285a6",
   "metadata": {},
   "source": [
    "# Final Changes"
   ]
  },
  {
   "cell_type": "markdown",
   "id": "f03b4a96",
   "metadata": {},
   "source": [
    "## Attendance Average 1&2 division"
   ]
  },
  {
   "cell_type": "code",
   "execution_count": 261,
   "id": "0bac8299",
   "metadata": {},
   "outputs": [
    {
     "name": "stderr",
     "output_type": "stream",
     "text": [
      "/var/folders/bk/02hh56sx1b7622qtqhym98tc0000gn/T/ipykernel_39569/3243939618.py:5: PerformanceWarning: dropping on a non-lexsorted multi-index without a level parameter may impact performance.\n",
      "  df_zuschauer.drop(\"Platz\", axis = 1, inplace = True)\n",
      "/var/folders/bk/02hh56sx1b7622qtqhym98tc0000gn/T/ipykernel_39569/3243939618.py:6: PerformanceWarning: dropping on a non-lexsorted multi-index without a level parameter may impact performance.\n",
      "  df_zuschauer.drop(\"Verein\", axis = 1, inplace = True)\n",
      "/var/folders/bk/02hh56sx1b7622qtqhym98tc0000gn/T/ipykernel_39569/3243939618.py:7: PerformanceWarning: dropping on a non-lexsorted multi-index without a level parameter may impact performance.\n",
      "  df_zuschauer.drop(\"Gesamt\", axis = 1, inplace = True)\n",
      "/var/folders/bk/02hh56sx1b7622qtqhym98tc0000gn/T/ipykernel_39569/3243939618.py:8: PerformanceWarning: dropping on a non-lexsorted multi-index without a level parameter may impact performance.\n",
      "  df_zuschauer.drop(\"ausverkaufter Heimbereich\", axis = 1, inplace = True)\n",
      "/var/folders/bk/02hh56sx1b7622qtqhym98tc0000gn/T/ipykernel_39569/3243939618.py:9: PerformanceWarning: dropping on a non-lexsorted multi-index without a level parameter may impact performance.\n",
      "  df_zuschauer.drop(\"Spielansetzung\", axis = 1, inplace = True)\n",
      "/var/folders/bk/02hh56sx1b7622qtqhym98tc0000gn/T/ipykernel_39569/3243939618.py:10: PerformanceWarning: dropping on a non-lexsorted multi-index without a level parameter may impact performance.\n",
      "  df_zuschauer.drop(\"Höchstwert\", axis = 1, inplace = True)\n",
      "/var/folders/bk/02hh56sx1b7622qtqhym98tc0000gn/T/ipykernel_39569/3243939618.py:11: PerformanceWarning: dropping on a non-lexsorted multi-index without a level parameter may impact performance.\n",
      "  df_zuschauer.drop(\"Tiefswert\", axis = 1, inplace = True)\n"
     ]
    }
   ],
   "source": [
    "df_zuschauer= pd.read_html(\"https://www.fussballmafia.de/zuschauertabelle/\")\n",
    "df_1 = df_zuschauer[0]\n",
    "df_zuschauer = df_1\n",
    "\n",
    "df_zuschauer.drop(\"Platz\", axis = 1, inplace = True)\n",
    "df_zuschauer.drop(\"Verein\", axis = 1, inplace = True)\n",
    "df_zuschauer.drop(\"Gesamt\", axis = 1, inplace = True)\n",
    "df_zuschauer.drop(\"ausverkaufter Heimbereich\", axis = 1, inplace = True)\n",
    "df_zuschauer.drop(\"Spielansetzung\", axis = 1, inplace = True)\n",
    "df_zuschauer.drop(\"Höchstwert\", axis = 1, inplace = True)\n",
    "df_zuschauer.drop(\"Tiefswert\", axis = 1, inplace = True)"
   ]
  },
  {
   "cell_type": "code",
   "execution_count": 262,
   "id": "f22f6060",
   "metadata": {
    "scrolled": true
   },
   "outputs": [
    {
     "name": "stderr",
     "output_type": "stream",
     "text": [
      "/var/folders/bk/02hh56sx1b7622qtqhym98tc0000gn/T/ipykernel_39569/3491457093.py:6: PerformanceWarning: dropping on a non-lexsorted multi-index without a level parameter may impact performance.\n",
      "  df_zuschauer.drop('index', axis=1, inplace=True)\n"
     ]
    }
   ],
   "source": [
    "df_zuschauer.rename(columns = {\"Unnamed: 2_level_0\": \"Verein\"}, inplace = True)\n",
    "df_zuschauer.rename(columns = {\"ZuschauerØ\": \"Zuschauerschnitt\"}, inplace = True)\n",
    "df_zuschauer.rename(columns = {\"Stadion-Auslastung\": \"Stadion_auslastung\"},  inplace = True)\n",
    "\n",
    "df_zuschauer.reset_index(inplace=True)\n",
    "df_zuschauer.drop('index', axis=1, inplace=True)"
   ]
  },
  {
   "cell_type": "markdown",
   "id": "f4dbfd5d",
   "metadata": {},
   "source": [
    "## Attendance Average third division"
   ]
  },
  {
   "cell_type": "code",
   "execution_count": 263,
   "id": "bc0621ea",
   "metadata": {},
   "outputs": [
    {
     "name": "stderr",
     "output_type": "stream",
     "text": [
      "/var/folders/bk/02hh56sx1b7622qtqhym98tc0000gn/T/ipykernel_39569/1036821248.py:7: PerformanceWarning: dropping on a non-lexsorted multi-index without a level parameter may impact performance.\n",
      "  df_zuschauer_3.drop(\"Platz\", axis = 1, inplace = True)\n",
      "/var/folders/bk/02hh56sx1b7622qtqhym98tc0000gn/T/ipykernel_39569/1036821248.py:8: PerformanceWarning: dropping on a non-lexsorted multi-index without a level parameter may impact performance.\n",
      "  df_zuschauer_3.drop(\"Verein\", axis = 1, inplace = True)\n",
      "/var/folders/bk/02hh56sx1b7622qtqhym98tc0000gn/T/ipykernel_39569/1036821248.py:9: PerformanceWarning: dropping on a non-lexsorted multi-index without a level parameter may impact performance.\n",
      "  df_zuschauer_3.drop(\"Gesamt\", axis = 1, inplace = True)\n",
      "/var/folders/bk/02hh56sx1b7622qtqhym98tc0000gn/T/ipykernel_39569/1036821248.py:10: PerformanceWarning: dropping on a non-lexsorted multi-index without a level parameter may impact performance.\n",
      "  df_zuschauer_3.drop(\"ausverkaufter Heimbereich\", axis = 1, inplace = True)\n",
      "/var/folders/bk/02hh56sx1b7622qtqhym98tc0000gn/T/ipykernel_39569/1036821248.py:11: PerformanceWarning: dropping on a non-lexsorted multi-index without a level parameter may impact performance.\n",
      "  df_zuschauer_3.drop(\"Spielansetzung\", axis = 1, inplace = True)\n",
      "/var/folders/bk/02hh56sx1b7622qtqhym98tc0000gn/T/ipykernel_39569/1036821248.py:12: PerformanceWarning: dropping on a non-lexsorted multi-index without a level parameter may impact performance.\n",
      "  df_zuschauer_3.drop(\"Höchstwert\", axis = 1, inplace = True)\n",
      "/var/folders/bk/02hh56sx1b7622qtqhym98tc0000gn/T/ipykernel_39569/1036821248.py:13: PerformanceWarning: dropping on a non-lexsorted multi-index without a level parameter may impact performance.\n",
      "  df_zuschauer_3.drop(\"Tiefswert\", axis = 1, inplace = True)\n"
     ]
    }
   ],
   "source": [
    "df_zuschauer_3= pd.read_html(\"https://www.fussballmafia.de/zuschauertabelle/3-liga/\")\n",
    "df_3 = df_zuschauer_3[0]\n",
    "\n",
    "\n",
    "df_zuschauer_3 = df_3\n",
    "\n",
    "df_zuschauer_3.drop(\"Platz\", axis = 1, inplace = True)\n",
    "df_zuschauer_3.drop(\"Verein\", axis = 1, inplace = True)\n",
    "df_zuschauer_3.drop(\"Gesamt\", axis = 1, inplace = True)\n",
    "df_zuschauer_3.drop(\"ausverkaufter Heimbereich\", axis = 1, inplace = True)\n",
    "df_zuschauer_3.drop(\"Spielansetzung\", axis = 1, inplace = True)\n",
    "df_zuschauer_3.drop(\"Höchstwert\", axis = 1, inplace = True)\n",
    "df_zuschauer_3.drop(\"Tiefswert\", axis = 1, inplace = True)"
   ]
  },
  {
   "cell_type": "code",
   "execution_count": 264,
   "id": "2efc63c2",
   "metadata": {},
   "outputs": [
    {
     "name": "stderr",
     "output_type": "stream",
     "text": [
      "/var/folders/bk/02hh56sx1b7622qtqhym98tc0000gn/T/ipykernel_39569/3567937113.py:6: PerformanceWarning: dropping on a non-lexsorted multi-index without a level parameter may impact performance.\n",
      "  df_zuschauer_3.drop('index', axis=1, inplace=True)\n"
     ]
    }
   ],
   "source": [
    "df_zuschauer_3.rename(columns = {\"Unnamed: 2_level_0\": \"Verein\"}, inplace = True)\n",
    "df_zuschauer_3.rename(columns = {\"ZuschauerØ\": \"Zuschauerschnitt\"}, inplace = True)\n",
    "df_zuschauer_3.rename(columns = {\"Stadion-Auslastung\": \"Stadion_auslastung\"},  inplace = True)\n",
    "\n",
    "df_zuschauer_3.reset_index(inplace=True)\n",
    "df_zuschauer_3.drop('index', axis=1, inplace=True)"
   ]
  },
  {
   "cell_type": "markdown",
   "id": "b953a159",
   "metadata": {},
   "source": [
    "# Adding the current place in the league Table"
   ]
  },
  {
   "cell_type": "code",
   "execution_count": 265,
   "id": "cfa46b92",
   "metadata": {},
   "outputs": [],
   "source": [
    "df_old = pd.read_excel(\"/Users/henriksoeder/Documents/Arbeit/Python/Football_Scrape/Tabellen/fanbereich_übersicht.xlsx\")"
   ]
  },
  {
   "cell_type": "code",
   "execution_count": 266,
   "id": "ea1f46bd",
   "metadata": {
    "scrolled": false
   },
   "outputs": [],
   "source": [
    "df = pd.DataFrame.from_dict(new_dict, orient = \"index\")"
   ]
  },
  {
   "cell_type": "code",
   "execution_count": 267,
   "id": "75234dd1",
   "metadata": {},
   "outputs": [],
   "source": [
    "tabellen = {**tabelle_1(), **tabelle_2(), **tabelle_3()}"
   ]
  },
  {
   "cell_type": "code",
   "execution_count": 268,
   "id": "fd726037",
   "metadata": {
    "scrolled": false
   },
   "outputs": [
    {
     "name": "stderr",
     "output_type": "stream",
     "text": [
      "/var/folders/bk/02hh56sx1b7622qtqhym98tc0000gn/T/ipykernel_39569/2759901563.py:6: SettingWithCopyWarning: \n",
      "A value is trying to be set on a copy of a slice from a DataFrame\n",
      "\n",
      "See the caveats in the documentation: https://pandas.pydata.org/pandas-docs/stable/user_guide/indexing.html#returning-a-view-versus-a-copy\n",
      "  df[\"Platzierung\"][df[\"Verein\"] == x] = tabellen[x]\n"
     ]
    }
   ],
   "source": [
    "df[\"Platzierung\"] = 99\n",
    "\n",
    "for x in list(df[\"Verein\"]):\n",
    "    \n",
    "    try:\n",
    "        df[\"Platzierung\"][df[\"Verein\"] == x] = tabellen[x]\n",
    "    except:\n",
    "        None\n",
    "    "
   ]
  },
  {
   "cell_type": "code",
   "execution_count": 269,
   "id": "167be68b",
   "metadata": {},
   "outputs": [
    {
     "name": "stderr",
     "output_type": "stream",
     "text": [
      "/var/folders/bk/02hh56sx1b7622qtqhym98tc0000gn/T/ipykernel_39569/1779056069.py:1: SettingWithCopyWarning: \n",
      "A value is trying to be set on a copy of a slice from a DataFrame\n",
      "\n",
      "See the caveats in the documentation: https://pandas.pydata.org/pandas-docs/stable/user_guide/indexing.html#returning-a-view-versus-a-copy\n",
      "  df[\"Platzierung\"][df[\"Verein\"] == \"FC Bayern München\"] = tabellen[\"Bayern München\"]\n",
      "/var/folders/bk/02hh56sx1b7622qtqhym98tc0000gn/T/ipykernel_39569/1779056069.py:2: SettingWithCopyWarning: \n",
      "A value is trying to be set on a copy of a slice from a DataFrame\n",
      "\n",
      "See the caveats in the documentation: https://pandas.pydata.org/pandas-docs/stable/user_guide/indexing.html#returning-a-view-versus-a-copy\n",
      "  df[\"Platzierung\"][df[\"Verein\"] == \"Borussia Mönchengladbach\"] = tabellen[\"Bor. Mönchengladbach\"]\n",
      "/var/folders/bk/02hh56sx1b7622qtqhym98tc0000gn/T/ipykernel_39569/1779056069.py:3: SettingWithCopyWarning: \n",
      "A value is trying to be set on a copy of a slice from a DataFrame\n",
      "\n",
      "See the caveats in the documentation: https://pandas.pydata.org/pandas-docs/stable/user_guide/indexing.html#returning-a-view-versus-a-copy\n",
      "  df[\"Platzierung\"][df[\"Verein\"] == \"SpVgg Fürth\"] = tabellen[\"SpVgg Greuther Fürth\"]\n"
     ]
    }
   ],
   "source": [
    "df[\"Platzierung\"][df[\"Verein\"] == \"FC Bayern München\"] = tabellen[\"Bayern München\"]\n",
    "df[\"Platzierung\"][df[\"Verein\"] == \"Borussia Mönchengladbach\"] = tabellen[\"Bor. Mönchengladbach\"]\n",
    "df[\"Platzierung\"][df[\"Verein\"] == \"SpVgg Fürth\"] = tabellen[\"SpVgg Greuther Fürth\"]"
   ]
  },
  {
   "cell_type": "code",
   "execution_count": 270,
   "id": "078232d1",
   "metadata": {
    "scrolled": false
   },
   "outputs": [
    {
     "data": {
      "text/html": [
       "<div>\n",
       "<style scoped>\n",
       "    .dataframe tbody tr th:only-of-type {\n",
       "        vertical-align: middle;\n",
       "    }\n",
       "\n",
       "    .dataframe tbody tr th {\n",
       "        vertical-align: top;\n",
       "    }\n",
       "\n",
       "    .dataframe thead th {\n",
       "        text-align: right;\n",
       "    }\n",
       "</style>\n",
       "<table border=\"1\" class=\"dataframe\">\n",
       "  <thead>\n",
       "    <tr style=\"text-align: right;\">\n",
       "      <th></th>\n",
       "      <th>Verein</th>\n",
       "      <th>Name</th>\n",
       "      <th>Fanseite</th>\n",
       "      <th>Vereinsseite</th>\n",
       "      <th>Bild Titel</th>\n",
       "      <th>Neuste Bilder</th>\n",
       "      <th>Text Titel</th>\n",
       "      <th>Neuster Text</th>\n",
       "      <th>Liga</th>\n",
       "      <th>Logo</th>\n",
       "      <th>Hintergrundbild</th>\n",
       "      <th>Mitgliederzahl</th>\n",
       "      <th>Gründungsjahr</th>\n",
       "      <th>Ticketing</th>\n",
       "      <th>Platzierung</th>\n",
       "    </tr>\n",
       "  </thead>\n",
       "  <tbody>\n",
       "    <tr>\n",
       "      <th>0</th>\n",
       "      <td>Hamburger SV</td>\n",
       "      <td>Förderkreis Nordtribüne e.V. |</td>\n",
       "      <td>https://nordtribuene-hamburg.de/</td>\n",
       "      <td>https://www.hsv.de/uebersicht</td>\n",
       "      <td>15. Spieltag – St. Pauli (A) | Förderkreis Nordtribüne e.V.</td>\n",
       "      <td>https://nordtribuene-hamburg.de/15-spieltag-st-pauli-a/</td>\n",
       "      <td>Rauten retten Leben | Förderkreis Nordtribüne e.V.</td>\n",
       "      <td>https://nordtribuene-hamburg.de/blutspenden/</td>\n",
       "      <td>2. Bundesliga</td>\n",
       "      <td>https://upload.wikimedia.org/wikipedia/commons/thumb/f/f7/Hamburger_SV_logo.svg/2560px-Hamburger_SV_logo.svg.png</td>\n",
       "      <td>https://nordtribuene-hamburg.de/wp-content/uploads/2022/11/background-scaled.jpg</td>\n",
       "      <td>100.000</td>\n",
       "      <td>1887</td>\n",
       "      <td>https://www.ticket-onlineshop.com/ols/hsv/de</td>\n",
       "      <td>3</td>\n",
       "    </tr>\n",
       "    <tr>\n",
       "      <th>1</th>\n",
       "      <td>1. FC Kaiserslautern</td>\n",
       "      <td>FRENETIC YOUTH ULTRAS KAISERSLAUTERN</td>\n",
       "      <td>https://fykl.de/</td>\n",
       "      <td>https://fck.de/de/</td>\n",
       "      <td>DFB-Pokal (Achtelfinale) 2023/2024 | DI, 05.12.2023 | 1. FCK – 1. FC Nürnberg | 2:0</td>\n",
       "      <td>http://generation-luzifer.de/?page_id=5814</td>\n",
       "      <td>UdH Sonderausgabe Pokal – FRENETIC YOUTH ULTRAS KAISERSLAUTERN</td>\n",
       "      <td>https://fykl.de/udh-sonderausgabe-pokal-2/</td>\n",
       "      <td>2. Bundesliga</td>\n",
       "      <td>https://upload.wikimedia.org/wikipedia/commons/thumb/d/d3/Logo_1_FC_Kaiserslautern.svg/1024px-Logo_1_FC_Kaiserslautern.svg.png</td>\n",
       "      <td>https://www.generation-luzifer.de/wp-content/uploads/2016/08/bg.jpg</td>\n",
       "      <td>25.000</td>\n",
       "      <td>1900</td>\n",
       "      <td>https://shop.fck.de/</td>\n",
       "      <td>13</td>\n",
       "    </tr>\n",
       "    <tr>\n",
       "      <th>2</th>\n",
       "      <td>FC Schalke 04</td>\n",
       "      <td>Ultras Gelsenkirchen</td>\n",
       "      <td>https://ultras-ge.de/</td>\n",
       "      <td>https://schalke04.de/</td>\n",
       "      <td>FC Schalke 04 – VfL Osnabrück |  - Ultras Gelsenkirchen</td>\n",
       "      <td>https://ultras-ge.de/fc-schalke-04-vfl-osnabrueck/</td>\n",
       "      <td>FC Schalke 04 – VfL Osnabrück |  - Ultras Gelsenkirchen</td>\n",
       "      <td>https://ultras-ge.de/fc-schalke-04-vfl-osnabrueck/</td>\n",
       "      <td>2. Bundesliga</td>\n",
       "      <td>https://upload.wikimedia.org/wikipedia/commons/thumb/6/6d/FC_Schalke_04_Logo.svg/2048px-FC_Schalke_04_Logo.svg.png</td>\n",
       "      <td>https://img.freepik.com/fotos-kostenlos/abstrakter-strukturierter-hintergrund_1258-30506.jpg</td>\n",
       "      <td>174.000</td>\n",
       "      <td>1904</td>\n",
       "      <td>https://tickets.schalke04.de/de</td>\n",
       "      <td>16</td>\n",
       "    </tr>\n",
       "  </tbody>\n",
       "</table>\n",
       "</div>"
      ],
      "text/plain": [
       "                 Verein                                  Name  \\\n",
       "0          Hamburger SV        Förderkreis Nordtribüne e.V. |   \n",
       "1  1. FC Kaiserslautern  FRENETIC YOUTH ULTRAS KAISERSLAUTERN   \n",
       "2         FC Schalke 04                 Ultras Gelsenkirchen    \n",
       "\n",
       "                           Fanseite                   Vereinsseite  \\\n",
       "0  https://nordtribuene-hamburg.de/  https://www.hsv.de/uebersicht   \n",
       "1                  https://fykl.de/             https://fck.de/de/   \n",
       "2             https://ultras-ge.de/          https://schalke04.de/   \n",
       "\n",
       "                                                                            Bild Titel  \\\n",
       "0                          15. Spieltag – St. Pauli (A) | Förderkreis Nordtribüne e.V.   \n",
       "1  DFB-Pokal (Achtelfinale) 2023/2024 | DI, 05.12.2023 | 1. FCK – 1. FC Nürnberg | 2:0   \n",
       "2                              FC Schalke 04 – VfL Osnabrück |  - Ultras Gelsenkirchen   \n",
       "\n",
       "                                             Neuste Bilder  \\\n",
       "0  https://nordtribuene-hamburg.de/15-spieltag-st-pauli-a/   \n",
       "1               http://generation-luzifer.de/?page_id=5814   \n",
       "2       https://ultras-ge.de/fc-schalke-04-vfl-osnabrueck/   \n",
       "\n",
       "                                                       Text Titel  \\\n",
       "0              Rauten retten Leben | Förderkreis Nordtribüne e.V.   \n",
       "1  UdH Sonderausgabe Pokal – FRENETIC YOUTH ULTRAS KAISERSLAUTERN   \n",
       "2         FC Schalke 04 – VfL Osnabrück |  - Ultras Gelsenkirchen   \n",
       "\n",
       "                                         Neuster Text           Liga  \\\n",
       "0        https://nordtribuene-hamburg.de/blutspenden/  2. Bundesliga   \n",
       "1          https://fykl.de/udh-sonderausgabe-pokal-2/  2. Bundesliga   \n",
       "2  https://ultras-ge.de/fc-schalke-04-vfl-osnabrueck/  2. Bundesliga   \n",
       "\n",
       "                                                                                                                             Logo  \\\n",
       "0                https://upload.wikimedia.org/wikipedia/commons/thumb/f/f7/Hamburger_SV_logo.svg/2560px-Hamburger_SV_logo.svg.png   \n",
       "1  https://upload.wikimedia.org/wikipedia/commons/thumb/d/d3/Logo_1_FC_Kaiserslautern.svg/1024px-Logo_1_FC_Kaiserslautern.svg.png   \n",
       "2              https://upload.wikimedia.org/wikipedia/commons/thumb/6/6d/FC_Schalke_04_Logo.svg/2048px-FC_Schalke_04_Logo.svg.png   \n",
       "\n",
       "                                                                                Hintergrundbild  \\\n",
       "0              https://nordtribuene-hamburg.de/wp-content/uploads/2022/11/background-scaled.jpg   \n",
       "1                           https://www.generation-luzifer.de/wp-content/uploads/2016/08/bg.jpg   \n",
       "2  https://img.freepik.com/fotos-kostenlos/abstrakter-strukturierter-hintergrund_1258-30506.jpg   \n",
       "\n",
       "  Mitgliederzahl Gründungsjahr                                     Ticketing  \\\n",
       "0        100.000          1887  https://www.ticket-onlineshop.com/ols/hsv/de   \n",
       "1         25.000          1900                          https://shop.fck.de/   \n",
       "2        174.000          1904               https://tickets.schalke04.de/de   \n",
       "\n",
       "   Platzierung  \n",
       "0            3  \n",
       "1           13  \n",
       "2           16  "
      ]
     },
     "execution_count": 270,
     "metadata": {},
     "output_type": "execute_result"
    }
   ],
   "source": [
    "df.head(3)"
   ]
  },
  {
   "cell_type": "markdown",
   "id": "a4609442",
   "metadata": {},
   "source": [
    "# Creating the \"Update\" Tables"
   ]
  },
  {
   "cell_type": "code",
   "execution_count": 271,
   "id": "28ed254e",
   "metadata": {},
   "outputs": [],
   "source": [
    "# picture comparison"
   ]
  },
  {
   "cell_type": "code",
   "execution_count": 272,
   "id": "1ba1244a",
   "metadata": {},
   "outputs": [],
   "source": [
    "def name_return(row):\n",
    "    return(row)\n",
    "\n",
    "names_new = list(df[\"Bild Titel\"].apply(name_return))\n",
    "names_old = list(df_old[\"Bild Titel\"].apply(name_return))\n",
    "\n",
    "new = []\n",
    "for x in names_new:\n",
    "    if x not in names_old:\n",
    "        new.append(x)\n",
    "\n",
    "new_bild_df = df[df[\"Bild Titel\"].isin(new)]"
   ]
  },
  {
   "cell_type": "code",
   "execution_count": 273,
   "id": "35c70d54",
   "metadata": {},
   "outputs": [
    {
     "name": "stderr",
     "output_type": "stream",
     "text": [
      "/var/folders/bk/02hh56sx1b7622qtqhym98tc0000gn/T/ipykernel_39569/2230762168.py:2: SettingWithCopyWarning: \n",
      "A value is trying to be set on a copy of a slice from a DataFrame\n",
      "\n",
      "See the caveats in the documentation: https://pandas.pydata.org/pandas-docs/stable/user_guide/indexing.html#returning-a-view-versus-a-copy\n",
      "  new_bild_df.drop(columns = [\"index\"], inplace = True)\n"
     ]
    }
   ],
   "source": [
    "new_bild_df.reset_index(inplace = True)\n",
    "new_bild_df.drop(columns = [\"index\"], inplace = True)"
   ]
  },
  {
   "cell_type": "code",
   "execution_count": 274,
   "id": "53223ced",
   "metadata": {
    "scrolled": true
   },
   "outputs": [
    {
     "data": {
      "text/html": [
       "<div>\n",
       "<style scoped>\n",
       "    .dataframe tbody tr th:only-of-type {\n",
       "        vertical-align: middle;\n",
       "    }\n",
       "\n",
       "    .dataframe tbody tr th {\n",
       "        vertical-align: top;\n",
       "    }\n",
       "\n",
       "    .dataframe thead th {\n",
       "        text-align: right;\n",
       "    }\n",
       "</style>\n",
       "<table border=\"1\" class=\"dataframe\">\n",
       "  <thead>\n",
       "    <tr style=\"text-align: right;\">\n",
       "      <th></th>\n",
       "      <th>Verein</th>\n",
       "      <th>Name</th>\n",
       "      <th>Fanseite</th>\n",
       "      <th>Vereinsseite</th>\n",
       "      <th>Bild Titel</th>\n",
       "      <th>Neuste Bilder</th>\n",
       "      <th>Text Titel</th>\n",
       "      <th>Neuster Text</th>\n",
       "      <th>Liga</th>\n",
       "      <th>Logo</th>\n",
       "      <th>Hintergrundbild</th>\n",
       "      <th>Mitgliederzahl</th>\n",
       "      <th>Gründungsjahr</th>\n",
       "      <th>Ticketing</th>\n",
       "      <th>Platzierung</th>\n",
       "    </tr>\n",
       "  </thead>\n",
       "  <tbody>\n",
       "    <tr>\n",
       "      <th>0</th>\n",
       "      <td>Dynamo Dresden</td>\n",
       "      <td>K-Block | ULTRAS DYNAMO</td>\n",
       "      <td>https://ultras-dynamo.de/k-block/</td>\n",
       "      <td>https://www.dynamo-dresden.de/</td>\n",
       "      <td>23/24 – 17 – SC Verl vs. SG Dynamo Dresden | ULTRAS DYNAMO</td>\n",
       "      <td>https://ultras-dynamo.de/project/23-24-17-sc-verl-vs-sg-dynamo-dresden/</td>\n",
       "      <td>Nein zu Investoren in der DFL! | ULTRAS DYNAMO</td>\n",
       "      <td>https://ultras-dynamo.de/2023/12/04/nein-zu-investoren-in-der-dfl/</td>\n",
       "      <td>3. Bundesliga</td>\n",
       "      <td>https://upload.wikimedia.org/wikipedia/commons/thumb/e/e1/Logo_SG_Dynamo_Dresden_neu.svg/2421px-Logo_SG_Dynamo_Dresden_neu.svg.png</td>\n",
       "      <td>data:image/jpeg;base64,/9j/4AAQSkZJRgABAQAAAQABAAD/2wCEAAkGBxISEhUSEhIVFRUVFRcVFRUVFRUVFRUVFRUXFxUVFRUYHSggGBolHRcVITEhJSkrLi4uFx8zODMtNygtLisBCgoKDg0NFQ8PFy0dFR0tLS0tLS0tLS0tLS0tLS0tLS0tLS0rLS0tLS0tLS0tLS0tLS0tLS0tLS0tLTctLTctLf/AABEIALcBFAMBIgACEQEDEQH/xAAZAAEBAQEBAQAAAAAAAAAAAAAAAQIDBAb/xAAbEAEBAQEBAAMAAAAAAAAAAAAAEQESAmFxgf/EABkBAQEBAQEBAAAAAAAAAAAAAAABAwIHBf/EABURAQEAAAAAAAAAAAAAAAAAAAAR/9oADAMBAAIRAxEAPwD74phXk7760qKAJV0BWcxQVBUAoYIoYgKUEFQzQRYJgC6gCrUFERcEBQwgIAKKICpgYC4IAwgOnQqUoKUAKFUQwQgKJFBc0QzURoSmaBVSlBRKlBo1KAoioBiYoGAgKVN0UUEQUMRRQEHIB27VNAFwNQRoZVBRAFVlRFzTdQBrNSggUqLFFEEClAFEUQoAFAADQClAAKABgDlVqZo7aFWoCLSoILoGAtRUEXVxlcBYYmKgURRFEAUQzQXEwxQFiCAIoLglAKtTQF3UwABFBcDARw3FZq40arDfpKogsTNRBrBAFVKURRDEFWICLAogVaVAKtEoFCmaC5ggClAAADBFACgAAKIIjg0iY1aNaVEiDSbpQFq4yA1SoURYrOatQUxM0zQaEERaIoAi4AYaAqBQUQBdMRRAQBpKmKgLWVAom6LFjkYmmtHa/isKgtWsKsRdXNRMQaEWgYqFQUqVRFpUzVBcKlMBd0qCCmJCgpmpQFVKCFM1FwVUzSgLupQQWlQoi0TFB51ZGrRujNTEhG6lRRCrjKgu6VKYC5q5rJQaKlKI0JRBrdGYEGqJSkF3SoqAIuALWVoKVDBFShmiqJpmgVWcAazRBEcKiDVo0ZrNXAWrWQg1V3WAGqrCiLvpazQg2VmlQjdKzTNEjVGVQWqyoRalCgtMQBVrIkGkqVaC0TUoNURNBauayUg30MaJCPOu6zStnbVMZq0Ghim6DVWsr5QXNWs5pgNUrIDVWsUpEbKzQGqtYKkG6tY3SkG6tc6bpEjpSsUqQjdGKUhG6ViqQjVGaUhGis5pQjVKlTdQjQnQsHm0rG+jprHToVioQdKVz6Xog3SsU6SDdXGOjN+SDdVz6Ug2lZp0QbzRmlQaq1goN0Z3Qg0uM4A0M0ojVKmaZqC4tZoK1RkBc0qZpQazSs0pBqjNAePo6BvEWrUECrQBekz0CC0zQAq9ABVoIGejoCC9L0AJno6UQWlUBKoIpTNAAoAtQAKuaAFAQKAD/9k=</td>\n",
       "      <td>26.700</td>\n",
       "      <td>1953</td>\n",
       "      <td>https://karten.dynamo-dresden.de/shop/103</td>\n",
       "      <td>2</td>\n",
       "    </tr>\n",
       "    <tr>\n",
       "      <th>1</th>\n",
       "      <td>VfB Stuttgart</td>\n",
       "      <td>Commando Cannstatt 1997 – Ultras Stuttgart</td>\n",
       "      <td>https://www.cc97.de/</td>\n",
       "      <td>https://www.vfb.de/</td>\n",
       "      <td>VfB Stuttgart - Borussia Dortmund / 06.12.2023 | Cannstatter Kurve</td>\n",
       "      <td>https://www.cannstatter-kurve.de/vfb-stuttgart-borussia-dortmund-06-12-2023/</td>\n",
       "      <td>Fankalender 2024 am Stadion ausverkauft – nur noch bei Osiander erhältlich – Commando Cannstatt 1997 – Ultras Stuttgart</td>\n",
       "      <td>https://www.cc97.de/fankalender-2024-osiander/</td>\n",
       "      <td>1. Bundesliga</td>\n",
       "      <td>https://www.vfb.de/?proxy=img/logo.png</td>\n",
       "      <td>https://www.generation-luzifer.de/wp-content/uploads/2016/08/bg.jpg</td>\n",
       "      <td>85.000</td>\n",
       "      <td>1893</td>\n",
       "      <td>https://shop.vfb.de/tickets/heimspiele/</td>\n",
       "      <td>3</td>\n",
       "    </tr>\n",
       "    <tr>\n",
       "      <th>2</th>\n",
       "      <td>Eintracht Frankfurt</td>\n",
       "      <td>Ultras Frankfurt 1997</td>\n",
       "      <td>https://www.ultras-frankfurt.de/#/aktuell</td>\n",
       "      <td>https://www.eintracht.de/</td>\n",
       "      <td>VfB Stuttgart - Borussia Dortmund / 06.12.2023 | Cannstatter Kurve</td>\n",
       "      <td>https://www.ultras-frankfurt.de/#/bilder/2324</td>\n",
       "      <td>Aktuelles</td>\n",
       "      <td>https://www.ultras-frankfurt.de/#/aktuell</td>\n",
       "      <td>1. Bundesliga</td>\n",
       "      <td>https://upload.wikimedia.org/wikipedia/commons/thumb/0/04/Eintracht_Frankfurt_Logo.svg/1024px-Eintracht_Frankfurt_Logo.svg.png</td>\n",
       "      <td>https://www.generation-luzifer.de/wp-content/uploads/2016/08/bg.jpg</td>\n",
       "      <td>130.000</td>\n",
       "      <td>1899</td>\n",
       "      <td>https://stores.eintracht.de/tickets/</td>\n",
       "      <td>7</td>\n",
       "    </tr>\n",
       "    <tr>\n",
       "      <th>3</th>\n",
       "      <td>SV Darmstadt 98</td>\n",
       "      <td>SÜDTRIBÜNE DARMSTADT</td>\n",
       "      <td>http://block1898.de/</td>\n",
       "      <td>https://www.sv98.de/fans/</td>\n",
       "      <td>Fotos: SVD – Köln |</td>\n",
       "      <td>http://usualsuspects2006.de/2023/12/07/fotos-svd-koeln-3/</td>\n",
       "      <td>Es bleibt dabei: NEIN ZU INVESTOREN IN DER DFL! – SÜDTRIBÜNE DARMSTADT</td>\n",
       "      <td>http://block1898.de/?p=2277</td>\n",
       "      <td>1. Bundesliga</td>\n",
       "      <td>https://upload.wikimedia.org/wikipedia/commons/thumb/e/e5/SV_Darmstadt_98_Logo.svg/1024px-SV_Darmstadt_98_Logo.svg.png</td>\n",
       "      <td>https://img.freepik.com/fotos-kostenlos/abstrakter-strukturierter-hintergrund_1258-30506.jpg</td>\n",
       "      <td>14.000</td>\n",
       "      <td>1898</td>\n",
       "      <td>https://indiv.themisweb.de/0224/fListeManifs.aspx?idstructure=0224&amp;_gl=1*1lf7vz6*_ga*Mjc2MTQyOTk1LjE3MDE0MjU0MjI.*_ga_FJYJ3MQ8BH*MTcwMTQyNTQyMi4xLjAuMTcwMTQyNTQyMi4wLjAuMA..</td>\n",
       "      <td>16</td>\n",
       "    </tr>\n",
       "  </tbody>\n",
       "</table>\n",
       "</div>"
      ],
      "text/plain": [
       "                Verein                                        Name  \\\n",
       "0       Dynamo Dresden                     K-Block | ULTRAS DYNAMO   \n",
       "1        VfB Stuttgart  Commando Cannstatt 1997 – Ultras Stuttgart   \n",
       "2  Eintracht Frankfurt                       Ultras Frankfurt 1997   \n",
       "3      SV Darmstadt 98                        SÜDTRIBÜNE DARMSTADT   \n",
       "\n",
       "                                    Fanseite                    Vereinsseite  \\\n",
       "0          https://ultras-dynamo.de/k-block/  https://www.dynamo-dresden.de/   \n",
       "1                       https://www.cc97.de/             https://www.vfb.de/   \n",
       "2  https://www.ultras-frankfurt.de/#/aktuell       https://www.eintracht.de/   \n",
       "3                       http://block1898.de/       https://www.sv98.de/fans/   \n",
       "\n",
       "                                                           Bild Titel  \\\n",
       "0          23/24 – 17 – SC Verl vs. SG Dynamo Dresden | ULTRAS DYNAMO   \n",
       "1  VfB Stuttgart - Borussia Dortmund / 06.12.2023 | Cannstatter Kurve   \n",
       "2  VfB Stuttgart - Borussia Dortmund / 06.12.2023 | Cannstatter Kurve   \n",
       "3                                                 Fotos: SVD – Köln |   \n",
       "\n",
       "                                                                  Neuste Bilder  \\\n",
       "0       https://ultras-dynamo.de/project/23-24-17-sc-verl-vs-sg-dynamo-dresden/   \n",
       "1  https://www.cannstatter-kurve.de/vfb-stuttgart-borussia-dortmund-06-12-2023/   \n",
       "2                                 https://www.ultras-frankfurt.de/#/bilder/2324   \n",
       "3                     http://usualsuspects2006.de/2023/12/07/fotos-svd-koeln-3/   \n",
       "\n",
       "                                                                                                                Text Titel  \\\n",
       "0                                                                           Nein zu Investoren in der DFL! | ULTRAS DYNAMO   \n",
       "1  Fankalender 2024 am Stadion ausverkauft – nur noch bei Osiander erhältlich – Commando Cannstatt 1997 – Ultras Stuttgart   \n",
       "2                                                                                                                Aktuelles   \n",
       "3                                                   Es bleibt dabei: NEIN ZU INVESTOREN IN DER DFL! – SÜDTRIBÜNE DARMSTADT   \n",
       "\n",
       "                                                         Neuster Text  \\\n",
       "0  https://ultras-dynamo.de/2023/12/04/nein-zu-investoren-in-der-dfl/   \n",
       "1                      https://www.cc97.de/fankalender-2024-osiander/   \n",
       "2                           https://www.ultras-frankfurt.de/#/aktuell   \n",
       "3                                         http://block1898.de/?p=2277   \n",
       "\n",
       "            Liga  \\\n",
       "0  3. Bundesliga   \n",
       "1  1. Bundesliga   \n",
       "2  1. Bundesliga   \n",
       "3  1. Bundesliga   \n",
       "\n",
       "                                                                                                                                 Logo  \\\n",
       "0  https://upload.wikimedia.org/wikipedia/commons/thumb/e/e1/Logo_SG_Dynamo_Dresden_neu.svg/2421px-Logo_SG_Dynamo_Dresden_neu.svg.png   \n",
       "1                                                                                              https://www.vfb.de/?proxy=img/logo.png   \n",
       "2      https://upload.wikimedia.org/wikipedia/commons/thumb/0/04/Eintracht_Frankfurt_Logo.svg/1024px-Eintracht_Frankfurt_Logo.svg.png   \n",
       "3              https://upload.wikimedia.org/wikipedia/commons/thumb/e/e5/SV_Darmstadt_98_Logo.svg/1024px-SV_Darmstadt_98_Logo.svg.png   \n",
       "\n",
       "                                                                                                                                                                                                                                                                                                                                                                                                                                                                                                                                                                                                                                                                                                                                                                                                                                                                                                                                                                                                                                                                                                                                                                                                                                                                                                                                                                                                                                                               Hintergrundbild  \\\n",
       "0  data:image/jpeg;base64,/9j/4AAQSkZJRgABAQAAAQABAAD/2wCEAAkGBxISEhUSEhIVFRUVFRcVFRUVFRUVFRUVFRUXFxUVFRUYHSggGBolHRcVITEhJSkrLi4uFx8zODMtNygtLisBCgoKDg0NFQ8PFy0dFR0tLS0tLS0tLS0tLS0tLS0tLS0tLS0rLS0tLS0tLS0tLS0tLS0tLS0tLS0tLTctLTctLf/AABEIALcBFAMBIgACEQEDEQH/xAAZAAEBAQEBAQAAAAAAAAAAAAAAAQIDBAb/xAAbEAEBAQEBAAMAAAAAAAAAAAAAEQESAmFxgf/EABkBAQEBAQEBAAAAAAAAAAAAAAABAwIHBf/EABURAQEAAAAAAAAAAAAAAAAAAAAR/9oADAMBAAIRAxEAPwD74phXk7760qKAJV0BWcxQVBUAoYIoYgKUEFQzQRYJgC6gCrUFERcEBQwgIAKKICpgYC4IAwgOnQqUoKUAKFUQwQgKJFBc0QzURoSmaBVSlBRKlBo1KAoioBiYoGAgKVN0UUEQUMRRQEHIB27VNAFwNQRoZVBRAFVlRFzTdQBrNSggUqLFFEEClAFEUQoAFAADQClAAKABgDlVqZo7aFWoCLSoILoGAtRUEXVxlcBYYmKgURRFEAUQzQXEwxQFiCAIoLglAKtTQF3UwABFBcDARw3FZq40arDfpKogsTNRBrBAFVKURRDEFWICLAogVaVAKtEoFCmaC5ggClAAADBFACgAAKIIjg0iY1aNaVEiDSbpQFq4yA1SoURYrOatQUxM0zQaEERaIoAi4AYaAqBQUQBdMRRAQBpKmKgLWVAom6LFjkYmmtHa/isKgtWsKsRdXNRMQaEWgYqFQUqVRFpUzVBcKlMBd0qCCmJCgpmpQFVKCFM1FwVUzSgLupQQWlQoi0TFB51ZGrRujNTEhG6lRRCrjKgu6VKYC5q5rJQaKlKI0JRBrdGYEGqJSkF3SoqAIuALWVoKVDBFShmiqJpmgVWcAazRBEcKiDVo0ZrNXAWrWQg1V3WAGqrCiLvpazQg2VmlQjdKzTNEjVGVQWqyoRalCgtMQBVrIkGkqVaC0TUoNURNBauayUg30MaJCPOu6zStnbVMZq0Ghim6DVWsr5QXNWs5pgNUrIDVWsUpEbKzQGqtYKkG6tY3SkG6tc6bpEjpSsUqQjdGKUhG6ViqQjVGaUhGis5pQjVKlTdQjQnQsHm0rG+jprHToVioQdKVz6Xog3SsU6SDdXGOjN+SDdVz6Ug2lZp0QbzRmlQaq1goN0Z3Qg0uM4A0M0ojVKmaZqC4tZoK1RkBc0qZpQazSs0pBqjNAePo6BvEWrUECrQBekz0CC0zQAq9ABVoIGejoCC9L0AJno6UQWlUBKoIpTNAAoAtQAKuaAFAQKAD/9k=   \n",
       "1                                                                                                                                                                                                                                                                                                                                                                                                                                                                                                                                                                                                                                                                                                                                                                                                                                                                                                                                                                                                                                                                                                                                                                                                                                                                                                                                                                                                          https://www.generation-luzifer.de/wp-content/uploads/2016/08/bg.jpg   \n",
       "2                                                                                                                                                                                                                                                                                                                                                                                                                                                                                                                                                                                                                                                                                                                                                                                                                                                                                                                                                                                                                                                                                                                                                                                                                                                                                                                                                                                                          https://www.generation-luzifer.de/wp-content/uploads/2016/08/bg.jpg   \n",
       "3                                                                                                                                                                                                                                                                                                                                                                                                                                                                                                                                                                                                                                                                                                                                                                                                                                                                                                                                                                                                                                                                                                                                                                                                                                                                                                                                                                                 https://img.freepik.com/fotos-kostenlos/abstrakter-strukturierter-hintergrund_1258-30506.jpg   \n",
       "\n",
       "  Mitgliederzahl Gründungsjahr  \\\n",
       "0         26.700          1953   \n",
       "1         85.000          1893   \n",
       "2        130.000          1899   \n",
       "3         14.000          1898   \n",
       "\n",
       "                                                                                                                                                                       Ticketing  \\\n",
       "0                                                                                                                                      https://karten.dynamo-dresden.de/shop/103   \n",
       "1                                                                                                                                        https://shop.vfb.de/tickets/heimspiele/   \n",
       "2                                                                                                                                           https://stores.eintracht.de/tickets/   \n",
       "3  https://indiv.themisweb.de/0224/fListeManifs.aspx?idstructure=0224&_gl=1*1lf7vz6*_ga*Mjc2MTQyOTk1LjE3MDE0MjU0MjI.*_ga_FJYJ3MQ8BH*MTcwMTQyNTQyMi4xLjAuMTcwMTQyNTQyMi4wLjAuMA..   \n",
       "\n",
       "   Platzierung  \n",
       "0            2  \n",
       "1            3  \n",
       "2            7  \n",
       "3           16  "
      ]
     },
     "execution_count": 274,
     "metadata": {},
     "output_type": "execute_result"
    }
   ],
   "source": [
    "new_bild_df"
   ]
  },
  {
   "cell_type": "code",
   "execution_count": 275,
   "id": "788d7723",
   "metadata": {},
   "outputs": [],
   "source": [
    "# Text comparison"
   ]
  },
  {
   "cell_type": "code",
   "execution_count": 276,
   "id": "8c1be598",
   "metadata": {},
   "outputs": [],
   "source": [
    "def text_return(row):\n",
    "    return(row)\n",
    "\n",
    "names_new = list(df[\"Text Titel\"].apply(text_return))\n",
    "names_old = list(df_old[\"Text Titel\"].apply(text_return))\n",
    "\n",
    "new = []\n",
    "for x in names_new:\n",
    "    if x not in names_old:\n",
    "        new.append(x)\n",
    "\n",
    "new_text_df = df[df[\"Text Titel\"].isin(new)]"
   ]
  },
  {
   "cell_type": "code",
   "execution_count": 277,
   "id": "f285486f",
   "metadata": {
    "scrolled": false
   },
   "outputs": [
    {
     "name": "stderr",
     "output_type": "stream",
     "text": [
      "/var/folders/bk/02hh56sx1b7622qtqhym98tc0000gn/T/ipykernel_39569/293098642.py:2: SettingWithCopyWarning: \n",
      "A value is trying to be set on a copy of a slice from a DataFrame\n",
      "\n",
      "See the caveats in the documentation: https://pandas.pydata.org/pandas-docs/stable/user_guide/indexing.html#returning-a-view-versus-a-copy\n",
      "  new_text_df.drop(columns = [\"index\"], inplace = True)\n"
     ]
    }
   ],
   "source": [
    "new_text_df.reset_index(inplace = True)\n",
    "new_text_df.drop(columns = [\"index\"], inplace = True)"
   ]
  },
  {
   "cell_type": "code",
   "execution_count": 278,
   "id": "a2065eb2",
   "metadata": {
    "scrolled": false
   },
   "outputs": [
    {
     "data": {
      "text/html": [
       "<div>\n",
       "<style scoped>\n",
       "    .dataframe tbody tr th:only-of-type {\n",
       "        vertical-align: middle;\n",
       "    }\n",
       "\n",
       "    .dataframe tbody tr th {\n",
       "        vertical-align: top;\n",
       "    }\n",
       "\n",
       "    .dataframe thead th {\n",
       "        text-align: right;\n",
       "    }\n",
       "</style>\n",
       "<table border=\"1\" class=\"dataframe\">\n",
       "  <thead>\n",
       "    <tr style=\"text-align: right;\">\n",
       "      <th></th>\n",
       "      <th>Verein</th>\n",
       "      <th>Name</th>\n",
       "      <th>Fanseite</th>\n",
       "      <th>Vereinsseite</th>\n",
       "      <th>Bild Titel</th>\n",
       "      <th>Neuste Bilder</th>\n",
       "      <th>Text Titel</th>\n",
       "      <th>Neuster Text</th>\n",
       "      <th>Liga</th>\n",
       "      <th>Logo</th>\n",
       "      <th>Hintergrundbild</th>\n",
       "      <th>Mitgliederzahl</th>\n",
       "      <th>Gründungsjahr</th>\n",
       "      <th>Ticketing</th>\n",
       "      <th>Platzierung</th>\n",
       "    </tr>\n",
       "  </thead>\n",
       "  <tbody>\n",
       "    <tr>\n",
       "      <th>0</th>\n",
       "      <td>1. FC Kaiserslautern</td>\n",
       "      <td>FRENETIC YOUTH ULTRAS KAISERSLAUTERN</td>\n",
       "      <td>https://fykl.de/</td>\n",
       "      <td>https://fck.de/de/</td>\n",
       "      <td>DFB-Pokal (Achtelfinale) 2023/2024 | DI, 05.12.2023 | 1. FCK – 1. FC Nürnberg | 2:0</td>\n",
       "      <td>http://generation-luzifer.de/?page_id=5814</td>\n",
       "      <td>UdH Sonderausgabe Pokal – FRENETIC YOUTH ULTRAS KAISERSLAUTERN</td>\n",
       "      <td>https://fykl.de/udh-sonderausgabe-pokal-2/</td>\n",
       "      <td>2. Bundesliga</td>\n",
       "      <td>https://upload.wikimedia.org/wikipedia/commons/thumb/d/d3/Logo_1_FC_Kaiserslautern.svg/1024px-Logo_1_FC_Kaiserslautern.svg.png</td>\n",
       "      <td>https://www.generation-luzifer.de/wp-content/uploads/2016/08/bg.jpg</td>\n",
       "      <td>25.000</td>\n",
       "      <td>1900</td>\n",
       "      <td>https://shop.fck.de/</td>\n",
       "      <td>13</td>\n",
       "    </tr>\n",
       "    <tr>\n",
       "      <th>1</th>\n",
       "      <td>TSV 1860 München</td>\n",
       "      <td>Aktuelles - muenchnerloewen</td>\n",
       "      <td>https://muenchnerloewen.de/aktuelles.html</td>\n",
       "      <td>https://www.tsv1860.de/</td>\n",
       "      <td>22/23 - 38.ST - 27.05.2023 - FSV Zwickau - TSV 1860 - 2:2 (0:0) - muenchnerloewen</td>\n",
       "      <td>https://muenchnerloewen.de/medien/fotos/details/22-23-38-st-27-05-2023-fsv-zwickau-tsv-1860-22-00.html</td>\n",
       "      <td>Christkindlmarkt Alternativprogramm</td>\n",
       "      <td>https://muenchnerloewen.de/aktuelles.html</td>\n",
       "      <td>3. Bundesliga</td>\n",
       "      <td>https://upload.wikimedia.org/wikipedia/commons/thumb/4/48/TSV_1860_M%C3%BCnchen.svg/1643px-TSV_1860_M%C3%BCnchen.svg.png</td>\n",
       "      <td>https://www.marketer-magazin.de/wp-content/uploads/2013/07/Lowen_blau1024x768.jpg</td>\n",
       "      <td>25.000</td>\n",
       "      <td>1860</td>\n",
       "      <td>https://www.tsv1860-ticketing.de/tsv1860/</td>\n",
       "      <td>15</td>\n",
       "    </tr>\n",
       "  </tbody>\n",
       "</table>\n",
       "</div>"
      ],
      "text/plain": [
       "                 Verein                                  Name  \\\n",
       "0  1. FC Kaiserslautern  FRENETIC YOUTH ULTRAS KAISERSLAUTERN   \n",
       "1      TSV 1860 München           Aktuelles - muenchnerloewen   \n",
       "\n",
       "                                    Fanseite             Vereinsseite  \\\n",
       "0                           https://fykl.de/       https://fck.de/de/   \n",
       "1  https://muenchnerloewen.de/aktuelles.html  https://www.tsv1860.de/   \n",
       "\n",
       "                                                                            Bild Titel  \\\n",
       "0  DFB-Pokal (Achtelfinale) 2023/2024 | DI, 05.12.2023 | 1. FCK – 1. FC Nürnberg | 2:0   \n",
       "1    22/23 - 38.ST - 27.05.2023 - FSV Zwickau - TSV 1860 - 2:2 (0:0) - muenchnerloewen   \n",
       "\n",
       "                                                                                            Neuste Bilder  \\\n",
       "0                                                              http://generation-luzifer.de/?page_id=5814   \n",
       "1  https://muenchnerloewen.de/medien/fotos/details/22-23-38-st-27-05-2023-fsv-zwickau-tsv-1860-22-00.html   \n",
       "\n",
       "                                                       Text Titel  \\\n",
       "0  UdH Sonderausgabe Pokal – FRENETIC YOUTH ULTRAS KAISERSLAUTERN   \n",
       "1                             Christkindlmarkt Alternativprogramm   \n",
       "\n",
       "                                 Neuster Text           Liga  \\\n",
       "0  https://fykl.de/udh-sonderausgabe-pokal-2/  2. Bundesliga   \n",
       "1   https://muenchnerloewen.de/aktuelles.html  3. Bundesliga   \n",
       "\n",
       "                                                                                                                             Logo  \\\n",
       "0  https://upload.wikimedia.org/wikipedia/commons/thumb/d/d3/Logo_1_FC_Kaiserslautern.svg/1024px-Logo_1_FC_Kaiserslautern.svg.png   \n",
       "1        https://upload.wikimedia.org/wikipedia/commons/thumb/4/48/TSV_1860_M%C3%BCnchen.svg/1643px-TSV_1860_M%C3%BCnchen.svg.png   \n",
       "\n",
       "                                                                     Hintergrundbild  \\\n",
       "0                https://www.generation-luzifer.de/wp-content/uploads/2016/08/bg.jpg   \n",
       "1  https://www.marketer-magazin.de/wp-content/uploads/2013/07/Lowen_blau1024x768.jpg   \n",
       "\n",
       "  Mitgliederzahl Gründungsjahr                                  Ticketing  \\\n",
       "0         25.000          1900                       https://shop.fck.de/   \n",
       "1         25.000          1860  https://www.tsv1860-ticketing.de/tsv1860/   \n",
       "\n",
       "   Platzierung  \n",
       "0           13  \n",
       "1           15  "
      ]
     },
     "execution_count": 278,
     "metadata": {},
     "output_type": "execute_result"
    }
   ],
   "source": [
    "new_text_df"
   ]
  },
  {
   "cell_type": "markdown",
   "id": "9067899c",
   "metadata": {},
   "source": [
    "# Date Dataframe"
   ]
  },
  {
   "cell_type": "code",
   "execution_count": 279,
   "id": "6f6b0894",
   "metadata": {
    "scrolled": true
   },
   "outputs": [],
   "source": [
    "current_date = datetime.datetime.now().date()"
   ]
  },
  {
   "cell_type": "code",
   "execution_count": 280,
   "id": "b8a6ab29",
   "metadata": {},
   "outputs": [
    {
     "name": "stderr",
     "output_type": "stream",
     "text": [
      "/var/folders/bk/02hh56sx1b7622qtqhym98tc0000gn/T/ipykernel_39569/1843179329.py:1: SettingWithCopyWarning: \n",
      "A value is trying to be set on a copy of a slice from a DataFrame.\n",
      "Try using .loc[row_indexer,col_indexer] = value instead\n",
      "\n",
      "See the caveats in the documentation: https://pandas.pydata.org/pandas-docs/stable/user_guide/indexing.html#returning-a-view-versus-a-copy\n",
      "  new_text_df[\"Datum\"] = current_date\n",
      "/var/folders/bk/02hh56sx1b7622qtqhym98tc0000gn/T/ipykernel_39569/1843179329.py:2: SettingWithCopyWarning: \n",
      "A value is trying to be set on a copy of a slice from a DataFrame.\n",
      "Try using .loc[row_indexer,col_indexer] = value instead\n",
      "\n",
      "See the caveats in the documentation: https://pandas.pydata.org/pandas-docs/stable/user_guide/indexing.html#returning-a-view-versus-a-copy\n",
      "  new_bild_df[\"Datum\"] = current_date\n"
     ]
    }
   ],
   "source": [
    "new_text_df[\"Datum\"] = current_date\n",
    "new_bild_df[\"Datum\"] = current_date"
   ]
  },
  {
   "cell_type": "code",
   "execution_count": 281,
   "id": "be7eafc8",
   "metadata": {},
   "outputs": [],
   "source": [
    "df_all_old = pd.read_excel(\"/Users/henriksoeder/Documents/Arbeit/Python/Football_Scrape/Tabellen/neu_alles_datum.xlsx\")"
   ]
  },
  {
   "cell_type": "code",
   "execution_count": 282,
   "id": "15637099",
   "metadata": {},
   "outputs": [],
   "source": [
    "df_alles_datum = pd.concat([df_all_old, new_bild_df, new_text_df])"
   ]
  },
  {
   "cell_type": "markdown",
   "id": "93a99698",
   "metadata": {},
   "source": [
    "# League Number"
   ]
  },
  {
   "cell_type": "code",
   "execution_count": 283,
   "id": "ee73032a",
   "metadata": {},
   "outputs": [],
   "source": [
    "ligen = list(df[\"Liga\"].values)\n",
    "df[\"Ligen_nummer\"] = list(map(lambda x :  x[0], ligen))"
   ]
  },
  {
   "cell_type": "code",
   "execution_count": 284,
   "id": "69ad7892",
   "metadata": {},
   "outputs": [],
   "source": [
    "#df.sort_values(by = \"Platzierung\", ascending = True, inplace = True)"
   ]
  },
  {
   "cell_type": "code",
   "execution_count": 285,
   "id": "73e65910",
   "metadata": {},
   "outputs": [],
   "source": [
    "df.sort_values(by='Ligen_nummer', ascending=True, inplace = True)"
   ]
  },
  {
   "cell_type": "markdown",
   "id": "751d9a3f",
   "metadata": {},
   "source": [
    "# Concatinating"
   ]
  },
  {
   "cell_type": "code",
   "execution_count": 286,
   "id": "f80cb895",
   "metadata": {},
   "outputs": [],
   "source": [
    "new_all_df = pd.concat([new_text_df, new_bild_df])"
   ]
  },
  {
   "cell_type": "code",
   "execution_count": 287,
   "id": "6bf86b1f",
   "metadata": {},
   "outputs": [],
   "source": [
    "new_all_df = new_all_df.drop_duplicates()"
   ]
  },
  {
   "cell_type": "markdown",
   "id": "d37bf749",
   "metadata": {},
   "source": [
    "# Exporting"
   ]
  },
  {
   "cell_type": "code",
   "execution_count": 288,
   "id": "2e1ed482",
   "metadata": {},
   "outputs": [],
   "source": [
    "new_bild_df.to_excel('/Users/henriksoeder/Documents/Arbeit/Python/Football_Scrape/Tabellen/neue_bilder_übersicht.xlsx', index=False)"
   ]
  },
  {
   "cell_type": "code",
   "execution_count": 289,
   "id": "4d64cbec",
   "metadata": {},
   "outputs": [],
   "source": [
    "new_text_df.to_excel('/Users/henriksoeder/Documents/Arbeit/Python/Football_Scrape/Tabellen/neue_texte_übersicht.xlsx', index=False)"
   ]
  },
  {
   "cell_type": "code",
   "execution_count": 290,
   "id": "b75b5593",
   "metadata": {},
   "outputs": [],
   "source": [
    "new_all_df.to_excel('/Users/henriksoeder/Documents/Arbeit/Python/Football_Scrape/Tabellen/neu_alles_übersicht.xlsx', index=False)"
   ]
  },
  {
   "cell_type": "markdown",
   "id": "e7227287",
   "metadata": {},
   "source": [
    "### Zuschauer"
   ]
  },
  {
   "cell_type": "code",
   "execution_count": 291,
   "id": "3475d38f",
   "metadata": {},
   "outputs": [],
   "source": [
    "df_zuschauer.to_excel('/Users/henriksoeder/Documents/Arbeit/Python/Football_Scrape/Tabellen/zuschauer_infos.xlsx')"
   ]
  },
  {
   "cell_type": "code",
   "execution_count": 292,
   "id": "db598a7a",
   "metadata": {},
   "outputs": [],
   "source": [
    "df_zuschauer_3.to_excel('/Users/henriksoeder/Documents/Arbeit/Python/Football_Scrape/Tabellen/zuschauer_infos_3.xlsx')"
   ]
  },
  {
   "cell_type": "code",
   "execution_count": 293,
   "id": "ac894616",
   "metadata": {},
   "outputs": [],
   "source": [
    "df_alles_datum.to_excel('/Users/henriksoeder/Documents/Arbeit/Python/Football_Scrape/Tabellen/neu_alles_datum.xlsx', index = False)"
   ]
  },
  {
   "cell_type": "markdown",
   "id": "4ae19af8",
   "metadata": {},
   "source": [
    "### Main"
   ]
  },
  {
   "cell_type": "code",
   "execution_count": 294,
   "id": "803b05c2",
   "metadata": {},
   "outputs": [],
   "source": [
    "df.to_excel('/Users/henriksoeder/Documents/Arbeit/Python/Football_Scrape/Tabellen/fanbereich_übersicht.xlsx', index=False)"
   ]
  },
  {
   "cell_type": "code",
   "execution_count": null,
   "id": "e8953a8e",
   "metadata": {},
   "outputs": [],
   "source": []
  }
 ],
 "metadata": {
  "kernelspec": {
   "display_name": "Python 3 (ipykernel)",
   "language": "python",
   "name": "python3"
  },
  "language_info": {
   "codemirror_mode": {
    "name": "ipython",
    "version": 3
   },
   "file_extension": ".py",
   "mimetype": "text/x-python",
   "name": "python",
   "nbconvert_exporter": "python",
   "pygments_lexer": "ipython3",
   "version": "3.11.4"
  }
 },
 "nbformat": 4,
 "nbformat_minor": 5
}
