{
 "cells": [
  {
   "cell_type": "code",
   "execution_count": 52,
   "id": "826fc0a7",
   "metadata": {},
   "outputs": [],
   "source": [
    "import pandas as pd\n",
    "pd.set_option('display.max_colwidth', None)"
   ]
  },
  {
   "cell_type": "code",
   "execution_count": 53,
   "id": "a89e566b",
   "metadata": {},
   "outputs": [],
   "source": [
    "def lower(row):\n",
    "    return row.lower()"
   ]
  },
  {
   "cell_type": "code",
   "execution_count": 67,
   "id": "01eb8402",
   "metadata": {},
   "outputs": [],
   "source": [
    "df = pd.read_excel(\"/Users/henriksoeder/Documents/Arbeit/Python/Football_Scrape/Tabellen/fanbereich_übersicht.xlsx\")\n",
    "df_bild_new = pd.read_excel(\"/Users/henriksoeder/Documents/Arbeit/Python/Football_Scrape/Tabellen/neue_bilder_übersicht.xlsx\")\n",
    "df_text_new = pd.read_excel(\"/Users/henriksoeder/Documents/Arbeit/Python/Football_Scrape/Tabellen/neue_texte_übersicht.xlsx\")"
   ]
  },
  {
   "cell_type": "code",
   "execution_count": 68,
   "id": "a4a92d8c",
   "metadata": {
    "scrolled": true
   },
   "outputs": [],
   "source": [
    "vereine_texte  = list(df_text_new[\"Verein\"])\n",
    "vereine_bilder = list(df_bild_new[\"Verein\"])\n",
    "default = [\"Default\"]"
   ]
  },
  {
   "cell_type": "code",
   "execution_count": 56,
   "id": "05c2c82a",
   "metadata": {},
   "outputs": [],
   "source": [
    "vereine_texte_stand = [x.lower() for x in vereine_texte]\n",
    "vereine_bilder_stand = [x.lower() for x in vereine_bilder]"
   ]
  },
  {
   "cell_type": "code",
   "execution_count": 57,
   "id": "eab8285b",
   "metadata": {
    "scrolled": false
   },
   "outputs": [],
   "source": [
    "df_text_new[\"Verein\"] = df_text_new[\"Verein\"].apply(lower)\n",
    "df_bild_new[\"Verein\"] = df_bild_new[\"Verein\"].apply(lower)"
   ]
  },
  {
   "cell_type": "code",
   "execution_count": 70,
   "id": "44bca528",
   "metadata": {
    "scrolled": false
   },
   "outputs": [
    {
     "data": {
      "text/plain": [
       "['Default', 'VfB Stuttgart', 'Eintracht Frankfurt', '1. FC Magdeburg']"
      ]
     },
     "execution_count": 70,
     "metadata": {},
     "output_type": "execute_result"
    }
   ],
   "source": [
    "default+vereine_texte+vereine_bilder"
   ]
  },
  {
   "cell_type": "code",
   "execution_count": 17,
   "id": "a4ca024f",
   "metadata": {},
   "outputs": [],
   "source": [
    "### chat bot"
   ]
  },
  {
   "cell_type": "code",
   "execution_count": 35,
   "id": "9c3f724f",
   "metadata": {
    "scrolled": false
   },
   "outputs": [
    {
     "name": "stdout",
     "output_type": "stream",
     "text": [
      "Chatbot\n",
      "möchtest du ein allgemeines Update von Heute oder Informationen über ein spezifischen Verein?: spezifisch\n",
      "Über welchen Verein möchtest du informationen haben ? vfb stuttgart\n",
      "Vfb Stuttgart hat heute neue Bilder hochgeladen mit dem Titel: \"Interview mit Tomma Hinke vom Spendenempfänger des Fankalenders 2024! – Commando Cannstatt 1997 – Ultras Stuttgart\"\n",
      "Möchtest du den Link?ja\n",
      " https://www.cannstatter-kurve.de/vfb-stuttgart-werder-bremen-02-12-2023/\n",
      "Chatbot\n",
      "möchtest du ein allgemeines Update von Heute oder Informationen über ein spezifischen Verein?: stop\n"
     ]
    }
   ],
   "source": [
    "running = True\n",
    "while running == True:\n",
    "\n",
    "\n",
    "\n",
    "    print(\"\"\"Chatbot\"\"\")\n",
    "\n",
    "    input_first = input(\"möchtest du ein allgemeines Update von Heute oder Informationen über ein spezifischen Verein?: \")\n",
    "\n",
    "    if \"Allgemein\".lower().strip() in input_first.lower().strip() or \"update\".lower().strip() in input_first.lower().strip():\n",
    "        print(f\"Neue bilder wurden hochgeladen von {vereine_bilder}\")\n",
    "        print(f\"Neue texte wurden hochgeladen von {vereine_texte}\")\n",
    "        running = False\n",
    "    \n",
    "    # fertig\n",
    "    \n",
    "    \n",
    "    \n",
    "    elif \"Verein\".lower().strip() in input_first.lower().strip() or \"Spezifisch\".lower().strip() in input_first.lower().strip() or \"Infos\".lower().strip() in input_first.lower().strip() :\n",
    "        input_ = input(\"Über welchen Verein möchtest du informationen haben ? \")\n",
    "\n",
    "        if input_.lower().strip() in vereine_texte_stand and input_.lower().strip() in vereine_bilder_stand:\n",
    "\n",
    "            text_titel = df_text_new[\"Text Titel\"][df_text_new[\"Verein\"] == input_.lower()].values[0]\n",
    "            bild_titel = df_bild_new[\"Bild Titel\"][df_bild_new[\"Verein\"] == input_.lower()].values[0]\n",
    "            print(f'{input_.title()} hat heute einen neuen Text hochgeladen mit dem Titel: \"{text_titel}\"')\n",
    "            print(f'{input_.title()} hat heute auch neue Bilder hochgeladen mit dem Titel: \"{bild_titel}\"')\n",
    "\n",
    "            input_2 = input(\"Möchtest du den Link?\")\n",
    "\n",
    "            if \"ja\".lower().strip() in input_2.lower().strip() or \"yes\".lower().strip() in input_2 or \"j\" in input_2.lower().strip():\n",
    "                bild_link = str(df_text_new[\"Neuste Bilder\"][df_text_new[\"Verein\"] == input_.lower()])[4:-35]\n",
    "                print(bild_link)\n",
    "                text_link = str(df_text_new[\"Neuster Text\"][df_text_new[\"Verein\"] == input_.lower()].values[0])[4:-34]\n",
    "                print(text_link)\n",
    "\n",
    "            else:\n",
    "                running = False\n",
    "\n",
    "\n",
    "        elif input_.lower().strip() in vereine_texte_stand:\n",
    "            text_titel = df_text_new[\"Text Titel\"][df_text_new[\"Verein\"] == input_.lower()].values[0]\n",
    "\n",
    "            print(f'{input_.title()} hat heute einen neuen Text hochgeladen mit dem Titel: \"{text_titel}\"')\n",
    "\n",
    "            input_2 = input(\"Möchtest du den Link?\")\n",
    "            if \"ja\".lower().strip() in input_2.lower().strip() or \"yes\".lower().strip() in input_2 or \"j\" in input_2.lower().strip():\n",
    "                text_link = str(df_text_new[\"Neuster Text\"][df_text_new[\"Verein\"] == input_.lower()])[4:-35]\n",
    "                print(text_link)\n",
    "            else:\n",
    "                running = False\n",
    "\n",
    "        elif input_.lower().strip() in vereine_bilder_stand:\n",
    "            bild_titel = df_bild_new[\"Text Titel\"][df_bild_new[\"Verein\"] == input_.lower()].values[0]\n",
    "\n",
    "            print(f'{input_.title()} hat heute neue Bilder hochgeladen mit dem Titel: \"{bild_titel}\"')\n",
    "\n",
    "            input_2 = input(\"Möchtest du den Link?: \")\n",
    "            if \"ja\".lower().strip() in input_2.lower().strip() or \"yes\".lower().strip() in input_2 or \"j\" in input_2.lower().strip():\n",
    "                bild_link = str(df_bild_new[\"Neuste Bilder\"][df_bild_new[\"Verein\"] == input_.lower()])[4:-35]\n",
    "                print(bild_link)\n",
    "            else:\n",
    "                running = False\n",
    "\n",
    "        else:\n",
    "            print(f\"{input_.title()} hat heute nichts neues veröffentlicht\")\n",
    "            running = False\n",
    "\n",
    "\n",
    "            \n",
    "    elif \"Stopp\".lower().strip() in input_first.lower().strip() or \"nein\".lower().strip() in input_first.lower() or len(input_first) <= 4:\n",
    "        running  = False\n",
    "    \n",
    "    else:\n",
    "        print(\"Tut mir leid ich habe dich leider nicht richtig verstanden\")\n",
    "        "
   ]
  }
 ],
 "metadata": {
  "kernelspec": {
   "display_name": "Python 3 (ipykernel)",
   "language": "python",
   "name": "python3"
  },
  "language_info": {
   "codemirror_mode": {
    "name": "ipython",
    "version": 3
   },
   "file_extension": ".py",
   "mimetype": "text/x-python",
   "name": "python",
   "nbconvert_exporter": "python",
   "pygments_lexer": "ipython3",
   "version": "3.11.4"
  }
 },
 "nbformat": 4,
 "nbformat_minor": 5
}
