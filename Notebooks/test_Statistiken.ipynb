{
 "cells": [
  {
   "cell_type": "code",
   "execution_count": 1,
   "id": "5311e9a2",
   "metadata": {},
   "outputs": [],
   "source": [
    "import pandas as pd\n",
    "from bs4 import BeautifulSoup\n",
    "import numpy as np\n",
    "import requests\n",
    "import matplotlib.pyplot as plt"
   ]
  },
  {
   "cell_type": "code",
   "execution_count": 28,
   "id": "b8af393b",
   "metadata": {
    "scrolled": true
   },
   "outputs": [],
   "source": [
    "df = pd.read_excel(\"/Users/henriksoeder/Documents/Arbeit/Python/Football_Scrape/Tabellen/neu_alles_datum.xlsx\")"
   ]
  },
  {
   "cell_type": "code",
   "execution_count": 3,
   "id": "3cf81cce",
   "metadata": {},
   "outputs": [],
   "source": [
    "df.drop(\"Unnamed: 0.3\", axis = 1, inplace = True)\n",
    "df.drop(\"Unnamed: 0.2\", axis = 1, inplace = True)\n",
    "df.drop(\"Unnamed: 0.1\", axis = 1, inplace = True)\n",
    "df.drop(\"Unnamed: 0\", axis = 1, inplace = True)"
   ]
  },
  {
   "cell_type": "code",
   "execution_count": 29,
   "id": "3dab8583",
   "metadata": {},
   "outputs": [],
   "source": [
    "df[\"Monat\"] = df['Datum'].dt.month\n",
    "df[\"Year\"] = df['Datum'].dt.year"
   ]
  },
  {
   "cell_type": "code",
   "execution_count": 5,
   "id": "a5072542",
   "metadata": {
    "scrolled": false
   },
   "outputs": [
    {
     "data": {
      "text/html": [
       "<div>\n",
       "<style scoped>\n",
       "    .dataframe tbody tr th:only-of-type {\n",
       "        vertical-align: middle;\n",
       "    }\n",
       "\n",
       "    .dataframe tbody tr th {\n",
       "        vertical-align: top;\n",
       "    }\n",
       "\n",
       "    .dataframe thead th {\n",
       "        text-align: right;\n",
       "    }\n",
       "</style>\n",
       "<table border=\"1\" class=\"dataframe\">\n",
       "  <thead>\n",
       "    <tr style=\"text-align: right;\">\n",
       "      <th></th>\n",
       "      <th></th>\n",
       "      <th></th>\n",
       "      <th>Name</th>\n",
       "    </tr>\n",
       "    <tr>\n",
       "      <th>Year</th>\n",
       "      <th>Monat</th>\n",
       "      <th>Verein</th>\n",
       "      <th></th>\n",
       "    </tr>\n",
       "  </thead>\n",
       "  <tbody>\n",
       "    <tr>\n",
       "      <th rowspan=\"11\" valign=\"top\">2023</th>\n",
       "      <th>3</th>\n",
       "      <th>Hamburger SV</th>\n",
       "      <td>4</td>\n",
       "    </tr>\n",
       "    <tr>\n",
       "      <th>4</th>\n",
       "      <th>Hamburger SV</th>\n",
       "      <td>5</td>\n",
       "    </tr>\n",
       "    <tr>\n",
       "      <th>5</th>\n",
       "      <th>Hamburger SV</th>\n",
       "      <td>4</td>\n",
       "    </tr>\n",
       "    <tr>\n",
       "      <th>6</th>\n",
       "      <th>Hamburger SV</th>\n",
       "      <td>2</td>\n",
       "    </tr>\n",
       "    <tr>\n",
       "      <th>7</th>\n",
       "      <th>Hamburger SV</th>\n",
       "      <td>2</td>\n",
       "    </tr>\n",
       "    <tr>\n",
       "      <th>8</th>\n",
       "      <th>Hamburger SV</th>\n",
       "      <td>4</td>\n",
       "    </tr>\n",
       "    <tr>\n",
       "      <th>9</th>\n",
       "      <th>Hamburger SV</th>\n",
       "      <td>4</td>\n",
       "    </tr>\n",
       "    <tr>\n",
       "      <th>10</th>\n",
       "      <th>Hamburger SV</th>\n",
       "      <td>5</td>\n",
       "    </tr>\n",
       "    <tr>\n",
       "      <th>11</th>\n",
       "      <th>Hamburger SV</th>\n",
       "      <td>4</td>\n",
       "    </tr>\n",
       "    <tr>\n",
       "      <th rowspan=\"2\" valign=\"top\">12</th>\n",
       "      <th>Borussia Dortmund</th>\n",
       "      <td>4</td>\n",
       "    </tr>\n",
       "    <tr>\n",
       "      <th>Hamburger SV</th>\n",
       "      <td>2</td>\n",
       "    </tr>\n",
       "  </tbody>\n",
       "</table>\n",
       "</div>"
      ],
      "text/plain": [
       "                              Name\n",
       "Year Monat Verein                 \n",
       "2023 3     Hamburger SV          4\n",
       "     4     Hamburger SV          5\n",
       "     5     Hamburger SV          4\n",
       "     6     Hamburger SV          2\n",
       "     7     Hamburger SV          2\n",
       "     8     Hamburger SV          4\n",
       "     9     Hamburger SV          4\n",
       "     10    Hamburger SV          5\n",
       "     11    Hamburger SV          4\n",
       "     12    Borussia Dortmund     4\n",
       "           Hamburger SV          2"
      ]
     },
     "execution_count": 5,
     "metadata": {},
     "output_type": "execute_result"
    }
   ],
   "source": [
    "df[(df[\"Verein\"] == \"Hamburger SV\")|(df[\"Verein\"] == \"Borussia Dortmund\")].groupby([\"Year\", \"Monat\",\"Verein\"]).agg({\"Name\" : \"count\"})"
   ]
  },
  {
   "cell_type": "markdown",
   "id": "d644de8b",
   "metadata": {},
   "source": [
    "### Line Graph"
   ]
  },
  {
   "cell_type": "code",
   "execution_count": 33,
   "id": "800a5e46",
   "metadata": {},
   "outputs": [],
   "source": [
    "df = pd.read_excel(\"/Users/henriksoeder/Documents/Arbeit/Python/Football_Scrape/Tabellen/neu_alles_datum.xlsx\")"
   ]
  },
  {
   "cell_type": "code",
   "execution_count": 309,
   "id": "0a0f330b",
   "metadata": {},
   "outputs": [],
   "source": [
    "df[\"Monat\"] = df['Datum'].dt.month\n",
    "df[\"Year\"] = df['Datum'].dt.year"
   ]
  },
  {
   "cell_type": "code",
   "execution_count": 44,
   "id": "3137dacb",
   "metadata": {},
   "outputs": [],
   "source": [
    "input_2 = \"Hamburger SV\"\n",
    "input_3 = \"Borussia Dortmund\""
   ]
  },
  {
   "cell_type": "code",
   "execution_count": 36,
   "id": "ae817835",
   "metadata": {},
   "outputs": [],
   "source": [
    "df_line_graph = df[df[\"Verein\"] == input_2].groupby([\"Year\", \"Monat\",\"Verein\"]).agg({\"Name\" : \"count\"})\n",
    "\n",
    "df_line_graph.rename(columns = {\"Name\" : \"Anzahl\"}, inplace = True)\n",
    "df_line_graph.reset_index(inplace = True)"
   ]
  },
  {
   "cell_type": "code",
   "execution_count": 40,
   "id": "09766b7b",
   "metadata": {
    "collapsed": true
   },
   "outputs": [
    {
     "data": {
      "image/png": "[encoded data removed]",
      "text/plain": [
       "<Figure size 640x480 with 1 Axes>"
      ]
     },
     "metadata": {},
     "output_type": "display_data"
    }
   ],
   "source": [
    "x = df_line_graph[\"Monat\"]\n",
    "y = df_line_graph[\"Anzahl\"]\n",
    "\n",
    "max_ = df_line_graph[\"Anzahl\"].max()\n",
    "\n",
    "plt.plot(x,y, linewidth=2, color='black')\n",
    "\n",
    "plt.xlabel('Month', fontsize = 11)\n",
    "plt.ylabel('Posts', fontsize = 11)\n",
    "plt.title('Posts per month', fontsize = 18)\n",
    "\n",
    "\n",
    "plt.xticks(range(1, 13), ['Jan', 'Feb', 'Mrz', 'Apr', 'Mai', \"Jun\", \"Jul\", \"Aug\", \"Sept\", \"Okt\", \"Nov\", \"Dez\"])\n",
    "plt.yticks(range(0,max_+2))\n",
    "\n",
    "ax = plt.gca()\n",
    "ax.spines['top'].set_visible(False)  # Obere Achsenlinie entfernen\n",
    "ax.spines['right'].set_visible(False)  # Rechte Achsenlinie entfernen\n",
    "ax.spines['bottom'].set_visible(True)  # Untere Achsenlinie beibehalten\n",
    "ax.spines['left'].set_visible(True)\n",
    "\n",
    "\n",
    "plt.show()"
   ]
  },
  {
   "cell_type": "markdown",
   "id": "04be3341",
   "metadata": {},
   "source": [
    "### head to head"
   ]
  },
  {
   "cell_type": "code",
   "execution_count": 51,
   "id": "db0bc6b8",
   "metadata": {},
   "outputs": [],
   "source": [
    "df_h2h = df[(df[\"Verein\"] == input_2)|(df[\"Verein\"] == input_3)].groupby([\"Verein\"]).agg({\"Name\" : \"count\"})"
   ]
  },
  {
   "cell_type": "code",
   "execution_count": 52,
   "id": "bcf484fd",
   "metadata": {},
   "outputs": [],
   "source": [
    "df_h2h.rename(columns = {\"Name\" : \"Anzahl\"}, inplace = True)\n",
    "df_h2h.reset_index(inplace = True)"
   ]
  },
  {
   "cell_type": "code",
   "execution_count": null,
   "id": "39258e05",
   "metadata": {},
   "outputs": [],
   "source": [
    "x = df_line_graph[\"Verein\"]\n",
    "y = df_line_graph[\"Anzahl\"]\n",
    "max_ = df_line_graph[\"Anzahl\"].max()"
   ]
  },
  {
   "cell_type": "code",
   "execution_count": 96,
   "id": "08bd2c68",
   "metadata": {},
   "outputs": [
    {
     "data": {
      "image/png": "[encoded data removed]",
      "text/plain": [
       "<Figure size 640x480 with 1 Axes>"
      ]
     },
     "metadata": {},
     "output_type": "display_data"
    }
   ],
   "source": [
    "club_a = df_h2h[\"Anzahl\"][df_h2h[\"Verein\"] == input_2].values[0]\n",
    "club_b = df_h2h[\"Anzahl\"][df_h2h[\"Verein\"] == input_3].values[0]\n",
    "categories = ['Gesamt']\n",
    "\n",
    "\n",
    "plt.title(\"Head to Head\", fontsize = 20)\n",
    "\n",
    "\n",
    "# Breite der Balken\n",
    "bar_width = 0.3\n",
    "\n",
    "# Indizes für die x-Positionen der Balken\n",
    "index = range(len(categories))\n",
    "\n",
    "# Bar-Charts nebeneinander erstellen\n",
    "plt.bar(index, club_a, width=bar_width, label=input_2, color = \"#222A35\")\n",
    "plt.bar([i + bar_width+ 0.1 for i in index], club_b, width=bar_width, label=input_3, color = \"#AFABAB\")\n",
    "\n",
    "# Kategorien auf der x-Achse setzen\n",
    "plt.xticks([i + bar_width/2 for i in index], categories)\n",
    "\n",
    "# Achsentitel hinzufügen\n",
    "\n",
    "plt.ylabel('Anzahl Beiträge', fontsize = 14)\n",
    "\n",
    "\n",
    "\n",
    "\n",
    "ax = plt.gca()\n",
    "ax.spines['top'].set_visible(False)  # Obere Achsenlinie entfernen\n",
    "ax.spines['right'].set_visible(False)  # Rechte Achsenlinie entfernen\n",
    "ax.spines['bottom'].set_visible(True)  # Untere Achsenlinie beibehalten\n",
    "ax.spines['left'].set_visible(True)\n",
    "\n",
    "# Legende anzeigen\n",
    "plt.legend()\n",
    "\n",
    "# Diagramm anzeigen\n",
    "plt.show()"
   ]
  },
  {
   "cell_type": "markdown",
   "id": "f0154e45",
   "metadata": {},
   "source": [
    "### Leagues"
   ]
  },
  {
   "cell_type": "code",
   "execution_count": 308,
   "id": "8ea4c3a2",
   "metadata": {},
   "outputs": [],
   "source": [
    "df = pd.read_excel(\"/Users/henriksoeder/Documents/Arbeit/Python/Football_Scrape/Tabellen/neu_alles_datum.xlsx\")"
   ]
  },
  {
   "cell_type": "markdown",
   "id": "2f9b56fb",
   "metadata": {},
   "source": [
    "### Erste Liga"
   ]
  },
  {
   "cell_type": "code",
   "execution_count": 310,
   "id": "6f63e90c",
   "metadata": {},
   "outputs": [
    {
     "data": {
      "text/html": [
       "<div>\n",
       "<style scoped>\n",
       "    .dataframe tbody tr th:only-of-type {\n",
       "        vertical-align: middle;\n",
       "    }\n",
       "\n",
       "    .dataframe tbody tr th {\n",
       "        vertical-align: top;\n",
       "    }\n",
       "\n",
       "    .dataframe thead th {\n",
       "        text-align: right;\n",
       "    }\n",
       "</style>\n",
       "<table border=\"1\" class=\"dataframe\">\n",
       "  <thead>\n",
       "    <tr style=\"text-align: right;\">\n",
       "      <th></th>\n",
       "      <th>index</th>\n",
       "      <th>avg_att</th>\n",
       "    </tr>\n",
       "  </thead>\n",
       "  <tbody>\n",
       "    <tr>\n",
       "      <th>0</th>\n",
       "      <td>12.0</td>\n",
       "      <td>2.181818</td>\n",
       "    </tr>\n",
       "    <tr>\n",
       "      <th>1</th>\n",
       "      <td>3.0</td>\n",
       "      <td>3.000000</td>\n",
       "    </tr>\n",
       "    <tr>\n",
       "      <th>2</th>\n",
       "      <td>8.0</td>\n",
       "      <td>5.000000</td>\n",
       "    </tr>\n",
       "    <tr>\n",
       "      <th>3</th>\n",
       "      <td>9.0</td>\n",
       "      <td>2.500000</td>\n",
       "    </tr>\n",
       "    <tr>\n",
       "      <th>4</th>\n",
       "      <td>10.0</td>\n",
       "      <td>6.500000</td>\n",
       "    </tr>\n",
       "    <tr>\n",
       "      <th>5</th>\n",
       "      <td>11.0</td>\n",
       "      <td>3.500000</td>\n",
       "    </tr>\n",
       "    <tr>\n",
       "      <th>6</th>\n",
       "      <td>4.0</td>\n",
       "      <td>3.000000</td>\n",
       "    </tr>\n",
       "    <tr>\n",
       "      <th>7</th>\n",
       "      <td>5.0</td>\n",
       "      <td>4.000000</td>\n",
       "    </tr>\n",
       "    <tr>\n",
       "      <th>8</th>\n",
       "      <td>6.0</td>\n",
       "      <td>2.000000</td>\n",
       "    </tr>\n",
       "  </tbody>\n",
       "</table>\n",
       "</div>"
      ],
      "text/plain": [
       "   index   avg_att\n",
       "0   12.0  2.181818\n",
       "1    3.0  3.000000\n",
       "2    8.0  5.000000\n",
       "3    9.0  2.500000\n",
       "4   10.0  6.500000\n",
       "5   11.0  3.500000\n",
       "6    4.0  3.000000\n",
       "7    5.0  4.000000\n",
       "8    6.0  2.000000"
      ]
     },
     "execution_count": 310,
     "metadata": {},
     "output_type": "execute_result"
    }
   ],
   "source": [
    "df1 = df[df[\"Liga\"]==\"1. Bundesliga\"]\n",
    "df1_g = df1.groupby([\"Verein\", \"Monat\"]).agg({\"Name\":\"count\"}).reset_index()\n",
    "\n",
    "my_dict = {}\n",
    "\n",
    "for val in df1_g[\"Monat\"].values:\n",
    "    x = df1_g[df1_g[\"Monat\"]==val][\"Name\"].mean()\n",
    "    my_dict[val] = x\n",
    "    \n",
    "l = pd.DataFrame.from_dict(my_dict, orient=\"index\", columns = [\"avg_att\"]).reset_index()\n",
    "l"
   ]
  },
  {
   "cell_type": "code",
   "execution_count": 311,
   "id": "7a59a82e",
   "metadata": {},
   "outputs": [],
   "source": [
    "df1_done = pd.merge(left = df1, right=l, left_on= \"Monat\", right_on = \"index\")"
   ]
  },
  {
   "cell_type": "markdown",
   "id": "b5307e97",
   "metadata": {},
   "source": [
    "### Zweite Liga"
   ]
  },
  {
   "cell_type": "code",
   "execution_count": 312,
   "id": "b68824b8",
   "metadata": {
    "scrolled": true
   },
   "outputs": [
    {
     "data": {
      "text/html": [
       "<div>\n",
       "<style scoped>\n",
       "    .dataframe tbody tr th:only-of-type {\n",
       "        vertical-align: middle;\n",
       "    }\n",
       "\n",
       "    .dataframe tbody tr th {\n",
       "        vertical-align: top;\n",
       "    }\n",
       "\n",
       "    .dataframe thead th {\n",
       "        text-align: right;\n",
       "    }\n",
       "</style>\n",
       "<table border=\"1\" class=\"dataframe\">\n",
       "  <thead>\n",
       "    <tr style=\"text-align: right;\">\n",
       "      <th></th>\n",
       "      <th>index</th>\n",
       "      <th>avg_att</th>\n",
       "    </tr>\n",
       "  </thead>\n",
       "  <tbody>\n",
       "    <tr>\n",
       "      <th>0</th>\n",
       "      <td>12.0</td>\n",
       "      <td>2.25</td>\n",
       "    </tr>\n",
       "    <tr>\n",
       "      <th>1</th>\n",
       "      <td>3.0</td>\n",
       "      <td>4.00</td>\n",
       "    </tr>\n",
       "    <tr>\n",
       "      <th>2</th>\n",
       "      <td>4.0</td>\n",
       "      <td>5.00</td>\n",
       "    </tr>\n",
       "    <tr>\n",
       "      <th>3</th>\n",
       "      <td>5.0</td>\n",
       "      <td>4.00</td>\n",
       "    </tr>\n",
       "    <tr>\n",
       "      <th>4</th>\n",
       "      <td>6.0</td>\n",
       "      <td>2.00</td>\n",
       "    </tr>\n",
       "    <tr>\n",
       "      <th>5</th>\n",
       "      <td>7.0</td>\n",
       "      <td>2.00</td>\n",
       "    </tr>\n",
       "    <tr>\n",
       "      <th>6</th>\n",
       "      <td>8.0</td>\n",
       "      <td>4.00</td>\n",
       "    </tr>\n",
       "    <tr>\n",
       "      <th>7</th>\n",
       "      <td>9.0</td>\n",
       "      <td>4.00</td>\n",
       "    </tr>\n",
       "    <tr>\n",
       "      <th>8</th>\n",
       "      <td>10.0</td>\n",
       "      <td>5.00</td>\n",
       "    </tr>\n",
       "    <tr>\n",
       "      <th>9</th>\n",
       "      <td>11.0</td>\n",
       "      <td>4.00</td>\n",
       "    </tr>\n",
       "  </tbody>\n",
       "</table>\n",
       "</div>"
      ],
      "text/plain": [
       "   index  avg_att\n",
       "0   12.0     2.25\n",
       "1    3.0     4.00\n",
       "2    4.0     5.00\n",
       "3    5.0     4.00\n",
       "4    6.0     2.00\n",
       "5    7.0     2.00\n",
       "6    8.0     4.00\n",
       "7    9.0     4.00\n",
       "8   10.0     5.00\n",
       "9   11.0     4.00"
      ]
     },
     "execution_count": 312,
     "metadata": {},
     "output_type": "execute_result"
    }
   ],
   "source": [
    "df2 = df[df[\"Liga\"]==\"2. Bundesliga\"]\n",
    "df2_g = df2.groupby([\"Verein\", \"Monat\"]).agg({\"Name\":\"count\"}).reset_index()\n",
    "\n",
    "my_dict = {}\n",
    "\n",
    "for val in df2_g[\"Monat\"].values:\n",
    "    x = df2_g[df2_g[\"Monat\"]==val][\"Name\"].mean()\n",
    "    my_dict[val] = x\n",
    "    \n",
    "x = pd.DataFrame.from_dict(my_dict, orient=\"index\", columns = [\"avg_att\"]).reset_index()\n",
    "x"
   ]
  },
  {
   "cell_type": "code",
   "execution_count": 313,
   "id": "74acc2e8",
   "metadata": {
    "scrolled": true
   },
   "outputs": [],
   "source": [
    "df2_done = pd.merge(left = df2, right=x, left_on= \"Monat\", right_on = \"index\")"
   ]
  },
  {
   "cell_type": "markdown",
   "id": "eb59a1b6",
   "metadata": {},
   "source": [
    "### Dritte liga"
   ]
  },
  {
   "cell_type": "code",
   "execution_count": 314,
   "id": "fd410b4a",
   "metadata": {},
   "outputs": [
    {
     "data": {
      "text/html": [
       "<div>\n",
       "<style scoped>\n",
       "    .dataframe tbody tr th:only-of-type {\n",
       "        vertical-align: middle;\n",
       "    }\n",
       "\n",
       "    .dataframe tbody tr th {\n",
       "        vertical-align: top;\n",
       "    }\n",
       "\n",
       "    .dataframe thead th {\n",
       "        text-align: right;\n",
       "    }\n",
       "</style>\n",
       "<table border=\"1\" class=\"dataframe\">\n",
       "  <thead>\n",
       "    <tr style=\"text-align: right;\">\n",
       "      <th></th>\n",
       "      <th>index</th>\n",
       "      <th>avg_att</th>\n",
       "    </tr>\n",
       "  </thead>\n",
       "  <tbody>\n",
       "    <tr>\n",
       "      <th>0</th>\n",
       "      <td>4.0</td>\n",
       "      <td>1.50</td>\n",
       "    </tr>\n",
       "    <tr>\n",
       "      <th>1</th>\n",
       "      <td>5.0</td>\n",
       "      <td>1.50</td>\n",
       "    </tr>\n",
       "    <tr>\n",
       "      <th>2</th>\n",
       "      <td>8.0</td>\n",
       "      <td>6.50</td>\n",
       "    </tr>\n",
       "    <tr>\n",
       "      <th>3</th>\n",
       "      <td>9.0</td>\n",
       "      <td>3.50</td>\n",
       "    </tr>\n",
       "    <tr>\n",
       "      <th>4</th>\n",
       "      <td>10.0</td>\n",
       "      <td>6.50</td>\n",
       "    </tr>\n",
       "    <tr>\n",
       "      <th>5</th>\n",
       "      <td>11.0</td>\n",
       "      <td>4.50</td>\n",
       "    </tr>\n",
       "    <tr>\n",
       "      <th>6</th>\n",
       "      <td>12.0</td>\n",
       "      <td>1.75</td>\n",
       "    </tr>\n",
       "    <tr>\n",
       "      <th>7</th>\n",
       "      <td>3.0</td>\n",
       "      <td>3.00</td>\n",
       "    </tr>\n",
       "    <tr>\n",
       "      <th>8</th>\n",
       "      <td>6.0</td>\n",
       "      <td>1.00</td>\n",
       "    </tr>\n",
       "  </tbody>\n",
       "</table>\n",
       "</div>"
      ],
      "text/plain": [
       "   index  avg_att\n",
       "0    4.0     1.50\n",
       "1    5.0     1.50\n",
       "2    8.0     6.50\n",
       "3    9.0     3.50\n",
       "4   10.0     6.50\n",
       "5   11.0     4.50\n",
       "6   12.0     1.75\n",
       "7    3.0     3.00\n",
       "8    6.0     1.00"
      ]
     },
     "execution_count": 314,
     "metadata": {},
     "output_type": "execute_result"
    }
   ],
   "source": [
    "df3 = df[df[\"Liga\"]==\"3. Bundesliga\"]\n",
    "df3_g = df3.groupby([\"Verein\", \"Monat\"]).agg({\"Name\":\"count\"}).reset_index()\n",
    "\n",
    "my_dict = {}\n",
    "\n",
    "for val in df3_g[\"Monat\"].values: #try except\n",
    "    x = df3_g[df3_g[\"Monat\"]==val][\"Name\"].mean()\n",
    "    my_dict[val] = x\n",
    "    \n",
    "j = pd.DataFrame.from_dict(my_dict, orient=\"index\", columns = [\"avg_att\"]).reset_index()\n",
    "j"
   ]
  },
  {
   "cell_type": "code",
   "execution_count": 315,
   "id": "2ba7d39a",
   "metadata": {},
   "outputs": [],
   "source": [
    "df3_done = pd.merge(left = df3, right=j, left_on= \"Monat\", right_on = \"index\")"
   ]
  },
  {
   "cell_type": "markdown",
   "id": "4a9698ab",
   "metadata": {},
   "source": [
    "## Concatinating"
   ]
  },
  {
   "cell_type": "code",
   "execution_count": 316,
   "id": "c818fb60",
   "metadata": {},
   "outputs": [],
   "source": [
    "df_done = pd.concat([df1_done, df2_done, df3_done])"
   ]
  },
  {
   "cell_type": "code",
   "execution_count": 317,
   "id": "4c7af6d6",
   "metadata": {},
   "outputs": [],
   "source": [
    "df_average = df_done.groupby([\"Liga\", \"Monat\"]).agg({\"avg_att\":\"mean\"})"
   ]
  },
  {
   "cell_type": "markdown",
   "id": "b5656c53",
   "metadata": {},
   "source": [
    "### Final Changes"
   ]
  },
  {
   "cell_type": "code",
   "execution_count": 318,
   "id": "6e5a1410",
   "metadata": {},
   "outputs": [],
   "source": [
    "df_average = df_done.groupby([\"Liga\", \"Monat\"]).agg({\"avg_att\":\"mean\"})\n",
    "df_average.rename(columns = {\"avg_att\" : \"average\"}, inplace = True)\n",
    "df_average.reset_index(inplace = True)"
   ]
  },
  {
   "cell_type": "code",
   "execution_count": 323,
   "id": "2baf4ac1",
   "metadata": {},
   "outputs": [
    {
     "data": {
      "image/png": "[encoded data removed]",
      "text/plain": [
       "<Figure size 640x480 with 1 Axes>"
      ]
     },
     "metadata": {},
     "output_type": "display_data"
    }
   ],
   "source": [
    "x1 = df_average[\"Monat\"][df_average[\"Liga\"] == \"1. Bundesliga\"]\n",
    "x2 = df_average[\"Monat\"][df_average[\"Liga\"] == \"2. Bundesliga\"]\n",
    "x3 = df_average[\"Monat\"][df_average[\"Liga\"] == \"3. Bundesliga\"]\n",
    "\n",
    "y1 = df_average[\"average\"][df_average[\"Liga\"] == \"1. Bundesliga\"]\n",
    "y2 = df_average[\"average\"][df_average[\"Liga\"] == \"2. Bundesliga\"]\n",
    "y3 = df_average[\"average\"][df_average[\"Liga\"] == \"3. Bundesliga\"]\n",
    "\n",
    "\n",
    "\n",
    "plt.plot(x1,y1,linewidth=2, color='#00B0F0',  label = \"1. Bundesliga\")\n",
    "plt.plot(x2,y2 ,linewidth=2, color='#222A35', label = \"2. Bundesliga\")\n",
    "plt.plot(x3,y3,linewidth=2,  color='#AFABAB',label = \"3. Liga\")\n",
    "\n",
    "plt.xlabel('Month', fontsize = 11)\n",
    "plt.ylabel('Average', fontsize = 11)\n",
    "plt.title('Avg Posts per month', fontsize = 18)\n",
    "\n",
    "\n",
    "max_ = df_average[\"average\"].max()\n",
    "\n",
    "\n",
    "plt.xticks(range(1, 13), ['Jan', 'Feb', 'Mrz', 'Apr', 'Mai', \"Jun\", \"Jul\", \"Aug\", \"Sept\", \"Okt\", \"Nov\", \"Dez\"])\n",
    "plt.yticks(range(0,11))\n",
    "\n",
    "ax = plt.gca()\n",
    "ax.spines['top'].set_visible(False)  # Obere Achsenlinie entfernen\n",
    "ax.spines['right'].set_visible(False)  # Rechte Achsenlinie entfernen\n",
    "ax.spines['bottom'].set_visible(True)  # Untere Achsenlinie beibehalten\n",
    "ax.spines['left'].set_visible(True)\n",
    "\n",
    "\n",
    "plt.legend()\n",
    "\n",
    "plt.show()"
   ]
  }
 ],
 "metadata": {
  "kernelspec": {
   "display_name": "Python 3 (ipykernel)",
   "language": "python",
   "name": "python3"
  },
  "language_info": {
   "codemirror_mode": {
    "name": "ipython",
    "version": 3
   },
   "file_extension": ".py",
   "mimetype": "text/x-python",
   "name": "python",
   "nbconvert_exporter": "python",
   "pygments_lexer": "ipython3",
   "version": "3.11.4"
  }
 },
 "nbformat": 4,
 "nbformat_minor": 5
}
